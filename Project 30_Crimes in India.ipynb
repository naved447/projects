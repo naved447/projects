{
 "cells": [
  {
   "cell_type": "code",
   "execution_count": 1,
   "metadata": {},
   "outputs": [],
   "source": [
    "import pandas as pd\n",
    "import numpy as np"
   ]
  },
  {
   "cell_type": "code",
   "execution_count": 8,
   "metadata": {},
   "outputs": [],
   "source": [
    "df=pd.read_csv('victims_of_rape.csv')"
   ]
  },
  {
   "cell_type": "code",
   "execution_count": 9,
   "metadata": {},
   "outputs": [
    {
     "data": {
      "text/html": [
       "<div>\n",
       "<style scoped>\n",
       "    .dataframe tbody tr th:only-of-type {\n",
       "        vertical-align: middle;\n",
       "    }\n",
       "\n",
       "    .dataframe tbody tr th {\n",
       "        vertical-align: top;\n",
       "    }\n",
       "\n",
       "    .dataframe thead th {\n",
       "        text-align: right;\n",
       "    }\n",
       "</style>\n",
       "<table border=\"1\" class=\"dataframe\">\n",
       "  <thead>\n",
       "    <tr style=\"text-align: right;\">\n",
       "      <th></th>\n",
       "      <th>Area_Name</th>\n",
       "      <th>Year</th>\n",
       "      <th>Subgroup</th>\n",
       "      <th>Rape_Cases_Reported</th>\n",
       "      <th>Victims_Above_50_Yrs</th>\n",
       "      <th>Victims_Between_10-14_Yrs</th>\n",
       "      <th>Victims_Between_14-18_Yrs</th>\n",
       "      <th>Victims_Between_18-30_Yrs</th>\n",
       "      <th>Victims_Between_30-50_Yrs</th>\n",
       "      <th>Victims_of_Rape_Total</th>\n",
       "      <th>Victims_Upto_10_Yrs</th>\n",
       "    </tr>\n",
       "  </thead>\n",
       "  <tbody>\n",
       "    <tr>\n",
       "      <th>0</th>\n",
       "      <td>Andaman &amp; Nicobar Islands</td>\n",
       "      <td>2001</td>\n",
       "      <td>Total Rape Victims</td>\n",
       "      <td>3</td>\n",
       "      <td>0</td>\n",
       "      <td>0</td>\n",
       "      <td>3</td>\n",
       "      <td>0</td>\n",
       "      <td>0</td>\n",
       "      <td>3</td>\n",
       "      <td>0</td>\n",
       "    </tr>\n",
       "    <tr>\n",
       "      <th>1</th>\n",
       "      <td>Andaman &amp; Nicobar Islands</td>\n",
       "      <td>2001</td>\n",
       "      <td>Victims of Incest Rape</td>\n",
       "      <td>1</td>\n",
       "      <td>0</td>\n",
       "      <td>0</td>\n",
       "      <td>1</td>\n",
       "      <td>0</td>\n",
       "      <td>0</td>\n",
       "      <td>1</td>\n",
       "      <td>0</td>\n",
       "    </tr>\n",
       "    <tr>\n",
       "      <th>2</th>\n",
       "      <td>Andaman &amp; Nicobar Islands</td>\n",
       "      <td>2001</td>\n",
       "      <td>Victims of Other Rape</td>\n",
       "      <td>2</td>\n",
       "      <td>0</td>\n",
       "      <td>0</td>\n",
       "      <td>2</td>\n",
       "      <td>0</td>\n",
       "      <td>0</td>\n",
       "      <td>2</td>\n",
       "      <td>0</td>\n",
       "    </tr>\n",
       "    <tr>\n",
       "      <th>3</th>\n",
       "      <td>Andaman &amp; Nicobar Islands</td>\n",
       "      <td>2002</td>\n",
       "      <td>Total Rape Victims</td>\n",
       "      <td>2</td>\n",
       "      <td>0</td>\n",
       "      <td>0</td>\n",
       "      <td>1</td>\n",
       "      <td>1</td>\n",
       "      <td>0</td>\n",
       "      <td>2</td>\n",
       "      <td>0</td>\n",
       "    </tr>\n",
       "    <tr>\n",
       "      <th>4</th>\n",
       "      <td>Andaman &amp; Nicobar Islands</td>\n",
       "      <td>2002</td>\n",
       "      <td>Victims of Incest Rape</td>\n",
       "      <td>0</td>\n",
       "      <td>0</td>\n",
       "      <td>0</td>\n",
       "      <td>0</td>\n",
       "      <td>0</td>\n",
       "      <td>0</td>\n",
       "      <td>0</td>\n",
       "      <td>0</td>\n",
       "    </tr>\n",
       "  </tbody>\n",
       "</table>\n",
       "</div>"
      ],
      "text/plain": [
       "                   Area_Name  Year                Subgroup  \\\n",
       "0  Andaman & Nicobar Islands  2001      Total Rape Victims   \n",
       "1  Andaman & Nicobar Islands  2001  Victims of Incest Rape   \n",
       "2  Andaman & Nicobar Islands  2001   Victims of Other Rape   \n",
       "3  Andaman & Nicobar Islands  2002      Total Rape Victims   \n",
       "4  Andaman & Nicobar Islands  2002  Victims of Incest Rape   \n",
       "\n",
       "   Rape_Cases_Reported  Victims_Above_50_Yrs  Victims_Between_10-14_Yrs  \\\n",
       "0                    3                     0                          0   \n",
       "1                    1                     0                          0   \n",
       "2                    2                     0                          0   \n",
       "3                    2                     0                          0   \n",
       "4                    0                     0                          0   \n",
       "\n",
       "   Victims_Between_14-18_Yrs  Victims_Between_18-30_Yrs  \\\n",
       "0                          3                          0   \n",
       "1                          1                          0   \n",
       "2                          2                          0   \n",
       "3                          1                          1   \n",
       "4                          0                          0   \n",
       "\n",
       "   Victims_Between_30-50_Yrs  Victims_of_Rape_Total  Victims_Upto_10_Yrs  \n",
       "0                          0                      3                    0  \n",
       "1                          0                      1                    0  \n",
       "2                          0                      2                    0  \n",
       "3                          0                      2                    0  \n",
       "4                          0                      0                    0  "
      ]
     },
     "execution_count": 9,
     "metadata": {},
     "output_type": "execute_result"
    }
   ],
   "source": [
    "df.head()"
   ]
  },
  {
   "cell_type": "code",
   "execution_count": 10,
   "metadata": {},
   "outputs": [],
   "source": [
    "import seaborn as sns\n",
    "import matplotlib.pyplot as plt"
   ]
  },
  {
   "cell_type": "code",
   "execution_count": 11,
   "metadata": {},
   "outputs": [
    {
     "data": {
      "text/plain": [
       "<matplotlib.axes._subplots.AxesSubplot at 0x2c646615fd0>"
      ]
     },
     "execution_count": 11,
     "metadata": {},
     "output_type": "execute_result"
    },
    {
     "data": {
      "image/png": "[encoded data removed]",
      "text/plain": [
       "<Figure size 432x288 with 2 Axes>"
      ]
     },
     "metadata": {
      "needs_background": "light"
     },
     "output_type": "display_data"
    }
   ],
   "source": [
    "sns.heatmap(df.isnull())"
   ]
  },
  {
   "cell_type": "code",
   "execution_count": 12,
   "metadata": {},
   "outputs": [
    {
     "data": {
      "text/plain": [
       "Area_Name                    object\n",
       "Year                          int64\n",
       "Subgroup                     object\n",
       "Rape_Cases_Reported           int64\n",
       "Victims_Above_50_Yrs          int64\n",
       "Victims_Between_10-14_Yrs     int64\n",
       "Victims_Between_14-18_Yrs     int64\n",
       "Victims_Between_18-30_Yrs     int64\n",
       "Victims_Between_30-50_Yrs     int64\n",
       "Victims_of_Rape_Total         int64\n",
       "Victims_Upto_10_Yrs           int64\n",
       "dtype: object"
      ]
     },
     "execution_count": 12,
     "metadata": {},
     "output_type": "execute_result"
    }
   ],
   "source": [
    "df.dtypes"
   ]
  },
  {
   "cell_type": "code",
   "execution_count": 13,
   "metadata": {},
   "outputs": [
    {
     "data": {
      "text/plain": [
       "(1050, 11)"
      ]
     },
     "execution_count": 13,
     "metadata": {},
     "output_type": "execute_result"
    }
   ],
   "source": [
    "df.shape"
   ]
  },
  {
   "cell_type": "code",
   "execution_count": 14,
   "metadata": {},
   "outputs": [
    {
     "data": {
      "text/html": [
       "<div>\n",
       "<style scoped>\n",
       "    .dataframe tbody tr th:only-of-type {\n",
       "        vertical-align: middle;\n",
       "    }\n",
       "\n",
       "    .dataframe tbody tr th {\n",
       "        vertical-align: top;\n",
       "    }\n",
       "\n",
       "    .dataframe thead th {\n",
       "        text-align: right;\n",
       "    }\n",
       "</style>\n",
       "<table border=\"1\" class=\"dataframe\">\n",
       "  <thead>\n",
       "    <tr style=\"text-align: right;\">\n",
       "      <th></th>\n",
       "      <th>Area_Name</th>\n",
       "      <th>Year</th>\n",
       "      <th>Subgroup</th>\n",
       "      <th>Rape_Cases_Reported</th>\n",
       "      <th>Victims_Above_50_Yrs</th>\n",
       "      <th>Victims_Between_10-14_Yrs</th>\n",
       "      <th>Victims_Between_14-18_Yrs</th>\n",
       "      <th>Victims_Between_18-30_Yrs</th>\n",
       "      <th>Victims_Between_30-50_Yrs</th>\n",
       "      <th>Victims_of_Rape_Total</th>\n",
       "      <th>Victims_Upto_10_Yrs</th>\n",
       "    </tr>\n",
       "  </thead>\n",
       "  <tbody>\n",
       "    <tr>\n",
       "      <th>1</th>\n",
       "      <td>Andaman &amp; Nicobar Islands</td>\n",
       "      <td>2001</td>\n",
       "      <td>Victims of Incest Rape</td>\n",
       "      <td>1</td>\n",
       "      <td>0</td>\n",
       "      <td>0</td>\n",
       "      <td>1</td>\n",
       "      <td>0</td>\n",
       "      <td>0</td>\n",
       "      <td>1</td>\n",
       "      <td>0</td>\n",
       "    </tr>\n",
       "    <tr>\n",
       "      <th>2</th>\n",
       "      <td>Andaman &amp; Nicobar Islands</td>\n",
       "      <td>2001</td>\n",
       "      <td>Victims of Other Rape</td>\n",
       "      <td>2</td>\n",
       "      <td>0</td>\n",
       "      <td>0</td>\n",
       "      <td>2</td>\n",
       "      <td>0</td>\n",
       "      <td>0</td>\n",
       "      <td>2</td>\n",
       "      <td>0</td>\n",
       "    </tr>\n",
       "    <tr>\n",
       "      <th>4</th>\n",
       "      <td>Andaman &amp; Nicobar Islands</td>\n",
       "      <td>2002</td>\n",
       "      <td>Victims of Incest Rape</td>\n",
       "      <td>0</td>\n",
       "      <td>0</td>\n",
       "      <td>0</td>\n",
       "      <td>0</td>\n",
       "      <td>0</td>\n",
       "      <td>0</td>\n",
       "      <td>0</td>\n",
       "      <td>0</td>\n",
       "    </tr>\n",
       "    <tr>\n",
       "      <th>5</th>\n",
       "      <td>Andaman &amp; Nicobar Islands</td>\n",
       "      <td>2002</td>\n",
       "      <td>Victims of Other Rape</td>\n",
       "      <td>2</td>\n",
       "      <td>0</td>\n",
       "      <td>0</td>\n",
       "      <td>1</td>\n",
       "      <td>1</td>\n",
       "      <td>0</td>\n",
       "      <td>2</td>\n",
       "      <td>0</td>\n",
       "    </tr>\n",
       "    <tr>\n",
       "      <th>7</th>\n",
       "      <td>Andaman &amp; Nicobar Islands</td>\n",
       "      <td>2003</td>\n",
       "      <td>Victims of Incest Rape</td>\n",
       "      <td>0</td>\n",
       "      <td>0</td>\n",
       "      <td>0</td>\n",
       "      <td>0</td>\n",
       "      <td>0</td>\n",
       "      <td>0</td>\n",
       "      <td>0</td>\n",
       "      <td>0</td>\n",
       "    </tr>\n",
       "  </tbody>\n",
       "</table>\n",
       "</div>"
      ],
      "text/plain": [
       "                   Area_Name  Year                Subgroup  \\\n",
       "1  Andaman & Nicobar Islands  2001  Victims of Incest Rape   \n",
       "2  Andaman & Nicobar Islands  2001   Victims of Other Rape   \n",
       "4  Andaman & Nicobar Islands  2002  Victims of Incest Rape   \n",
       "5  Andaman & Nicobar Islands  2002   Victims of Other Rape   \n",
       "7  Andaman & Nicobar Islands  2003  Victims of Incest Rape   \n",
       "\n",
       "   Rape_Cases_Reported  Victims_Above_50_Yrs  Victims_Between_10-14_Yrs  \\\n",
       "1                    1                     0                          0   \n",
       "2                    2                     0                          0   \n",
       "4                    0                     0                          0   \n",
       "5                    2                     0                          0   \n",
       "7                    0                     0                          0   \n",
       "\n",
       "   Victims_Between_14-18_Yrs  Victims_Between_18-30_Yrs  \\\n",
       "1                          1                          0   \n",
       "2                          2                          0   \n",
       "4                          0                          0   \n",
       "5                          1                          1   \n",
       "7                          0                          0   \n",
       "\n",
       "   Victims_Between_30-50_Yrs  Victims_of_Rape_Total  Victims_Upto_10_Yrs  \n",
       "1                          0                      1                    0  \n",
       "2                          0                      2                    0  \n",
       "4                          0                      0                    0  \n",
       "5                          0                      2                    0  \n",
       "7                          0                      0                    0  "
      ]
     },
     "execution_count": 14,
     "metadata": {},
     "output_type": "execute_result"
    }
   ],
   "source": [
    "df = df[df.Subgroup != 'Total Rape Victims']\n",
    "df.head()"
   ]
  },
  {
   "cell_type": "code",
   "execution_count": 15,
   "metadata": {},
   "outputs": [
    {
     "data": {
      "text/plain": [
       "(700, 11)"
      ]
     },
     "execution_count": 15,
     "metadata": {},
     "output_type": "execute_result"
    }
   ],
   "source": [
    "df.shape"
   ]
  },
  {
   "cell_type": "code",
   "execution_count": 18,
   "metadata": {},
   "outputs": [
    {
     "data": {
      "text/plain": [
       "(45, 11)"
      ]
     },
     "execution_count": 18,
     "metadata": {},
     "output_type": "execute_result"
    }
   ],
   "source": [
    "df[df[\"Rape_Cases_Reported\"] != df.Victims_of_Rape_Total].shape"
   ]
  },
  {
   "cell_type": "code",
   "execution_count": 22,
   "metadata": {},
   "outputs": [],
   "source": [
    "df['Unreported_Cases'] = df['Victims_of_Rape_Total'] - df[\"Rape_Cases_Reported\"]"
   ]
  },
  {
   "cell_type": "code",
   "execution_count": 25,
   "metadata": {},
   "outputs": [
    {
     "data": {
      "text/html": [
       "<div>\n",
       "<style scoped>\n",
       "    .dataframe tbody tr th:only-of-type {\n",
       "        vertical-align: middle;\n",
       "    }\n",
       "\n",
       "    .dataframe tbody tr th {\n",
       "        vertical-align: top;\n",
       "    }\n",
       "\n",
       "    .dataframe thead th {\n",
       "        text-align: right;\n",
       "    }\n",
       "</style>\n",
       "<table border=\"1\" class=\"dataframe\">\n",
       "  <thead>\n",
       "    <tr style=\"text-align: right;\">\n",
       "      <th></th>\n",
       "      <th>Area_Name</th>\n",
       "      <th>Year</th>\n",
       "      <th>Subgroup</th>\n",
       "      <th>Rape_Cases_Reported</th>\n",
       "      <th>Victims_Above_50_Yrs</th>\n",
       "      <th>Victims_Between_10-14_Yrs</th>\n",
       "      <th>Victims_Between_14-18_Yrs</th>\n",
       "      <th>Victims_Between_18-30_Yrs</th>\n",
       "      <th>Victims_Between_30-50_Yrs</th>\n",
       "      <th>Victims_of_Rape_Total</th>\n",
       "      <th>Victims_Upto_10_Yrs</th>\n",
       "      <th>Unreport_Cases</th>\n",
       "      <th>Unreported_Cases</th>\n",
       "    </tr>\n",
       "  </thead>\n",
       "  <tbody>\n",
       "    <tr>\n",
       "      <th>152</th>\n",
       "      <td>Chandigarh</td>\n",
       "      <td>2001</td>\n",
       "      <td>Victims of Other Rape</td>\n",
       "      <td>16</td>\n",
       "      <td>0</td>\n",
       "      <td>8</td>\n",
       "      <td>4</td>\n",
       "      <td>2</td>\n",
       "      <td>3</td>\n",
       "      <td>17</td>\n",
       "      <td>0</td>\n",
       "      <td>1</td>\n",
       "      <td>1</td>\n",
       "    </tr>\n",
       "    <tr>\n",
       "      <th>272</th>\n",
       "      <td>Delhi</td>\n",
       "      <td>2001</td>\n",
       "      <td>Victims of Other Rape</td>\n",
       "      <td>372</td>\n",
       "      <td>0</td>\n",
       "      <td>78</td>\n",
       "      <td>152</td>\n",
       "      <td>58</td>\n",
       "      <td>41</td>\n",
       "      <td>374</td>\n",
       "      <td>45</td>\n",
       "      <td>2</td>\n",
       "      <td>2</td>\n",
       "    </tr>\n",
       "    <tr>\n",
       "      <th>275</th>\n",
       "      <td>Delhi</td>\n",
       "      <td>2002</td>\n",
       "      <td>Victims of Other Rape</td>\n",
       "      <td>371</td>\n",
       "      <td>0</td>\n",
       "      <td>48</td>\n",
       "      <td>40</td>\n",
       "      <td>207</td>\n",
       "      <td>49</td>\n",
       "      <td>375</td>\n",
       "      <td>31</td>\n",
       "      <td>4</td>\n",
       "      <td>4</td>\n",
       "    </tr>\n",
       "    <tr>\n",
       "      <th>284</th>\n",
       "      <td>Delhi</td>\n",
       "      <td>2005</td>\n",
       "      <td>Victims of Other Rape</td>\n",
       "      <td>626</td>\n",
       "      <td>2</td>\n",
       "      <td>111</td>\n",
       "      <td>45</td>\n",
       "      <td>402</td>\n",
       "      <td>25</td>\n",
       "      <td>634</td>\n",
       "      <td>49</td>\n",
       "      <td>8</td>\n",
       "      <td>8</td>\n",
       "    </tr>\n",
       "    <tr>\n",
       "      <th>287</th>\n",
       "      <td>Delhi</td>\n",
       "      <td>2006</td>\n",
       "      <td>Victims of Other Rape</td>\n",
       "      <td>597</td>\n",
       "      <td>2</td>\n",
       "      <td>107</td>\n",
       "      <td>255</td>\n",
       "      <td>148</td>\n",
       "      <td>21</td>\n",
       "      <td>600</td>\n",
       "      <td>67</td>\n",
       "      <td>3</td>\n",
       "      <td>3</td>\n",
       "    </tr>\n",
       "  </tbody>\n",
       "</table>\n",
       "</div>"
      ],
      "text/plain": [
       "      Area_Name  Year               Subgroup  Rape_Cases_Reported  \\\n",
       "152  Chandigarh  2001  Victims of Other Rape                   16   \n",
       "272       Delhi  2001  Victims of Other Rape                  372   \n",
       "275       Delhi  2002  Victims of Other Rape                  371   \n",
       "284       Delhi  2005  Victims of Other Rape                  626   \n",
       "287       Delhi  2006  Victims of Other Rape                  597   \n",
       "\n",
       "     Victims_Above_50_Yrs  Victims_Between_10-14_Yrs  \\\n",
       "152                     0                          8   \n",
       "272                     0                         78   \n",
       "275                     0                         48   \n",
       "284                     2                        111   \n",
       "287                     2                        107   \n",
       "\n",
       "     Victims_Between_14-18_Yrs  Victims_Between_18-30_Yrs  \\\n",
       "152                          4                          2   \n",
       "272                        152                         58   \n",
       "275                         40                        207   \n",
       "284                         45                        402   \n",
       "287                        255                        148   \n",
       "\n",
       "     Victims_Between_30-50_Yrs  Victims_of_Rape_Total  Victims_Upto_10_Yrs  \\\n",
       "152                          3                     17                    0   \n",
       "272                         41                    374                   45   \n",
       "275                         49                    375                   31   \n",
       "284                         25                    634                   49   \n",
       "287                         21                    600                   67   \n",
       "\n",
       "     Unreport_Cases  Unreported_Cases  \n",
       "152               1                 1  \n",
       "272               2                 2  \n",
       "275               4                 4  \n",
       "284               8                 8  \n",
       "287               3                 3  "
      ]
     },
     "execution_count": 25,
     "metadata": {},
     "output_type": "execute_result"
    }
   ],
   "source": [
    "df[df.Unreported_Cases > 0].head()"
   ]
  },
  {
   "cell_type": "code",
   "execution_count": 28,
   "metadata": {},
   "outputs": [
    {
     "data": {
      "text/html": [
       "<div>\n",
       "<style scoped>\n",
       "    .dataframe tbody tr th:only-of-type {\n",
       "        vertical-align: middle;\n",
       "    }\n",
       "\n",
       "    .dataframe tbody tr th {\n",
       "        vertical-align: top;\n",
       "    }\n",
       "\n",
       "    .dataframe thead th {\n",
       "        text-align: right;\n",
       "    }\n",
       "</style>\n",
       "<table border=\"1\" class=\"dataframe\">\n",
       "  <thead>\n",
       "    <tr style=\"text-align: right;\">\n",
       "      <th></th>\n",
       "      <th>Year</th>\n",
       "      <th>Rape_Cases_Reported</th>\n",
       "      <th>Victims_Above_50_Yrs</th>\n",
       "      <th>Victims_Between_10-14_Yrs</th>\n",
       "      <th>Victims_Between_14-18_Yrs</th>\n",
       "      <th>Victims_Between_18-30_Yrs</th>\n",
       "      <th>Victims_Between_30-50_Yrs</th>\n",
       "      <th>Victims_of_Rape_Total</th>\n",
       "      <th>Victims_Upto_10_Yrs</th>\n",
       "      <th>Unreport_Cases</th>\n",
       "      <th>Unreported_Cases</th>\n",
       "    </tr>\n",
       "    <tr>\n",
       "      <th>Area_Name</th>\n",
       "      <th></th>\n",
       "      <th></th>\n",
       "      <th></th>\n",
       "      <th></th>\n",
       "      <th></th>\n",
       "      <th></th>\n",
       "      <th></th>\n",
       "      <th></th>\n",
       "      <th></th>\n",
       "      <th></th>\n",
       "      <th></th>\n",
       "    </tr>\n",
       "  </thead>\n",
       "  <tbody>\n",
       "    <tr>\n",
       "      <th>Andaman &amp; Nicobar Islands</th>\n",
       "      <td>40110</td>\n",
       "      <td>84</td>\n",
       "      <td>0</td>\n",
       "      <td>8</td>\n",
       "      <td>44</td>\n",
       "      <td>21</td>\n",
       "      <td>4</td>\n",
       "      <td>84</td>\n",
       "      <td>7</td>\n",
       "      <td>0</td>\n",
       "      <td>0</td>\n",
       "    </tr>\n",
       "    <tr>\n",
       "      <th>Andhra Pradesh</th>\n",
       "      <td>40110</td>\n",
       "      <td>10696</td>\n",
       "      <td>99</td>\n",
       "      <td>1255</td>\n",
       "      <td>2011</td>\n",
       "      <td>5631</td>\n",
       "      <td>1270</td>\n",
       "      <td>10696</td>\n",
       "      <td>430</td>\n",
       "      <td>0</td>\n",
       "      <td>0</td>\n",
       "    </tr>\n",
       "    <tr>\n",
       "      <th>Arunachal Pradesh</th>\n",
       "      <td>40110</td>\n",
       "      <td>412</td>\n",
       "      <td>0</td>\n",
       "      <td>48</td>\n",
       "      <td>10</td>\n",
       "      <td>316</td>\n",
       "      <td>19</td>\n",
       "      <td>412</td>\n",
       "      <td>19</td>\n",
       "      <td>0</td>\n",
       "      <td>0</td>\n",
       "    </tr>\n",
       "    <tr>\n",
       "      <th>Assam</th>\n",
       "      <td>40110</td>\n",
       "      <td>12762</td>\n",
       "      <td>95</td>\n",
       "      <td>153</td>\n",
       "      <td>409</td>\n",
       "      <td>8507</td>\n",
       "      <td>3552</td>\n",
       "      <td>12762</td>\n",
       "      <td>46</td>\n",
       "      <td>0</td>\n",
       "      <td>0</td>\n",
       "    </tr>\n",
       "    <tr>\n",
       "      <th>Bihar</th>\n",
       "      <td>40110</td>\n",
       "      <td>11263</td>\n",
       "      <td>39</td>\n",
       "      <td>102</td>\n",
       "      <td>500</td>\n",
       "      <td>8494</td>\n",
       "      <td>2097</td>\n",
       "      <td>11263</td>\n",
       "      <td>31</td>\n",
       "      <td>0</td>\n",
       "      <td>0</td>\n",
       "    </tr>\n",
       "  </tbody>\n",
       "</table>\n",
       "</div>"
      ],
      "text/plain": [
       "                            Year  Rape_Cases_Reported  Victims_Above_50_Yrs  \\\n",
       "Area_Name                                                                     \n",
       "Andaman & Nicobar Islands  40110                   84                     0   \n",
       "Andhra Pradesh             40110                10696                    99   \n",
       "Arunachal Pradesh          40110                  412                     0   \n",
       "Assam                      40110                12762                    95   \n",
       "Bihar                      40110                11263                    39   \n",
       "\n",
       "                           Victims_Between_10-14_Yrs  \\\n",
       "Area_Name                                              \n",
       "Andaman & Nicobar Islands                          8   \n",
       "Andhra Pradesh                                  1255   \n",
       "Arunachal Pradesh                                 48   \n",
       "Assam                                            153   \n",
       "Bihar                                            102   \n",
       "\n",
       "                           Victims_Between_14-18_Yrs  \\\n",
       "Area_Name                                              \n",
       "Andaman & Nicobar Islands                         44   \n",
       "Andhra Pradesh                                  2011   \n",
       "Arunachal Pradesh                                 10   \n",
       "Assam                                            409   \n",
       "Bihar                                            500   \n",
       "\n",
       "                           Victims_Between_18-30_Yrs  \\\n",
       "Area_Name                                              \n",
       "Andaman & Nicobar Islands                         21   \n",
       "Andhra Pradesh                                  5631   \n",
       "Arunachal Pradesh                                316   \n",
       "Assam                                           8507   \n",
       "Bihar                                           8494   \n",
       "\n",
       "                           Victims_Between_30-50_Yrs  Victims_of_Rape_Total  \\\n",
       "Area_Name                                                                     \n",
       "Andaman & Nicobar Islands                          4                     84   \n",
       "Andhra Pradesh                                  1270                  10696   \n",
       "Arunachal Pradesh                                 19                    412   \n",
       "Assam                                           3552                  12762   \n",
       "Bihar                                           2097                  11263   \n",
       "\n",
       "                           Victims_Upto_10_Yrs  Unreport_Cases  \\\n",
       "Area_Name                                                        \n",
       "Andaman & Nicobar Islands                    7               0   \n",
       "Andhra Pradesh                             430               0   \n",
       "Arunachal Pradesh                           19               0   \n",
       "Assam                                       46               0   \n",
       "Bihar                                       31               0   \n",
       "\n",
       "                           Unreported_Cases  \n",
       "Area_Name                                    \n",
       "Andaman & Nicobar Islands                 0  \n",
       "Andhra Pradesh                            0  \n",
       "Arunachal Pradesh                         0  \n",
       "Assam                                     0  \n",
       "Bihar                                     0  "
      ]
     },
     "execution_count": 28,
     "metadata": {},
     "output_type": "execute_result"
    }
   ],
   "source": [
    "unreported_victims_by_state = df.groupby('Area_Name').sum()\n",
    "unreported_victims_by_state.head()"
   ]
  },
  {
   "cell_type": "code",
   "execution_count": 29,
   "metadata": {},
   "outputs": [],
   "source": [
    "unreported_victims_by_state.drop(\"Year\",axis=1,inplace=True)"
   ]
  },
  {
   "cell_type": "code",
   "execution_count": 30,
   "metadata": {},
   "outputs": [
    {
     "data": {
      "text/html": [
       "<div>\n",
       "<style scoped>\n",
       "    .dataframe tbody tr th:only-of-type {\n",
       "        vertical-align: middle;\n",
       "    }\n",
       "\n",
       "    .dataframe tbody tr th {\n",
       "        vertical-align: top;\n",
       "    }\n",
       "\n",
       "    .dataframe thead th {\n",
       "        text-align: right;\n",
       "    }\n",
       "</style>\n",
       "<table border=\"1\" class=\"dataframe\">\n",
       "  <thead>\n",
       "    <tr style=\"text-align: right;\">\n",
       "      <th></th>\n",
       "      <th>Rape_Cases_Reported</th>\n",
       "      <th>Victims_Above_50_Yrs</th>\n",
       "      <th>Victims_Between_10-14_Yrs</th>\n",
       "      <th>Victims_Between_14-18_Yrs</th>\n",
       "      <th>Victims_Between_18-30_Yrs</th>\n",
       "      <th>Victims_Between_30-50_Yrs</th>\n",
       "      <th>Victims_of_Rape_Total</th>\n",
       "      <th>Victims_Upto_10_Yrs</th>\n",
       "      <th>Unreport_Cases</th>\n",
       "      <th>Unreported_Cases</th>\n",
       "    </tr>\n",
       "    <tr>\n",
       "      <th>Area_Name</th>\n",
       "      <th></th>\n",
       "      <th></th>\n",
       "      <th></th>\n",
       "      <th></th>\n",
       "      <th></th>\n",
       "      <th></th>\n",
       "      <th></th>\n",
       "      <th></th>\n",
       "      <th></th>\n",
       "      <th></th>\n",
       "    </tr>\n",
       "  </thead>\n",
       "  <tbody>\n",
       "    <tr>\n",
       "      <th>Andaman &amp; Nicobar Islands</th>\n",
       "      <td>84</td>\n",
       "      <td>0</td>\n",
       "      <td>8</td>\n",
       "      <td>44</td>\n",
       "      <td>21</td>\n",
       "      <td>4</td>\n",
       "      <td>84</td>\n",
       "      <td>7</td>\n",
       "      <td>0</td>\n",
       "      <td>0</td>\n",
       "    </tr>\n",
       "    <tr>\n",
       "      <th>Andhra Pradesh</th>\n",
       "      <td>10696</td>\n",
       "      <td>99</td>\n",
       "      <td>1255</td>\n",
       "      <td>2011</td>\n",
       "      <td>5631</td>\n",
       "      <td>1270</td>\n",
       "      <td>10696</td>\n",
       "      <td>430</td>\n",
       "      <td>0</td>\n",
       "      <td>0</td>\n",
       "    </tr>\n",
       "    <tr>\n",
       "      <th>Arunachal Pradesh</th>\n",
       "      <td>412</td>\n",
       "      <td>0</td>\n",
       "      <td>48</td>\n",
       "      <td>10</td>\n",
       "      <td>316</td>\n",
       "      <td>19</td>\n",
       "      <td>412</td>\n",
       "      <td>19</td>\n",
       "      <td>0</td>\n",
       "      <td>0</td>\n",
       "    </tr>\n",
       "    <tr>\n",
       "      <th>Assam</th>\n",
       "      <td>12762</td>\n",
       "      <td>95</td>\n",
       "      <td>153</td>\n",
       "      <td>409</td>\n",
       "      <td>8507</td>\n",
       "      <td>3552</td>\n",
       "      <td>12762</td>\n",
       "      <td>46</td>\n",
       "      <td>0</td>\n",
       "      <td>0</td>\n",
       "    </tr>\n",
       "    <tr>\n",
       "      <th>Bihar</th>\n",
       "      <td>11263</td>\n",
       "      <td>39</td>\n",
       "      <td>102</td>\n",
       "      <td>500</td>\n",
       "      <td>8494</td>\n",
       "      <td>2097</td>\n",
       "      <td>11263</td>\n",
       "      <td>31</td>\n",
       "      <td>0</td>\n",
       "      <td>0</td>\n",
       "    </tr>\n",
       "  </tbody>\n",
       "</table>\n",
       "</div>"
      ],
      "text/plain": [
       "                           Rape_Cases_Reported  Victims_Above_50_Yrs  \\\n",
       "Area_Name                                                              \n",
       "Andaman & Nicobar Islands                   84                     0   \n",
       "Andhra Pradesh                           10696                    99   \n",
       "Arunachal Pradesh                          412                     0   \n",
       "Assam                                    12762                    95   \n",
       "Bihar                                    11263                    39   \n",
       "\n",
       "                           Victims_Between_10-14_Yrs  \\\n",
       "Area_Name                                              \n",
       "Andaman & Nicobar Islands                          8   \n",
       "Andhra Pradesh                                  1255   \n",
       "Arunachal Pradesh                                 48   \n",
       "Assam                                            153   \n",
       "Bihar                                            102   \n",
       "\n",
       "                           Victims_Between_14-18_Yrs  \\\n",
       "Area_Name                                              \n",
       "Andaman & Nicobar Islands                         44   \n",
       "Andhra Pradesh                                  2011   \n",
       "Arunachal Pradesh                                 10   \n",
       "Assam                                            409   \n",
       "Bihar                                            500   \n",
       "\n",
       "                           Victims_Between_18-30_Yrs  \\\n",
       "Area_Name                                              \n",
       "Andaman & Nicobar Islands                         21   \n",
       "Andhra Pradesh                                  5631   \n",
       "Arunachal Pradesh                                316   \n",
       "Assam                                           8507   \n",
       "Bihar                                           8494   \n",
       "\n",
       "                           Victims_Between_30-50_Yrs  Victims_of_Rape_Total  \\\n",
       "Area_Name                                                                     \n",
       "Andaman & Nicobar Islands                          4                     84   \n",
       "Andhra Pradesh                                  1270                  10696   \n",
       "Arunachal Pradesh                                 19                    412   \n",
       "Assam                                           3552                  12762   \n",
       "Bihar                                           2097                  11263   \n",
       "\n",
       "                           Victims_Upto_10_Yrs  Unreport_Cases  \\\n",
       "Area_Name                                                        \n",
       "Andaman & Nicobar Islands                    7               0   \n",
       "Andhra Pradesh                             430               0   \n",
       "Arunachal Pradesh                           19               0   \n",
       "Assam                                       46               0   \n",
       "Bihar                                       31               0   \n",
       "\n",
       "                           Unreported_Cases  \n",
       "Area_Name                                    \n",
       "Andaman & Nicobar Islands                 0  \n",
       "Andhra Pradesh                            0  \n",
       "Arunachal Pradesh                         0  \n",
       "Assam                                     0  \n",
       "Bihar                                     0  "
      ]
     },
     "execution_count": 30,
     "metadata": {},
     "output_type": "execute_result"
    }
   ],
   "source": [
    "unreported_victims_by_state.head()"
   ]
  },
  {
   "cell_type": "code",
   "execution_count": 31,
   "metadata": {},
   "outputs": [
    {
     "data": {
      "text/plain": [
       "(35, 10)"
      ]
     },
     "execution_count": 31,
     "metadata": {},
     "output_type": "execute_result"
    }
   ],
   "source": [
    "unreported_victims_by_state.shape"
   ]
  },
  {
   "cell_type": "code",
   "execution_count": 34,
   "metadata": {},
   "outputs": [],
   "source": [
    "ct = unreported_victims_by_state[unreported_victims_by_state.Unreported_Cases > 0][\"Unreported_Cases\"].sort_values(ascending = False)"
   ]
  },
  {
   "cell_type": "code",
   "execution_count": 35,
   "metadata": {},
   "outputs": [
    {
     "data": {
      "text/plain": [
       "Area_Name\n",
       "Maharashtra    59\n",
       "Delhi          25\n",
       "Meghalaya      13\n",
       "Kerala         12\n",
       "Tamil Nadu     11\n",
       "Name: Unreported_Cases, dtype: int64"
      ]
     },
     "execution_count": 35,
     "metadata": {},
     "output_type": "execute_result"
    }
   ],
   "source": [
    "ct.head()"
   ]
  },
  {
   "cell_type": "code",
   "execution_count": 46,
   "metadata": {},
   "outputs": [
    {
     "data": {
      "image/png": "[encoded data removed]",
      "text/plain": [
       "<Figure size 1008x792 with 1 Axes>"
      ]
     },
     "metadata": {
      "needs_background": "light"
     },
     "output_type": "display_data"
    }
   ],
   "source": [
    "plt.figure(figsize=(14,11))\n",
    "ax = ct.plot.bar()\n",
    "ax.set_xlabel('Area Name')\n",
    "ax.set_ylabel(\"Total Number of Unreported Rape Victims\")\n",
    "ax.set_title(\"Statewise total Unreported Rape Victims\")\n",
    "plt.show()"
   ]
  },
  {
   "cell_type": "code",
   "execution_count": 47,
   "metadata": {},
   "outputs": [
    {
     "data": {
      "text/html": [
       "<div>\n",
       "<style scoped>\n",
       "    .dataframe tbody tr th:only-of-type {\n",
       "        vertical-align: middle;\n",
       "    }\n",
       "\n",
       "    .dataframe tbody tr th {\n",
       "        vertical-align: top;\n",
       "    }\n",
       "\n",
       "    .dataframe thead th {\n",
       "        text-align: right;\n",
       "    }\n",
       "</style>\n",
       "<table border=\"1\" class=\"dataframe\">\n",
       "  <thead>\n",
       "    <tr style=\"text-align: right;\">\n",
       "      <th></th>\n",
       "      <th>Area_Name</th>\n",
       "      <th>Year</th>\n",
       "      <th>Subgroup</th>\n",
       "      <th>Rape_Cases_Reported</th>\n",
       "      <th>Victims_Above_50_Yrs</th>\n",
       "      <th>Victims_Between_10-14_Yrs</th>\n",
       "      <th>Victims_Between_14-18_Yrs</th>\n",
       "      <th>Victims_Between_18-30_Yrs</th>\n",
       "      <th>Victims_Between_30-50_Yrs</th>\n",
       "      <th>Victims_of_Rape_Total</th>\n",
       "      <th>Victims_Upto_10_Yrs</th>\n",
       "      <th>Unreport_Cases</th>\n",
       "      <th>Unreported_Cases</th>\n",
       "    </tr>\n",
       "  </thead>\n",
       "  <tbody>\n",
       "    <tr>\n",
       "      <th>1</th>\n",
       "      <td>Andaman &amp; Nicobar Islands</td>\n",
       "      <td>2001</td>\n",
       "      <td>Victims of Incest Rape</td>\n",
       "      <td>1</td>\n",
       "      <td>0</td>\n",
       "      <td>0</td>\n",
       "      <td>1</td>\n",
       "      <td>0</td>\n",
       "      <td>0</td>\n",
       "      <td>1</td>\n",
       "      <td>0</td>\n",
       "      <td>0</td>\n",
       "      <td>0</td>\n",
       "    </tr>\n",
       "    <tr>\n",
       "      <th>2</th>\n",
       "      <td>Andaman &amp; Nicobar Islands</td>\n",
       "      <td>2001</td>\n",
       "      <td>Victims of Other Rape</td>\n",
       "      <td>2</td>\n",
       "      <td>0</td>\n",
       "      <td>0</td>\n",
       "      <td>2</td>\n",
       "      <td>0</td>\n",
       "      <td>0</td>\n",
       "      <td>2</td>\n",
       "      <td>0</td>\n",
       "      <td>0</td>\n",
       "      <td>0</td>\n",
       "    </tr>\n",
       "    <tr>\n",
       "      <th>4</th>\n",
       "      <td>Andaman &amp; Nicobar Islands</td>\n",
       "      <td>2002</td>\n",
       "      <td>Victims of Incest Rape</td>\n",
       "      <td>0</td>\n",
       "      <td>0</td>\n",
       "      <td>0</td>\n",
       "      <td>0</td>\n",
       "      <td>0</td>\n",
       "      <td>0</td>\n",
       "      <td>0</td>\n",
       "      <td>0</td>\n",
       "      <td>0</td>\n",
       "      <td>0</td>\n",
       "    </tr>\n",
       "    <tr>\n",
       "      <th>5</th>\n",
       "      <td>Andaman &amp; Nicobar Islands</td>\n",
       "      <td>2002</td>\n",
       "      <td>Victims of Other Rape</td>\n",
       "      <td>2</td>\n",
       "      <td>0</td>\n",
       "      <td>0</td>\n",
       "      <td>1</td>\n",
       "      <td>1</td>\n",
       "      <td>0</td>\n",
       "      <td>2</td>\n",
       "      <td>0</td>\n",
       "      <td>0</td>\n",
       "      <td>0</td>\n",
       "    </tr>\n",
       "    <tr>\n",
       "      <th>7</th>\n",
       "      <td>Andaman &amp; Nicobar Islands</td>\n",
       "      <td>2003</td>\n",
       "      <td>Victims of Incest Rape</td>\n",
       "      <td>0</td>\n",
       "      <td>0</td>\n",
       "      <td>0</td>\n",
       "      <td>0</td>\n",
       "      <td>0</td>\n",
       "      <td>0</td>\n",
       "      <td>0</td>\n",
       "      <td>0</td>\n",
       "      <td>0</td>\n",
       "      <td>0</td>\n",
       "    </tr>\n",
       "  </tbody>\n",
       "</table>\n",
       "</div>"
      ],
      "text/plain": [
       "                   Area_Name  Year                Subgroup  \\\n",
       "1  Andaman & Nicobar Islands  2001  Victims of Incest Rape   \n",
       "2  Andaman & Nicobar Islands  2001   Victims of Other Rape   \n",
       "4  Andaman & Nicobar Islands  2002  Victims of Incest Rape   \n",
       "5  Andaman & Nicobar Islands  2002   Victims of Other Rape   \n",
       "7  Andaman & Nicobar Islands  2003  Victims of Incest Rape   \n",
       "\n",
       "   Rape_Cases_Reported  Victims_Above_50_Yrs  Victims_Between_10-14_Yrs  \\\n",
       "1                    1                     0                          0   \n",
       "2                    2                     0                          0   \n",
       "4                    0                     0                          0   \n",
       "5                    2                     0                          0   \n",
       "7                    0                     0                          0   \n",
       "\n",
       "   Victims_Between_14-18_Yrs  Victims_Between_18-30_Yrs  \\\n",
       "1                          1                          0   \n",
       "2                          2                          0   \n",
       "4                          0                          0   \n",
       "5                          1                          1   \n",
       "7                          0                          0   \n",
       "\n",
       "   Victims_Between_30-50_Yrs  Victims_of_Rape_Total  Victims_Upto_10_Yrs  \\\n",
       "1                          0                      1                    0   \n",
       "2                          0                      2                    0   \n",
       "4                          0                      0                    0   \n",
       "5                          0                      2                    0   \n",
       "7                          0                      0                    0   \n",
       "\n",
       "   Unreport_Cases  Unreported_Cases  \n",
       "1               0                 0  \n",
       "2               0                 0  \n",
       "4               0                 0  \n",
       "5               0                 0  \n",
       "7               0                 0  "
      ]
     },
     "execution_count": 47,
     "metadata": {},
     "output_type": "execute_result"
    }
   ],
   "source": [
    "df.head()"
   ]
  },
  {
   "cell_type": "code",
   "execution_count": 49,
   "metadata": {},
   "outputs": [],
   "source": [
    "rape_victims_by_state = df.groupby('Area_Name').sum()\n",
    "rape_victims_by_state.drop(\"Year\",axis=1,inplace=True)"
   ]
  },
  {
   "cell_type": "code",
   "execution_count": 50,
   "metadata": {},
   "outputs": [
    {
     "data": {
      "text/html": [
       "<div>\n",
       "<style scoped>\n",
       "    .dataframe tbody tr th:only-of-type {\n",
       "        vertical-align: middle;\n",
       "    }\n",
       "\n",
       "    .dataframe tbody tr th {\n",
       "        vertical-align: top;\n",
       "    }\n",
       "\n",
       "    .dataframe thead th {\n",
       "        text-align: right;\n",
       "    }\n",
       "</style>\n",
       "<table border=\"1\" class=\"dataframe\">\n",
       "  <thead>\n",
       "    <tr style=\"text-align: right;\">\n",
       "      <th></th>\n",
       "      <th>Rape_Cases_Reported</th>\n",
       "      <th>Victims_Above_50_Yrs</th>\n",
       "      <th>Victims_Between_10-14_Yrs</th>\n",
       "      <th>Victims_Between_14-18_Yrs</th>\n",
       "      <th>Victims_Between_18-30_Yrs</th>\n",
       "      <th>Victims_Between_30-50_Yrs</th>\n",
       "      <th>Victims_of_Rape_Total</th>\n",
       "      <th>Victims_Upto_10_Yrs</th>\n",
       "      <th>Unreport_Cases</th>\n",
       "      <th>Unreported_Cases</th>\n",
       "    </tr>\n",
       "    <tr>\n",
       "      <th>Area_Name</th>\n",
       "      <th></th>\n",
       "      <th></th>\n",
       "      <th></th>\n",
       "      <th></th>\n",
       "      <th></th>\n",
       "      <th></th>\n",
       "      <th></th>\n",
       "      <th></th>\n",
       "      <th></th>\n",
       "      <th></th>\n",
       "    </tr>\n",
       "  </thead>\n",
       "  <tbody>\n",
       "    <tr>\n",
       "      <th>Andaman &amp; Nicobar Islands</th>\n",
       "      <td>84</td>\n",
       "      <td>0</td>\n",
       "      <td>8</td>\n",
       "      <td>44</td>\n",
       "      <td>21</td>\n",
       "      <td>4</td>\n",
       "      <td>84</td>\n",
       "      <td>7</td>\n",
       "      <td>0</td>\n",
       "      <td>0</td>\n",
       "    </tr>\n",
       "    <tr>\n",
       "      <th>Andhra Pradesh</th>\n",
       "      <td>10696</td>\n",
       "      <td>99</td>\n",
       "      <td>1255</td>\n",
       "      <td>2011</td>\n",
       "      <td>5631</td>\n",
       "      <td>1270</td>\n",
       "      <td>10696</td>\n",
       "      <td>430</td>\n",
       "      <td>0</td>\n",
       "      <td>0</td>\n",
       "    </tr>\n",
       "    <tr>\n",
       "      <th>Arunachal Pradesh</th>\n",
       "      <td>412</td>\n",
       "      <td>0</td>\n",
       "      <td>48</td>\n",
       "      <td>10</td>\n",
       "      <td>316</td>\n",
       "      <td>19</td>\n",
       "      <td>412</td>\n",
       "      <td>19</td>\n",
       "      <td>0</td>\n",
       "      <td>0</td>\n",
       "    </tr>\n",
       "    <tr>\n",
       "      <th>Assam</th>\n",
       "      <td>12762</td>\n",
       "      <td>95</td>\n",
       "      <td>153</td>\n",
       "      <td>409</td>\n",
       "      <td>8507</td>\n",
       "      <td>3552</td>\n",
       "      <td>12762</td>\n",
       "      <td>46</td>\n",
       "      <td>0</td>\n",
       "      <td>0</td>\n",
       "    </tr>\n",
       "    <tr>\n",
       "      <th>Bihar</th>\n",
       "      <td>11263</td>\n",
       "      <td>39</td>\n",
       "      <td>102</td>\n",
       "      <td>500</td>\n",
       "      <td>8494</td>\n",
       "      <td>2097</td>\n",
       "      <td>11263</td>\n",
       "      <td>31</td>\n",
       "      <td>0</td>\n",
       "      <td>0</td>\n",
       "    </tr>\n",
       "  </tbody>\n",
       "</table>\n",
       "</div>"
      ],
      "text/plain": [
       "                           Rape_Cases_Reported  Victims_Above_50_Yrs  \\\n",
       "Area_Name                                                              \n",
       "Andaman & Nicobar Islands                   84                     0   \n",
       "Andhra Pradesh                           10696                    99   \n",
       "Arunachal Pradesh                          412                     0   \n",
       "Assam                                    12762                    95   \n",
       "Bihar                                    11263                    39   \n",
       "\n",
       "                           Victims_Between_10-14_Yrs  \\\n",
       "Area_Name                                              \n",
       "Andaman & Nicobar Islands                          8   \n",
       "Andhra Pradesh                                  1255   \n",
       "Arunachal Pradesh                                 48   \n",
       "Assam                                            153   \n",
       "Bihar                                            102   \n",
       "\n",
       "                           Victims_Between_14-18_Yrs  \\\n",
       "Area_Name                                              \n",
       "Andaman & Nicobar Islands                         44   \n",
       "Andhra Pradesh                                  2011   \n",
       "Arunachal Pradesh                                 10   \n",
       "Assam                                            409   \n",
       "Bihar                                            500   \n",
       "\n",
       "                           Victims_Between_18-30_Yrs  \\\n",
       "Area_Name                                              \n",
       "Andaman & Nicobar Islands                         21   \n",
       "Andhra Pradesh                                  5631   \n",
       "Arunachal Pradesh                                316   \n",
       "Assam                                           8507   \n",
       "Bihar                                           8494   \n",
       "\n",
       "                           Victims_Between_30-50_Yrs  Victims_of_Rape_Total  \\\n",
       "Area_Name                                                                     \n",
       "Andaman & Nicobar Islands                          4                     84   \n",
       "Andhra Pradesh                                  1270                  10696   \n",
       "Arunachal Pradesh                                 19                    412   \n",
       "Assam                                           3552                  12762   \n",
       "Bihar                                           2097                  11263   \n",
       "\n",
       "                           Victims_Upto_10_Yrs  Unreport_Cases  \\\n",
       "Area_Name                                                        \n",
       "Andaman & Nicobar Islands                    7               0   \n",
       "Andhra Pradesh                             430               0   \n",
       "Arunachal Pradesh                           19               0   \n",
       "Assam                                       46               0   \n",
       "Bihar                                       31               0   \n",
       "\n",
       "                           Unreported_Cases  \n",
       "Area_Name                                    \n",
       "Andaman & Nicobar Islands                 0  \n",
       "Andhra Pradesh                            0  \n",
       "Arunachal Pradesh                         0  \n",
       "Assam                                     0  \n",
       "Bihar                                     0  "
      ]
     },
     "execution_count": 50,
     "metadata": {},
     "output_type": "execute_result"
    }
   ],
   "source": [
    "rape_victims_by_state.head()"
   ]
  },
  {
   "cell_type": "code",
   "execution_count": 51,
   "metadata": {},
   "outputs": [
    {
     "data": {
      "text/plain": [
       "190008"
      ]
     },
     "execution_count": 51,
     "metadata": {},
     "output_type": "execute_result"
    }
   ],
   "source": [
    "rape_victims_by_state[\"Rape_Cases_Reported\"].sum()"
   ]
  },
  {
   "cell_type": "code",
   "execution_count": 53,
   "metadata": {},
   "outputs": [],
   "source": [
    "max_victims_by_state=rape_victims_by_state['Rape_Cases_Reported'].sort_values(ascending=False)"
   ]
  },
  {
   "cell_type": "code",
   "execution_count": 55,
   "metadata": {},
   "outputs": [],
   "source": [
    "max_victims_by_state"
   ]
  },
  {
   "cell_type": "code",
   "execution_count": 64,
   "metadata": {},
   "outputs": [
    {
     "data": {
      "image/png": "[encoded data removed]",
      "text/plain": [
       "<Figure size 432x288 with 1 Axes>"
      ]
     },
     "metadata": {
      "needs_background": "light"
     },
     "output_type": "display_data"
    }
   ],
   "source": [
    "ms= max_victims_by_state.plot.bar()\n",
    "ms.set_xlabel(\"State Name\")\n",
    "ms.set_ylabel('Total number of victims by state')\n",
    "plt.show()"
   ]
  },
  {
   "cell_type": "code",
   "execution_count": 67,
   "metadata": {},
   "outputs": [
    {
     "data": {
      "text/plain": [
       "<matplotlib.axes._subplots.AxesSubplot at 0x2c6484d9b70>"
      ]
     },
     "execution_count": 67,
     "metadata": {},
     "output_type": "execute_result"
    },
    {
     "data": {
      "image/png": "[encoded data removed]",
      "text/plain": [
       "<Figure size 1008x864 with 2 Axes>"
      ]
     },
     "metadata": {
      "needs_background": "light"
     },
     "output_type": "display_data"
    }
   ],
   "source": [
    "plt.figure(figsize=(14,12))\n",
    "sns.heatmap(rape_victims_by_state)"
   ]
  },
  {
   "cell_type": "code",
   "execution_count": 80,
   "metadata": {},
   "outputs": [
    {
     "data": {
      "text/plain": [
       "<matplotlib.axes._subplots.AxesSubplot at 0x2c64892e630>"
      ]
     },
     "execution_count": 80,
     "metadata": {},
     "output_type": "execute_result"
    },
    {
     "data": {
      "image/png": "[encoded data removed]",
      "text/plain": [
       "<Figure size 432x288 with 1 Axes>"
      ]
     },
     "metadata": {
      "needs_background": "light"
     },
     "output_type": "display_data"
    }
   ],
   "source": [
    "mp_victims = df[df.Area_Name == \"Madhya Pradesh\"]\n",
    "mpsub_victims = mp_victims.groupby('Subgroup').sum()\n",
    "mpsub_victims.head()\n",
    "mpsub_victims.plot.bar()"
   ]
  },
  {
   "cell_type": "code",
   "execution_count": 86,
   "metadata": {},
   "outputs": [
    {
     "data": {
      "text/plain": [
       "<Figure size 1008x792 with 0 Axes>"
      ]
     },
     "metadata": {},
     "output_type": "display_data"
    },
    {
     "data": {
      "image/png": "[encoded data removed]",
      "text/plain": [
       "<Figure size 432x288 with 1 Axes>"
      ]
     },
     "metadata": {
      "needs_background": "light"
     },
     "output_type": "display_data"
    }
   ],
   "source": [
    "\n",
    "mpyear_victims = mp_victims.groupby('Year').sum()\n",
    "mpyear_victims.head()\n",
    "plt.figure(figsize=(14,11))\n",
    "mpyear_victims.plot.bar()\n",
    "plt.show()\n",
    "#up_victims = df[df.Area_Name == \"Uttar Pradesh\"].groupby('Subgroup').sum()\n",
    "#up_victims.head()"
   ]
  },
  {
   "cell_type": "code",
   "execution_count": null,
   "metadata": {},
   "outputs": [],
   "source": []
  }
 ],
 "metadata": {
  "kernelspec": {
   "display_name": "Python 3",
   "language": "python",
   "name": "python3"
  },
  "language_info": {
   "codemirror_mode": {
    "name": "ipython",
    "version": 3
   },
   "file_extension": ".py",
   "mimetype": "text/x-python",
   "name": "python",
   "nbconvert_exporter": "python",
   "pygments_lexer": "ipython3",
   "version": "3.7.3"
  }
 },
 "nbformat": 4,
 "nbformat_minor": 2
}
