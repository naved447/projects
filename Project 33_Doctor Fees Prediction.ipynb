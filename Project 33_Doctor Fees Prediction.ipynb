{
 "cells": [
  {
   "cell_type": "code",
   "execution_count": 1,
   "metadata": {},
   "outputs": [],
   "source": [
    "import pandas as pd\n",
    "import numpy as np"
   ]
  },
  {
   "cell_type": "code",
   "execution_count": 51,
   "metadata": {},
   "outputs": [],
   "source": [
    "train = pd.read_excel(\"Dr_Train.xlsx\")\n",
    "test = pd.read_excel(\"Dr_Test.xlsx\")\n",
    "sample = pd.read_excel(\"Dr_Sample.xlsx\")"
   ]
  },
  {
   "cell_type": "code",
   "execution_count": 52,
   "metadata": {},
   "outputs": [
    {
     "data": {
      "text/html": [
       "<div>\n",
       "<style scoped>\n",
       "    .dataframe tbody tr th:only-of-type {\n",
       "        vertical-align: middle;\n",
       "    }\n",
       "\n",
       "    .dataframe tbody tr th {\n",
       "        vertical-align: top;\n",
       "    }\n",
       "\n",
       "    .dataframe thead th {\n",
       "        text-align: right;\n",
       "    }\n",
       "</style>\n",
       "<table border=\"1\" class=\"dataframe\">\n",
       "  <thead>\n",
       "    <tr style=\"text-align: right;\">\n",
       "      <th></th>\n",
       "      <th>Qualification</th>\n",
       "      <th>Experience</th>\n",
       "      <th>Rating</th>\n",
       "      <th>Place</th>\n",
       "      <th>Profile</th>\n",
       "      <th>Miscellaneous_Info</th>\n",
       "      <th>Fees</th>\n",
       "    </tr>\n",
       "  </thead>\n",
       "  <tbody>\n",
       "    <tr>\n",
       "      <th>0</th>\n",
       "      <td>BHMS, MD - Homeopathy</td>\n",
       "      <td>24 years experience</td>\n",
       "      <td>100%</td>\n",
       "      <td>Kakkanad, Ernakulam</td>\n",
       "      <td>Homeopath</td>\n",
       "      <td>100% 16 Feedback Kakkanad, Ernakulam</td>\n",
       "      <td>100</td>\n",
       "    </tr>\n",
       "    <tr>\n",
       "      <th>1</th>\n",
       "      <td>BAMS, MD - Ayurveda Medicine</td>\n",
       "      <td>12 years experience</td>\n",
       "      <td>98%</td>\n",
       "      <td>Whitefield, Bangalore</td>\n",
       "      <td>Ayurveda</td>\n",
       "      <td>98% 76 Feedback Whitefield, Bangalore</td>\n",
       "      <td>350</td>\n",
       "    </tr>\n",
       "    <tr>\n",
       "      <th>2</th>\n",
       "      <td>MBBS, MS - Otorhinolaryngology</td>\n",
       "      <td>9 years experience</td>\n",
       "      <td>NaN</td>\n",
       "      <td>Mathikere - BEL, Bangalore</td>\n",
       "      <td>ENT Specialist</td>\n",
       "      <td>NaN</td>\n",
       "      <td>300</td>\n",
       "    </tr>\n",
       "    <tr>\n",
       "      <th>3</th>\n",
       "      <td>BSc - Zoology, BAMS</td>\n",
       "      <td>12 years experience</td>\n",
       "      <td>NaN</td>\n",
       "      <td>Bannerghatta Road, Bangalore</td>\n",
       "      <td>Ayurveda</td>\n",
       "      <td>Bannerghatta Road, Bangalore ₹250 Available on...</td>\n",
       "      <td>250</td>\n",
       "    </tr>\n",
       "    <tr>\n",
       "      <th>4</th>\n",
       "      <td>BAMS</td>\n",
       "      <td>20 years experience</td>\n",
       "      <td>100%</td>\n",
       "      <td>Keelkattalai, Chennai</td>\n",
       "      <td>Ayurveda</td>\n",
       "      <td>100% 4 Feedback Keelkattalai, Chennai</td>\n",
       "      <td>250</td>\n",
       "    </tr>\n",
       "  </tbody>\n",
       "</table>\n",
       "</div>"
      ],
      "text/plain": [
       "                    Qualification           Experience Rating  \\\n",
       "0           BHMS, MD - Homeopathy  24 years experience   100%   \n",
       "1    BAMS, MD - Ayurveda Medicine  12 years experience    98%   \n",
       "2  MBBS, MS - Otorhinolaryngology   9 years experience    NaN   \n",
       "3             BSc - Zoology, BAMS  12 years experience    NaN   \n",
       "4                            BAMS  20 years experience   100%   \n",
       "\n",
       "                          Place         Profile  \\\n",
       "0           Kakkanad, Ernakulam       Homeopath   \n",
       "1         Whitefield, Bangalore        Ayurveda   \n",
       "2    Mathikere - BEL, Bangalore  ENT Specialist   \n",
       "3  Bannerghatta Road, Bangalore        Ayurveda   \n",
       "4         Keelkattalai, Chennai        Ayurveda   \n",
       "\n",
       "                                  Miscellaneous_Info  Fees  \n",
       "0               100% 16 Feedback Kakkanad, Ernakulam   100  \n",
       "1              98% 76 Feedback Whitefield, Bangalore   350  \n",
       "2                                                NaN   300  \n",
       "3  Bannerghatta Road, Bangalore ₹250 Available on...   250  \n",
       "4              100% 4 Feedback Keelkattalai, Chennai   250  "
      ]
     },
     "execution_count": 52,
     "metadata": {},
     "output_type": "execute_result"
    }
   ],
   "source": [
    "train.head()"
   ]
  },
  {
   "cell_type": "code",
   "execution_count": 53,
   "metadata": {},
   "outputs": [
    {
     "data": {
      "text/plain": [
       "Qualification          0.000000\n",
       "Experience             0.000000\n",
       "Rating                55.393390\n",
       "Place                  0.419393\n",
       "Profile                0.000000\n",
       "Miscellaneous_Info    43.952357\n",
       "Fees                   0.000000\n",
       "dtype: float64"
      ]
     },
     "execution_count": 53,
     "metadata": {},
     "output_type": "execute_result"
    }
   ],
   "source": [
    "train.isnull().sum()/len(train)*100"
   ]
  },
  {
   "cell_type": "code",
   "execution_count": 54,
   "metadata": {},
   "outputs": [],
   "source": [
    "train['Experience'] = train['Experience'].str.split(\" \").str[0].astype(int)"
   ]
  },
  {
   "cell_type": "code",
   "execution_count": 55,
   "metadata": {},
   "outputs": [
    {
     "data": {
      "text/html": [
       "<div>\n",
       "<style scoped>\n",
       "    .dataframe tbody tr th:only-of-type {\n",
       "        vertical-align: middle;\n",
       "    }\n",
       "\n",
       "    .dataframe tbody tr th {\n",
       "        vertical-align: top;\n",
       "    }\n",
       "\n",
       "    .dataframe thead th {\n",
       "        text-align: right;\n",
       "    }\n",
       "</style>\n",
       "<table border=\"1\" class=\"dataframe\">\n",
       "  <thead>\n",
       "    <tr style=\"text-align: right;\">\n",
       "      <th></th>\n",
       "      <th>Qualification</th>\n",
       "      <th>Experience</th>\n",
       "      <th>Rating</th>\n",
       "      <th>Place</th>\n",
       "      <th>Profile</th>\n",
       "      <th>Miscellaneous_Info</th>\n",
       "      <th>Fees</th>\n",
       "    </tr>\n",
       "  </thead>\n",
       "  <tbody>\n",
       "    <tr>\n",
       "      <th>0</th>\n",
       "      <td>BHMS, MD - Homeopathy</td>\n",
       "      <td>24</td>\n",
       "      <td>100%</td>\n",
       "      <td>Kakkanad, Ernakulam</td>\n",
       "      <td>Homeopath</td>\n",
       "      <td>100% 16 Feedback Kakkanad, Ernakulam</td>\n",
       "      <td>100</td>\n",
       "    </tr>\n",
       "    <tr>\n",
       "      <th>1</th>\n",
       "      <td>BAMS, MD - Ayurveda Medicine</td>\n",
       "      <td>12</td>\n",
       "      <td>98%</td>\n",
       "      <td>Whitefield, Bangalore</td>\n",
       "      <td>Ayurveda</td>\n",
       "      <td>98% 76 Feedback Whitefield, Bangalore</td>\n",
       "      <td>350</td>\n",
       "    </tr>\n",
       "    <tr>\n",
       "      <th>2</th>\n",
       "      <td>MBBS, MS - Otorhinolaryngology</td>\n",
       "      <td>9</td>\n",
       "      <td>NaN</td>\n",
       "      <td>Mathikere - BEL, Bangalore</td>\n",
       "      <td>ENT Specialist</td>\n",
       "      <td>NaN</td>\n",
       "      <td>300</td>\n",
       "    </tr>\n",
       "    <tr>\n",
       "      <th>3</th>\n",
       "      <td>BSc - Zoology, BAMS</td>\n",
       "      <td>12</td>\n",
       "      <td>NaN</td>\n",
       "      <td>Bannerghatta Road, Bangalore</td>\n",
       "      <td>Ayurveda</td>\n",
       "      <td>Bannerghatta Road, Bangalore ₹250 Available on...</td>\n",
       "      <td>250</td>\n",
       "    </tr>\n",
       "    <tr>\n",
       "      <th>4</th>\n",
       "      <td>BAMS</td>\n",
       "      <td>20</td>\n",
       "      <td>100%</td>\n",
       "      <td>Keelkattalai, Chennai</td>\n",
       "      <td>Ayurveda</td>\n",
       "      <td>100% 4 Feedback Keelkattalai, Chennai</td>\n",
       "      <td>250</td>\n",
       "    </tr>\n",
       "  </tbody>\n",
       "</table>\n",
       "</div>"
      ],
      "text/plain": [
       "                    Qualification  Experience Rating  \\\n",
       "0           BHMS, MD - Homeopathy          24   100%   \n",
       "1    BAMS, MD - Ayurveda Medicine          12    98%   \n",
       "2  MBBS, MS - Otorhinolaryngology           9    NaN   \n",
       "3             BSc - Zoology, BAMS          12    NaN   \n",
       "4                            BAMS          20   100%   \n",
       "\n",
       "                          Place         Profile  \\\n",
       "0           Kakkanad, Ernakulam       Homeopath   \n",
       "1         Whitefield, Bangalore        Ayurveda   \n",
       "2    Mathikere - BEL, Bangalore  ENT Specialist   \n",
       "3  Bannerghatta Road, Bangalore        Ayurveda   \n",
       "4         Keelkattalai, Chennai        Ayurveda   \n",
       "\n",
       "                                  Miscellaneous_Info  Fees  \n",
       "0               100% 16 Feedback Kakkanad, Ernakulam   100  \n",
       "1              98% 76 Feedback Whitefield, Bangalore   350  \n",
       "2                                                NaN   300  \n",
       "3  Bannerghatta Road, Bangalore ₹250 Available on...   250  \n",
       "4              100% 4 Feedback Keelkattalai, Chennai   250  "
      ]
     },
     "execution_count": 55,
     "metadata": {},
     "output_type": "execute_result"
    }
   ],
   "source": [
    "train.head()"
   ]
  },
  {
   "cell_type": "code",
   "execution_count": 56,
   "metadata": {},
   "outputs": [
    {
     "data": {
      "text/plain": [
       "Qualification         object\n",
       "Experience             int32\n",
       "Rating                object\n",
       "Place                 object\n",
       "Profile               object\n",
       "Miscellaneous_Info    object\n",
       "Fees                   int64\n",
       "dtype: object"
      ]
     },
     "execution_count": 56,
     "metadata": {},
     "output_type": "execute_result"
    }
   ],
   "source": [
    "train.dtypes"
   ]
  },
  {
   "cell_type": "code",
   "execution_count": 57,
   "metadata": {},
   "outputs": [
    {
     "data": {
      "text/plain": [
       "Dentist             1397\n",
       "General Medicine    1173\n",
       "Dermatologists      1034\n",
       "Homeopath            843\n",
       "Ayurveda             786\n",
       "ENT Specialist       728\n",
       "Name: Profile, dtype: int64"
      ]
     },
     "execution_count": 57,
     "metadata": {},
     "output_type": "execute_result"
    }
   ],
   "source": [
    "train['Profile'].value_counts()"
   ]
  },
  {
   "cell_type": "code",
   "execution_count": 58,
   "metadata": {},
   "outputs": [],
   "source": [
    "train['Place'].fillna(\"Unknown,Unknown\",inplace=True)\n",
    "train['City'] = train[\"Place\"].str.split(',').str[-1]\n",
    "train[\"Place\"]= train['Place'].str.split(\",\").str[0]"
   ]
  },
  {
   "cell_type": "code",
   "execution_count": 59,
   "metadata": {},
   "outputs": [],
   "source": [
    "train.head()\n",
    "#using df for practice purpose\n",
    "df=train.copy()"
   ]
  },
  {
   "cell_type": "code",
   "execution_count": 60,
   "metadata": {},
   "outputs": [
    {
     "data": {
      "text/html": [
       "<div>\n",
       "<style scoped>\n",
       "    .dataframe tbody tr th:only-of-type {\n",
       "        vertical-align: middle;\n",
       "    }\n",
       "\n",
       "    .dataframe tbody tr th {\n",
       "        vertical-align: top;\n",
       "    }\n",
       "\n",
       "    .dataframe thead th {\n",
       "        text-align: right;\n",
       "    }\n",
       "</style>\n",
       "<table border=\"1\" class=\"dataframe\">\n",
       "  <thead>\n",
       "    <tr style=\"text-align: right;\">\n",
       "      <th></th>\n",
       "      <th>Qualification</th>\n",
       "      <th>Experience</th>\n",
       "      <th>Rating</th>\n",
       "      <th>Place</th>\n",
       "      <th>Profile</th>\n",
       "      <th>Miscellaneous_Info</th>\n",
       "      <th>Fees</th>\n",
       "      <th>City</th>\n",
       "    </tr>\n",
       "  </thead>\n",
       "  <tbody>\n",
       "    <tr>\n",
       "      <th>0</th>\n",
       "      <td>BHMS, MD - Homeopathy</td>\n",
       "      <td>24</td>\n",
       "      <td>100%</td>\n",
       "      <td>Kakkanad</td>\n",
       "      <td>Homeopath</td>\n",
       "      <td>100% 16 Feedback Kakkanad, Ernakulam</td>\n",
       "      <td>100</td>\n",
       "      <td>Ernakulam</td>\n",
       "    </tr>\n",
       "    <tr>\n",
       "      <th>1</th>\n",
       "      <td>BAMS, MD - Ayurveda Medicine</td>\n",
       "      <td>12</td>\n",
       "      <td>98%</td>\n",
       "      <td>Whitefield</td>\n",
       "      <td>Ayurveda</td>\n",
       "      <td>98% 76 Feedback Whitefield, Bangalore</td>\n",
       "      <td>350</td>\n",
       "      <td>Bangalore</td>\n",
       "    </tr>\n",
       "    <tr>\n",
       "      <th>2</th>\n",
       "      <td>MBBS, MS - Otorhinolaryngology</td>\n",
       "      <td>9</td>\n",
       "      <td>NaN</td>\n",
       "      <td>Mathikere - BEL</td>\n",
       "      <td>ENT Specialist</td>\n",
       "      <td>NaN</td>\n",
       "      <td>300</td>\n",
       "      <td>Bangalore</td>\n",
       "    </tr>\n",
       "    <tr>\n",
       "      <th>3</th>\n",
       "      <td>BSc - Zoology, BAMS</td>\n",
       "      <td>12</td>\n",
       "      <td>NaN</td>\n",
       "      <td>Bannerghatta Road</td>\n",
       "      <td>Ayurveda</td>\n",
       "      <td>Bannerghatta Road, Bangalore ₹250 Available on...</td>\n",
       "      <td>250</td>\n",
       "      <td>Bangalore</td>\n",
       "    </tr>\n",
       "    <tr>\n",
       "      <th>4</th>\n",
       "      <td>BAMS</td>\n",
       "      <td>20</td>\n",
       "      <td>100%</td>\n",
       "      <td>Keelkattalai</td>\n",
       "      <td>Ayurveda</td>\n",
       "      <td>100% 4 Feedback Keelkattalai, Chennai</td>\n",
       "      <td>250</td>\n",
       "      <td>Chennai</td>\n",
       "    </tr>\n",
       "  </tbody>\n",
       "</table>\n",
       "</div>"
      ],
      "text/plain": [
       "                    Qualification  Experience Rating              Place  \\\n",
       "0           BHMS, MD - Homeopathy          24   100%           Kakkanad   \n",
       "1    BAMS, MD - Ayurveda Medicine          12    98%         Whitefield   \n",
       "2  MBBS, MS - Otorhinolaryngology           9    NaN    Mathikere - BEL   \n",
       "3             BSc - Zoology, BAMS          12    NaN  Bannerghatta Road   \n",
       "4                            BAMS          20   100%       Keelkattalai   \n",
       "\n",
       "          Profile                                 Miscellaneous_Info  Fees  \\\n",
       "0       Homeopath               100% 16 Feedback Kakkanad, Ernakulam   100   \n",
       "1        Ayurveda              98% 76 Feedback Whitefield, Bangalore   350   \n",
       "2  ENT Specialist                                                NaN   300   \n",
       "3        Ayurveda  Bannerghatta Road, Bangalore ₹250 Available on...   250   \n",
       "4        Ayurveda              100% 4 Feedback Keelkattalai, Chennai   250   \n",
       "\n",
       "         City  \n",
       "0   Ernakulam  \n",
       "1   Bangalore  \n",
       "2   Bangalore  \n",
       "3   Bangalore  \n",
       "4     Chennai  "
      ]
     },
     "execution_count": 60,
     "metadata": {},
     "output_type": "execute_result"
    }
   ],
   "source": [
    "df.head()"
   ]
  },
  {
   "cell_type": "code",
   "execution_count": 61,
   "metadata": {},
   "outputs": [],
   "source": [
    "train['Rating'].fillna(\"-99%\",inplace=True)\n",
    "train[\"Rating\"]=train[\"Rating\"].str[:-1].astype('int')\n",
    "\n",
    "bins = [-99,0,10,20,30,40,50,60,70,80,90,100]\n",
    "labels=[i for i in range(11)] #or [0,1,2,3,4,5,6,7,8,9,10]\n",
    "train['Rating'] = pd.cut(train['Rating'],bins=bins,labels=labels,include_lowest=True)"
   ]
  },
  {
   "cell_type": "code",
   "execution_count": 62,
   "metadata": {},
   "outputs": [],
   "source": [
    "#bins = [-99,0,10,20,30,40,50,60,70,80,90,100]\n",
    "#labels=[i for i in range(11)] #or [0,1,2,3,4,5,6,7,8,9,10]\n",
    "#df['Rating'] = pd.cut(df['Rating'],bins=bins,labels=labels,include_lowest=True)"
   ]
  },
  {
   "cell_type": "code",
   "execution_count": 63,
   "metadata": {},
   "outputs": [],
   "source": [
    "#df['Rating'].fillna(\"-99%\",inplace=True)\n",
    "#df.head()"
   ]
  },
  {
   "cell_type": "code",
   "execution_count": 64,
   "metadata": {},
   "outputs": [],
   "source": [
    "#for practice\n",
    "#df[\"Rating\"].str[:-1].head()"
   ]
  },
  {
   "cell_type": "code",
   "execution_count": 65,
   "metadata": {},
   "outputs": [
    {
     "data": {
      "text/plain": [
       "Qualification           object\n",
       "Experience               int32\n",
       "Rating                category\n",
       "Place                   object\n",
       "Profile                 object\n",
       "Miscellaneous_Info      object\n",
       "Fees                     int64\n",
       "City                    object\n",
       "dtype: object"
      ]
     },
     "execution_count": 65,
     "metadata": {},
     "output_type": "execute_result"
    }
   ],
   "source": [
    "train.dtypes"
   ]
  },
  {
   "cell_type": "code",
   "execution_count": 66,
   "metadata": {},
   "outputs": [
    {
     "data": {
      "text/plain": [
       "Qualification            0\n",
       "Experience               0\n",
       "Rating                   0\n",
       "Place                    0\n",
       "Profile                  0\n",
       "Miscellaneous_Info    2620\n",
       "Fees                     0\n",
       "City                     0\n",
       "dtype: int64"
      ]
     },
     "execution_count": 66,
     "metadata": {},
     "output_type": "execute_result"
    }
   ],
   "source": [
    "train.isnull().sum()"
   ]
  },
  {
   "cell_type": "code",
   "execution_count": 67,
   "metadata": {},
   "outputs": [
    {
     "data": {
      "text/html": [
       "<div>\n",
       "<style scoped>\n",
       "    .dataframe tbody tr th:only-of-type {\n",
       "        vertical-align: middle;\n",
       "    }\n",
       "\n",
       "    .dataframe tbody tr th {\n",
       "        vertical-align: top;\n",
       "    }\n",
       "\n",
       "    .dataframe thead th {\n",
       "        text-align: right;\n",
       "    }\n",
       "</style>\n",
       "<table border=\"1\" class=\"dataframe\">\n",
       "  <thead>\n",
       "    <tr style=\"text-align: right;\">\n",
       "      <th></th>\n",
       "      <th>Qualification</th>\n",
       "      <th>Experience</th>\n",
       "      <th>Rating</th>\n",
       "      <th>Place</th>\n",
       "      <th>Profile</th>\n",
       "      <th>Miscellaneous_Info</th>\n",
       "      <th>Fees</th>\n",
       "      <th>City</th>\n",
       "    </tr>\n",
       "  </thead>\n",
       "  <tbody>\n",
       "    <tr>\n",
       "      <th>0</th>\n",
       "      <td>BHMS, MD - Homeopathy</td>\n",
       "      <td>24</td>\n",
       "      <td>10</td>\n",
       "      <td>Kakkanad</td>\n",
       "      <td>Homeopath</td>\n",
       "      <td>100% 16 Feedback Kakkanad, Ernakulam</td>\n",
       "      <td>100</td>\n",
       "      <td>Ernakulam</td>\n",
       "    </tr>\n",
       "    <tr>\n",
       "      <th>1</th>\n",
       "      <td>BAMS, MD - Ayurveda Medicine</td>\n",
       "      <td>12</td>\n",
       "      <td>10</td>\n",
       "      <td>Whitefield</td>\n",
       "      <td>Ayurveda</td>\n",
       "      <td>98% 76 Feedback Whitefield, Bangalore</td>\n",
       "      <td>350</td>\n",
       "      <td>Bangalore</td>\n",
       "    </tr>\n",
       "    <tr>\n",
       "      <th>2</th>\n",
       "      <td>MBBS, MS - Otorhinolaryngology</td>\n",
       "      <td>9</td>\n",
       "      <td>0</td>\n",
       "      <td>Mathikere - BEL</td>\n",
       "      <td>ENT Specialist</td>\n",
       "      <td>NaN</td>\n",
       "      <td>300</td>\n",
       "      <td>Bangalore</td>\n",
       "    </tr>\n",
       "    <tr>\n",
       "      <th>3</th>\n",
       "      <td>BSc - Zoology, BAMS</td>\n",
       "      <td>12</td>\n",
       "      <td>0</td>\n",
       "      <td>Bannerghatta Road</td>\n",
       "      <td>Ayurveda</td>\n",
       "      <td>Bannerghatta Road, Bangalore ₹250 Available on...</td>\n",
       "      <td>250</td>\n",
       "      <td>Bangalore</td>\n",
       "    </tr>\n",
       "    <tr>\n",
       "      <th>4</th>\n",
       "      <td>BAMS</td>\n",
       "      <td>20</td>\n",
       "      <td>10</td>\n",
       "      <td>Keelkattalai</td>\n",
       "      <td>Ayurveda</td>\n",
       "      <td>100% 4 Feedback Keelkattalai, Chennai</td>\n",
       "      <td>250</td>\n",
       "      <td>Chennai</td>\n",
       "    </tr>\n",
       "  </tbody>\n",
       "</table>\n",
       "</div>"
      ],
      "text/plain": [
       "                    Qualification  Experience Rating              Place  \\\n",
       "0           BHMS, MD - Homeopathy          24     10           Kakkanad   \n",
       "1    BAMS, MD - Ayurveda Medicine          12     10         Whitefield   \n",
       "2  MBBS, MS - Otorhinolaryngology           9      0    Mathikere - BEL   \n",
       "3             BSc - Zoology, BAMS          12      0  Bannerghatta Road   \n",
       "4                            BAMS          20     10       Keelkattalai   \n",
       "\n",
       "          Profile                                 Miscellaneous_Info  Fees  \\\n",
       "0       Homeopath               100% 16 Feedback Kakkanad, Ernakulam   100   \n",
       "1        Ayurveda              98% 76 Feedback Whitefield, Bangalore   350   \n",
       "2  ENT Specialist                                                NaN   300   \n",
       "3        Ayurveda  Bannerghatta Road, Bangalore ₹250 Available on...   250   \n",
       "4        Ayurveda              100% 4 Feedback Keelkattalai, Chennai   250   \n",
       "\n",
       "         City  \n",
       "0   Ernakulam  \n",
       "1   Bangalore  \n",
       "2   Bangalore  \n",
       "3   Bangalore  \n",
       "4     Chennai  "
      ]
     },
     "execution_count": 67,
     "metadata": {},
     "output_type": "execute_result"
    }
   ],
   "source": [
    "train.head()\n",
    "#df=train.copy()\n",
    "#train=df.copy()"
   ]
  },
  {
   "cell_type": "code",
   "execution_count": 68,
   "metadata": {},
   "outputs": [
    {
     "data": {
      "text/html": [
       "<div>\n",
       "<style scoped>\n",
       "    .dataframe tbody tr th:only-of-type {\n",
       "        vertical-align: middle;\n",
       "    }\n",
       "\n",
       "    .dataframe tbody tr th {\n",
       "        vertical-align: top;\n",
       "    }\n",
       "\n",
       "    .dataframe thead th {\n",
       "        text-align: right;\n",
       "    }\n",
       "</style>\n",
       "<table border=\"1\" class=\"dataframe\">\n",
       "  <thead>\n",
       "    <tr style=\"text-align: right;\">\n",
       "      <th></th>\n",
       "      <th>Qualification</th>\n",
       "      <th>Experience</th>\n",
       "      <th>Rating</th>\n",
       "      <th>Place</th>\n",
       "      <th>Profile</th>\n",
       "      <th>Miscellaneous_Info</th>\n",
       "      <th>Fees</th>\n",
       "      <th>City</th>\n",
       "    </tr>\n",
       "  </thead>\n",
       "  <tbody>\n",
       "    <tr>\n",
       "      <th>0</th>\n",
       "      <td>BHMS, MD - Homeopathy</td>\n",
       "      <td>24</td>\n",
       "      <td>100%</td>\n",
       "      <td>Kakkanad</td>\n",
       "      <td>Homeopath</td>\n",
       "      <td>100% 16 Feedback Kakkanad, Ernakulam</td>\n",
       "      <td>100</td>\n",
       "      <td>Ernakulam</td>\n",
       "    </tr>\n",
       "    <tr>\n",
       "      <th>1</th>\n",
       "      <td>BAMS, MD - Ayurveda Medicine</td>\n",
       "      <td>12</td>\n",
       "      <td>98%</td>\n",
       "      <td>Whitefield</td>\n",
       "      <td>Ayurveda</td>\n",
       "      <td>98% 76 Feedback Whitefield, Bangalore</td>\n",
       "      <td>350</td>\n",
       "      <td>Bangalore</td>\n",
       "    </tr>\n",
       "    <tr>\n",
       "      <th>2</th>\n",
       "      <td>MBBS, MS - Otorhinolaryngology</td>\n",
       "      <td>9</td>\n",
       "      <td>NaN</td>\n",
       "      <td>Mathikere - BEL</td>\n",
       "      <td>ENT Specialist</td>\n",
       "      <td>NaN</td>\n",
       "      <td>300</td>\n",
       "      <td>Bangalore</td>\n",
       "    </tr>\n",
       "    <tr>\n",
       "      <th>3</th>\n",
       "      <td>BSc - Zoology, BAMS</td>\n",
       "      <td>12</td>\n",
       "      <td>NaN</td>\n",
       "      <td>Bannerghatta Road</td>\n",
       "      <td>Ayurveda</td>\n",
       "      <td>Bannerghatta Road, Bangalore ₹250 Available on...</td>\n",
       "      <td>250</td>\n",
       "      <td>Bangalore</td>\n",
       "    </tr>\n",
       "    <tr>\n",
       "      <th>4</th>\n",
       "      <td>BAMS</td>\n",
       "      <td>20</td>\n",
       "      <td>100%</td>\n",
       "      <td>Keelkattalai</td>\n",
       "      <td>Ayurveda</td>\n",
       "      <td>100% 4 Feedback Keelkattalai, Chennai</td>\n",
       "      <td>250</td>\n",
       "      <td>Chennai</td>\n",
       "    </tr>\n",
       "  </tbody>\n",
       "</table>\n",
       "</div>"
      ],
      "text/plain": [
       "                    Qualification  Experience Rating              Place  \\\n",
       "0           BHMS, MD - Homeopathy          24   100%           Kakkanad   \n",
       "1    BAMS, MD - Ayurveda Medicine          12    98%         Whitefield   \n",
       "2  MBBS, MS - Otorhinolaryngology           9    NaN    Mathikere - BEL   \n",
       "3             BSc - Zoology, BAMS          12    NaN  Bannerghatta Road   \n",
       "4                            BAMS          20   100%       Keelkattalai   \n",
       "\n",
       "          Profile                                 Miscellaneous_Info  Fees  \\\n",
       "0       Homeopath               100% 16 Feedback Kakkanad, Ernakulam   100   \n",
       "1        Ayurveda              98% 76 Feedback Whitefield, Bangalore   350   \n",
       "2  ENT Specialist                                                NaN   300   \n",
       "3        Ayurveda  Bannerghatta Road, Bangalore ₹250 Available on...   250   \n",
       "4        Ayurveda              100% 4 Feedback Keelkattalai, Chennai   250   \n",
       "\n",
       "         City  \n",
       "0   Ernakulam  \n",
       "1   Bangalore  \n",
       "2   Bangalore  \n",
       "3   Bangalore  \n",
       "4     Chennai  "
      ]
     },
     "execution_count": 68,
     "metadata": {},
     "output_type": "execute_result"
    }
   ],
   "source": [
    "train.head()\n",
    "df.head()"
   ]
  },
  {
   "cell_type": "code",
   "execution_count": 69,
   "metadata": {},
   "outputs": [],
   "source": [
    "#train['Qualification']=train['Qualification'].str.split(\",\")\n",
    "#Qualification={}"
   ]
  },
  {
   "cell_type": "code",
   "execution_count": 70,
   "metadata": {},
   "outputs": [
    {
     "data": {
      "text/plain": [
       "array(['BHMS, MD - Homeopathy', 'BAMS, MD - Ayurveda Medicine',\n",
       "       'MBBS, MS - Otorhinolaryngology', ..., 'MBBS',\n",
       "       'MBBS, MD - General Medicine', 'BDS, MDS - Orthodontics'],\n",
       "      dtype=object)"
      ]
     },
     "execution_count": 70,
     "metadata": {},
     "output_type": "execute_result"
    }
   ],
   "source": [
    "train['Qualification'].values"
   ]
  },
  {
   "cell_type": "code",
   "execution_count": 71,
   "metadata": {},
   "outputs": [],
   "source": [
    "train['Qualification']=train['Qualification'].str.split(\",\")\n",
    "Qualification={}\n",
    "for x in train['Qualification'].values:\n",
    "    for each in x:\n",
    "        each = each.strip()\n",
    "        if each in Qualification:\n",
    "            Qualification[each] += 1\n",
    "        else:\n",
    "            Qualification[each] = 1\n",
    "        "
   ]
  },
  {
   "cell_type": "code",
   "execution_count": 72,
   "metadata": {},
   "outputs": [
    {
     "data": {
      "text/plain": [
       "array([list(['BHMS', ' MD - Homeopathy']),\n",
       "       list(['BAMS', ' MD - Ayurveda Medicine']),\n",
       "       list(['MBBS', ' MS - Otorhinolaryngology']), ..., list(['MBBS']),\n",
       "       list(['MBBS', ' MD - General Medicine']),\n",
       "       list(['BDS', ' MDS - Orthodontics'])], dtype=object)"
      ]
     },
     "execution_count": 72,
     "metadata": {},
     "output_type": "execute_result"
    }
   ],
   "source": [
    "train['Qualification'].values"
   ]
  },
  {
   "cell_type": "code",
   "execution_count": 73,
   "metadata": {},
   "outputs": [],
   "source": [
    "#train.head()"
   ]
  },
  {
   "cell_type": "code",
   "execution_count": 74,
   "metadata": {},
   "outputs": [],
   "source": [
    "#train['Qa'] = train['Qualification'].str.split(\",\").str[0]\n",
    "#train['Qb'] = train['Qualification'].str.split(\",\").str[1]"
   ]
  },
  {
   "cell_type": "code",
   "execution_count": 75,
   "metadata": {},
   "outputs": [],
   "source": [
    "#train.shape"
   ]
  },
  {
   "cell_type": "code",
   "execution_count": 76,
   "metadata": {},
   "outputs": [],
   "source": [
    "#train['Qa'].isnull().sum()"
   ]
  },
  {
   "cell_type": "code",
   "execution_count": 77,
   "metadata": {},
   "outputs": [],
   "source": [
    "#train['Qb'].isnull().sum()"
   ]
  },
  {
   "cell_type": "code",
   "execution_count": 78,
   "metadata": {},
   "outputs": [],
   "source": [
    "#train['Qa'].value_counts()"
   ]
  },
  {
   "cell_type": "code",
   "execution_count": 79,
   "metadata": {},
   "outputs": [],
   "source": [
    "#train['Qb'].value_counts()"
   ]
  },
  {
   "cell_type": "code",
   "execution_count": 80,
   "metadata": {},
   "outputs": [],
   "source": [
    "#train.head(20)"
   ]
  },
  {
   "cell_type": "code",
   "execution_count": 81,
   "metadata": {},
   "outputs": [],
   "source": [
    "#train[train.Qualification == \"FPFA\"]"
   ]
  },
  {
   "cell_type": "code",
   "execution_count": 82,
   "metadata": {},
   "outputs": [],
   "source": [
    "# Python code to illustrate the working of strip() \n",
    "#string = '   Geeks for Geeks   '\n",
    "  \n",
    "# Leading spaces are removed \n",
    "#print(string.strip()) \n",
    "  \n",
    "# Geeks is removed \n",
    "#print(string.strip('   Geeks')) \n",
    "  \n",
    "# Not removed since the spaces do not match \n",
    "#print(string.strip('Geeks')) \n",
    "#test_dict = {\"Geeks\" : 1, \"for\" : 2, \"geeks\" : 3} \n",
    "#test_dict[\"Geeks\"]"
   ]
  },
  {
   "cell_type": "code",
   "execution_count": 83,
   "metadata": {},
   "outputs": [
    {
     "data": {
      "text/plain": [
       "dict_items([('BHMS', 749), ('MD - Homeopathy', 181), ('BAMS', 764), ('MD - Ayurveda Medicine', 139), ('MBBS', 2808), ('MS - Otorhinolaryngology', 103), ('BSc - Zoology', 3), ('BDS', 1363), ('MD - General Medicine', 285), ('BSc', 3), ('MS', 2), ('DNB - ENT', 111), ('MDS', 82), ('MDS - Oral & Maxillofacial Surgery', 104), ('Diploma in Otorhinolaryngology (DLO)', 250), ('MF- Homeopathy', 5), ('MS - ENT', 411), ('DNB', 58), ('Fellowship of College of General Practice (FCGP)', 13), ('DDVL', 161), ('IBCLC (USA)', 1), ('Post Graduate Diploma in Diabetology (PGDD)', 53), ('Diploma in Dermatology', 67), ('Fellowship in Aesthetic Medicine', 23), ('DM - Neurology', 6), ('MD - Pediatrics', 13), ('Fellowship in Cleft Lip and Craniofacial Surgery', 1), ('Diploma in Cosmetology', 3), ('AFIH', 4), ('MDS - Prosthodontist And Crown Bridge', 45), ('M. D. Hom. (Practice of Medicine)', 2), ('Diploma in Emergency Medicine', 8), ('Diploma in Counselling Skills', 2), ('DHMS (Diploma in Homeopathic Medicine and Surgery)', 47), ('MD - Dermatology', 606), ('Venereology & Leprosy', 297), ('MDS - Oral and Maxillofacial Pathology', 1), ('MFDS RCS', 4), ('MRCS (UK)', 15), ('FRGUHS', 22), ('Fellowship in Dermatological Laser Surgery', 10), ('Member of the Royal College of Physicians', 4), ('UK (MRCP UK)', 4), ('MNAMS- Family Medicine', 1), ('MD - Medicine', 72), ('MS - Psychology', 15), ('Diploma In Skin Aesthetics', 4), ('MDS - Periodontology and Oral Implantology', 47), ('Certificate in Cosmetic Dentistry', 8), ('Post Graduate Certificate in Endodontics (PGCE)', 6), ('Fellow of Academy of General Education (FAGE)', 23), ('MD - Rheumatology', 2), ('MDS - Paedodontics And Preventive Dentistry', 47), ('MDS-Oral Pathology and Oral Microbiology', 10), ('FRCP', 15), ('Doctor of Science (DSc.)', 1), ('D.LITT - Diabetology', 1), ('DDV', 129), ('MDS - Conservative Dentistry & Endodontics', 107), ('FICD', 4), ('Post Graduate Diploma in Emergency Services (PGDEMS)', 10), ('Get inspired by remarkable stories of people like you', 24), ('MD - Acupuncture', 6), ('Master of Hospital Administration', 3), ('BA', 1), ('MDS - Periodontics', 46), ('PGD in Endodontics', 1), ('MDS - Pedodontics', 30), ('PhD - Orthodontics & Dentofacial Orthopaedics', 26), ('MOrth', 2), ('MS - Ayurveda', 29), ('MRCPS', 5), ('P.G Diploma in Aesthetic Dentistry', 1), ('MD - Tuberculosis & Respiratory Diseases/Medicine', 3), ('MS - General Surgery', 40), ('Diploma in Health Administration', 9), ('MD - Skin & VD', 27), ('FAMS - Fellowship of the Academy Medicine', 3), ('MD - Internal Medicine', 71), ('DNB - Internal Medicine', 12), ('FRCS - General Surgery', 11), ('PhD - Homoeopathy', 2), ('Certificate in Dental Implants', 32), ('MDS - Orthodontics and Dentofacial Orthopaedics', 44), ('DNB - Family Medicine', 10), ('MS - Pediatric', 1), ('Member of the Royal Society for the Promotion of Health (UK) (MRSH)', 3), ('Post Graduate Diploma in Endocrinology', 5), ('MDS - Prosthodontics', 74), ('M.Sc.- Clinical Nutrition and Dietetics', 1), ('MSc - Psychotherapy And Counselling', 5), ('MS (Shalyatantra)', 1), ('MSc - Yoga', 4), ('DLO', 17), ('Post Graduate Diploma in Advanced Implantology', 1), ('MD - Alternate Medicine', 19), ('Post Graduate Diploma in Counselling & Psychotherapy', 1), ('MS - Counselling & Psychotherapy', 3), ('PhD - Alternative Medicine', 1), ('Fellowship in Oral implantlogy', 16), ('Diploma in Personal Counselling Skills (DPCS)', 1), ('DNB - Dermatology', 11), ('GCEH', 2), ('Certification in Personal Counsling', 1), ('Post Graduate Diploma in Healthcare Management(PGDHM)', 6), ('Fellowship in Lasers & Cosmetology', 2), ('Fellowship In Anti-Aging And Aesthetic Medicine', 2), ('Diploma in Practical Dermatology', 5), ('Fellow Hair Transplant Surgery', 4), ('Fellowship in Lasers & Advanced Dermatology', 1), ('DNB - Paediatrics', 4), ('MRCPCH (UK)', 3), ('MDS - Oral Medicine and Radiology', 26), ('Diploma in Obesity managemnt', 1), ('Certificate Course In Therapeutic Yoga', 1), ('DNB - Nephrology', 4), ('Certification in Aesthetic Dentistry', 10), ('MRCP', 1), ('Fellowship In Laryngology Bronchoesophagology', 3), ('FAGE', 4), ('Diploma in Medical Radio-Diagnosis', 4), ('Certification in Full Mouth Rehabilitation', 6), ('Diploma in Acupuncture', 9), ('Diploma in Naturopathy & Yogic Science (DNYS)', 3), ('Fellowship in Minimal Access Surgery', 3), ('DGO', 17), ('Diplomate in Oral Implantology', 2), ('Masters in Oral Implantology', 1), ('Implant Externship Program', 2), ('Fellowship in Implantology', 6), ('M.S. (Ayurved) Stri Roga & Prasuti Tantra', 1), ('MS - Ayurvedic Gynecology & Obstetrics', 2), ('MD - Pathology', 3), ('Fellowship in Rheumatology', 4), ('MBA', 7), ('D.Y.A', 6), ('DVD', 46), ('Diploma in Public Health', 3), ('PhD- Ayurveda', 13), ('DM - Critical Care Medicine', 1), ('Post Graduate Course in Diabetology', 7), ('DNB - Otorhinolaryngology', 45), ('BSAM', 7), ('Certificate Course in Sports and Fitness Nutrition', 2), ('Diploma in Advanced Skin and Hair Treatments', 1), ('Doctor of Medicine (Alternate Medicine)', 2), ('Certificate in Cosmetology', 2), ('MD - Skin', 13), ('VD & Leprosy', 13), ('MDS - Public Health Dentistry', 5), ('Post Graduate Diploma In Yoga', 5), ('Diploma in ENT', 3), ('MA', 2), ('DNHE', 9), ('Diploma in Endoscopy', 1), ('Diploma in Anesthesiology', 7), ('MRCGP', 8), ('MDS - Orthodontics', 68), ('MD - Microbiology', 3), ('Post-Graduate Certificate in Oral Implantology (PGCOI)', 12), ('DO', 4), ('Diploma in Naturopathy & Yoga (NDDY)', 4), ('DNB - Dermatology & Venereology', 88), ('Diploma in Dermatology & Venerology', 5), ('DPM (Psychiatry)', 3), ('M.D. (Psychiatry)', 6), ('MD - Pharmacology', 6), ('Diploma in Diabetology', 3), ('Fellowship in Diabetology(Royal Liverpool University Hospital', 1), ('UK)', 8), ('Diploma in Family Medicine (DFM)', 8), ('Post Graduate Diploma in Clinical Research (PGDCR)', 8), ('F.A.G.E', 1), ('Diploma In Clinical Panchakarma', 1), ('Diploma in Child Health (DCH)', 20), ('DNB - Pediatrics', 2), ('DAA - Diploma in Allergy Asthma and Immunology', 3), ('MS - Endocrinology & Diabetes', 1), ('DM - Cardiology', 11), ('FNB - Infectious Disease', 1), ('DNB - General Medicine', 38), ('Diploma in Tuberculosis and Chest Diseases (DTCD)', 8), ('Division of Clinical Psychology (DCP)', 2), ('MSc - Master of Oral Implantology (MOI)', 4), ('MD - Oncology', 1), ('FCPS - Dermatology', 13), ('Certificate in Child Health (CCH)', 19), ('Masters in Counselling and Psychotherapy', 2), ('Diploma in Rheumatology', 1), ('MCP(UCLA-USA)', 1), ('PhD - Neuropsychology', 1), ('Fellowship in ENT', 1), ('Diploma In Naturopathy (ND)', 6), ('PG Diploma in Sexual Medicine', 1), ('Diploma in Medical Law and Ethics (PGDMLE)', 2), ('MRCP (UK)', 21), ('MBA (Health Care)', 2), ('Diplomate of American board of hair restoration surgery', 1), ('Post Graduate Diploma in Diabetes', 1), ('MNAMS - Plastic Surgery', 1), ('Certified in Hair Transplantation', 2), ('PG Diploma In Clinical Cosmetology (PGDCC)', 13), ('DORL (ENT)', 5), ('IDCC (ISCCM)', 1), ('MD - Family Medicine', 4), ('Master of Public Health (MPH)', 4), ('Diploma in Cardiology', 5), ('Fellowship In Cosmetic Dermatology', 7), ('MD - Anaesthesiology', 6), ('Ayurvedic panchkarma', 3), ('Post Graduate Diploma in Dermotology (PGDD)', 1), ('Certificate of Oral Implantology', 14), ('Certification in Laser Dentistry', 6), (\"Dip' NMD\", 1), ('PGMHA', 2), ('Diploma in Hospital Management', 5), ('Certificate Course in Management of Thyroid Disorder', 4), ('Fellowship in Diabetology(Boston School of Medicine', 1), ('USA)', 3), ('PGDHHM', 6), ('Post Graduate Diploma in Hospital & Healthcare Management', 5), ('FCSI', 1), ('FSCAI', 3), ('Master of Clinical Dentistry', 1), ('Certified In Panchkarma', 3), ('Certification In Yoga', 2), ('Paanchabhautic Ayurveda Certificate', 1), ('Diploma in Traditional Chinese Medicine', 1), ('Diploma of Clinical Hypnotherapy', 1), ('Fellowship in Diabetology', 26), ('Diploma in Laser Dentistry', 3), ('Diploma in Preventive & Promotive Healthcare', 2), ('Integrated Clinical Hypnotherapy', 2), ('Master of Oral Laser Applications', 1), ('MSc - Psychology', 3), ('Post Graduate Diploma in Family Medicine (PGDFM)', 1), ('MD - Ayurvedic Pharmacology', 2), ('Certificate Endodontics & Pedodontics', 2), ('Certified Inman Aligner', 1), ('39 years experience', 1), ('Cert. (Prosthodontics)', 1), ('MD - Ayurvedic Obstetrics and Gynecology', 1), ('Diploma in Hospital Administration', 7), ('MCh - Urology', 4), ('DNB - Urology/Genito - Urinary Surgery', 3), ('FRCP - Endocrinology', 1), ('LCEH', 16), ('Nutrition Certification', 4), ('Doctor of Homeopathic Medicine (HMD)', 5), ('Diploma in Implant Dentistry', 2), ('Fellowship in Cosmetology', 8), ('MD - Community Medicine', 4), ('P.G.Hom.(London)', 1), ('fellowship in medical cosmetology', 1), ('germany', 1), ('Certified Advance Course In Endodontics', 5), ('Diplomate of National Board Exam', 1), ('Diploma in Implanthology', 6), ('ECFMG (USA)', 2), ('Fellowship In Dermatosurgery', 6), ('Fellowship in Pediatric Dermatology', 5), ('CGO', 25), ('Diploma in Trichology - Cosmetology', 7), ('Diploma in Weight Loss', 1), ('EducationDiploma in Naturopathy and Yoga', 1), ('P.G Diploma in Diabetes Management', 1), ('Post Graduate Diploma in Maternity and Child Health (PGDMCH)', 5), ('Fellowship SIB', 1), ('DAA', 3), ('DNB - Peripheral Vascular Surgery', 1), ('FRACS', 1), ('Diploma in Aesthetic Medicine', 4), ('MCIP', 2), ('PGDCFS', 1), ('PGDFOS', 1), ('Diploma in Journalism', 1), ('MD - Homoeopathic Philosophy', 2), ('MS - Counselling and Psychotherapy', 7), ('MCh - Oncology', 1), ('MNAMS - General Surgery', 3), ('Diploma in Geriatric Medicine', 2), ('M C P S', 1), ('Fellowship In Infectious Disease', 1), ('M Derm', 1), ('FCAH (Fellow ship course in Advance Homoepath)', 3), ('MD - Pulmonary Medicine', 3), ('BPTh/BPT', 1), ('PGNAHI', 2), ('CSD', 3), ('MSc', 6), ('PG in Diabetology', 7), ('FCPS Skin & VD', 3), ('M. D. IN KAYACHIKISTA', 2), ('Diploma in Psychiatry', 1), ('Diploma in Panchkarma Chikitsa', 1), ('Fellowship and Diplomate in Implantology from ICOI (USA)', 9), ('MCh - Plastic Surgery', 2), ('Fellowship in Cleft Lip & Palate', 1), ('MD - Diabetology', 6), ('Post Doctoral Fellowship in Diabetology', 1), ('MD - Cardiology', 5), ('MBA (HCS)', 3), ('FFDRCSI', 3), ('Fellowship in Applied Nutrition(FAN)', 2), ('PhD - Clinical Neuroscience (Pediatrics)', 1), ('Professional Diploma in Clinical Research (PDCR)', 1), ('FICOI', 8), ('MD - Physician', 23), ('BNYS', 1), ('Advanced Certificate Course in Aesthetic Dentistry', 3), ('Professional Implantology Training Course (PITC)', 2), ('FAGE- FELLOW', 1), ('Comprehensive Course in Modern Endodontics', 2), ('Indian Diploma Critical Care Medicine (IDCCM)', 3), ('Fellowship in Aesthetic Dentistry (FAD)', 3), ('Fellowship in Rhinology and Endoscopic Skull Base Surgery', 1), ('Fellowship in Otology and Neurotology', 1), ('Fellow of International Congress of Oral Implantologist', 2), ('Post MD SR AIIMS', 2), ('Fellowship in Head & Neck Oncology Surgery', 9), ('Certificate in Dental Implantology', 1), ('Certificate in Orthodontics', 1), ('Bachelor of Chiropractic', 1), ('Diploma in Venereology', 3), ('Certificate in Invisible Braces', 3), ('Certification in Clear Aligners', 2), ('Certification in “Preventing Chronic Pain: A Human Systems Approach”', 1), ('Certification in “Vital Signs: Understanding What the Body Is Telling Us”', 1), ('Diploma in Medical Trichology', 1), ('B.Sc', 12), ('MBA - Healthcare Administration', 1), ('MRCPsych', 1), ('Diploma in Medical Cosmetology and Aesthetic Medicine', 1), ('PG Diploma In Health & Hospital Management', 2), ('PG DIPLOMA IN MEDICAL TOURISM', 1), ('Fellowship in LASERs & Aesthetics', 2), ('Diploma in Orthopaedics', 3), ('DNB - General Surgery', 4), ('MS - Paediatrics Surgery', 1), ('DNB - Pediatric Surgery', 1), ('One Year Certificate course in Hospital Management', 1), ('Certified Course in Yoga', 3), ('DICOI', 3), ('MBA - Hospital Management', 5), ('G.A.M.S', 3), ('MS - Ophthalmology', 3), ('Fellowship in Implant and Esthetic Dentistry', 2), ('AOC in Aesthetic Dentistry', 1), ('PGDE (Cosmetic & Esthetic Dentist)', 3), ('Invisalign Training Course', 4), ('Post Graduate Diploma in Clinical Nutrition & Dietetics', 1), ('Masters Diploma in Acupressure', 2), ('MDS- Oral Pathology', 6), ('Fellowship in Breast Surgery', 1), ('Fellowship in Non-Invasive Cardiology (FIC)', 4), ('MAMS', 3), ('FCPS - Mid. & Gynae', 3), ('CVD', 2), ('Diploma in Clinical Nutrition', 1), ('MS - Ayurvedic General Surgery', 1), ('MD - Yoga and Rehab', 2), ('Certification in Infectious Diseases', 1), ('Diploma in Tropical Medicine Health', 2), ('Fellowship in Skull Base Surgery', 2), ('TFO (USA)', 1), ('PG in Diabetology (USA)', 3), ('MDS - Orthodontics and Orofacial Orthopaedics', 3), ('M.Med in Family Medicine', 1), ('DIACH(Greece)', 1), ('Certificate Course in Advanced Homoeopathy (C.C.A.H)', 6), ('FCCM', 4), ('FCCP - Pulmonary Medicine', 6), ('Diploma of the Faculty of Family Planning (DFFP)', 2), ('Diploma in Sports Therapy', 1), ('Post graduate diploma in Hospital Management', 2), ('Certification for Professional Chemical Peel Workshop', 1), ('Certificate in Aesthetic Medicine', 2), ('BUMS', 1), ('Masters in Clinical Dermatology', 6), ('PGCC - Rheumatology', 1), ('MD - Opthalmology', 1), ('MD - Kayachikitsalaya', 1), ('MS - Implantolgy', 1), ('Implantology ICOI(USA)', 1), ('Diploma in Diet and Nutrition', 7), ('PGDHA', 2), ('Certificate Course in Tuberculosis & Chest Diseases', 1), ('Advanced Training Program in Diabetes Care', 1), ('PhD in Liberal Studies in Diabetology (Trinity College)', 1), ('CCEDM', 3), ('CCMTD', 3), ('CCDR', 1), ('MDS - Implantology', 1), ('MD - Obstetrics & Gynaecology', 8), ('MD-DVL', 3), ('Diploma in Beauty Therapy', 1), ('Certificate Course In Cosmetic Dermatology & Lasers', 2), ('PG Diploma in Trichology', 2), ('Certificate in Botox', 1), ('Fillers', 1), ('Threadlifts', 1), ('Advanced Certification in Clinical Diabetology', 2), ('SCE Dermatology (RCP', 1), ('Post Graduate Diploma in Orthodontics', 4), ('CCD (Diabetology)', 1), ('MCh - Cardio Thoracic and Vascular Surgery', 1), ('DM - Gastroenterology', 5), ('FCPS - General Surgery', 3), ('DM - Rheumatology', 1), ('Fellowship in Dermatology', 2), ('Training in Facial Aesthetics', 1), ('Certificate in Health Management', 1), ('MD - Homeopathy Psychiatry', 2), ('PGCAD', 1), ('MRCP (Paed)', 1), ('Diplomate American Academy of Aesthetic Medicne', 1), ('MS - Urology', 1), ('MCh - Urology/Genito-Urinary Surgery', 1), ('PG Diploma In Emergency Trauma Care', 2), ('Post Graduate Diploma in Diabetology (PGDD)(Middlesex University', 1), ('Fellowship in Orthopaedic Rehabilitation (FOR)', 1), ('MIDA', 1), ('Certificate Course in Dental Lasers', 1), ('Certificate Course in Implantology', 3), ('DM - Endocrinology', 3), ('PGCR', 2), ('Diploma in Diabetes/Endocrinology (Middlesex University)', 1), ('MD - Paediatrics', 2), ('MD - (Dermatology & STD)', 2), ('Diploma in Clinical Pathology', 1), ('PG Diploma in Preventive and Promotive Health Care (PGD PPHC)', 1), ('Fellowship in Medical Cosmetology (FMC)', 2), ('MDS - Endodontics', 4), ('MCh - Neuro Surgery', 2), ('Fellowship in Cosmetic Surgery', 2), ('DNB - Ophthalmology', 3), ('Fellowship in Vitreo-Retina', 1), ('MS - Orthopaedics', 4), ('MNAMS (Membership of the National Academy)', 5), ('Post Graduate Diploma in Medicological Systems (PGDMS)', 2), ('Fellow of the Royal Australasian College of Surgeons', 1), ('FRACS (General Surgery)', 1), ('Fellowship in Ayurvedic Medicine', 1), ('DM - Oncology', 2), ('DHMS', 3), ('Fellowship in Endocrinology', 2), ('Diabetes & Metabolism', 2), ('Fellow of American College of Endocrinology(FACE)', 1), ('PG Diploma in Child Health', 1), ('POST GRADUATE IN HOMOEOPATHY', 1), ('Certified in Orthodontics', 2), ('Certified BPS Dentist', 3), ('Fellowship in Advanced Endoscopic Sinus Surgery', 3), ('Degree in Dental Implant', 1), ('Advanced Endotontic Course On Root Canal', 2), ('Master In Counselling Psychology', 1), ('Diploma in Diabetology (Mumbai University)', 1), ('D.Sc', 2), ('Certification Course In Diabetes', 2), ('Fellowship in Clinical Cardiology', 1), ('Post Graduate Certificate in Advanced Oral Implantology', 3), ('Ph.D Panchakarma', 1), ('M.Ch', 3), ('FICS', 3), ('FRCS', 3), ('PG Diploma in Panchakarma', 1), ('F.C.I.P', 1), ('MDS - Oral & Maxillofacial Pathology and Microbiology', 1), ('M.Ch - Orthopaedics', 2), ('Fellowship in Joint Replacement', 2), ('Fellowship in Diabetology(Royal Liverpool Academy', 2), ('FCD - Diabetology', 5), ('PhD - Microbiology', 1), ('DEMS', 2), ('Member of Royal College of Emergency Medicine(MRCEM)', 1), ('Masters in Emergency Medicine', 1), ('International Certificate in Implant Dentistry', 1), ('Current Concepts in American Dentistry Advances in Implantology and Oral Rehabilitation', 2), ('MSc - Forensic Odontology', 2), ('MBA - Hospital Administration', 1), ('MCh - Surgical Gastroenterology/G.I. Surgery', 2), ('DNB - Infectious Disease', 1), ('PGDMLS', 4), ('MBA - HealthCare Management', 2), ('M.H.Sc-Diabetology', 3), ('CCEBDM', 3), ('Certificate Course in Nutrition and Dietetics', 1), ('PhD - Acupuncture', 2), ('BEMS', 5), ('Fellowship in Gastroenterology', 2), ('DNB - Oral & Maxillofacial Surgery', 1), ('MD- Dravya Guna', 3), ('Fellow of Advanced Micro ear Surgery', 1), ('MDS- Periodontist & Implantalogist', 1), ('Fellowship in Head & Neck Surgery', 2), ('Fellowship Training in Intensive Care Medicine', 1), ('Fellow of Indian College of Cardiology (FICC)', 1), ('MD - Anatomy', 2), ('Fellowship in Child and Adolescent Psychiatry', 1), ('Post Graduate Diploma in Periodontics and Implantology', 1), ('Fellowship Program in Forensic Odontology', 1), ('Fellowship In Phonosurgery', 2), ('MA - Psychology', 2), ('Post Graduate Course in Rheumatology', 1), ('MD - Venereology', 1), ('MD - Repertory', 1), ('DNB - Obstetrics & Gynecology', 2), ('Postgraduate Diploma Clinical Cardiology (PGDCC)', 6), ('Fellowship in Cardiac Rehabilitation', 2), ('Certificate Course in Oral Implantology', 1), ('MPH', 4), ('Post Graduate Diploma in Holistic Healthcare', 1), ('Graduate Diploma in Family Medicine', 1), ('Singapore', 1), ('D.Ortho Fellow Arthroscopy & Arthroplasty(AUST)', 1), ('DNB - Orthopedics/Orthopedic Surgery', 3), ('MNAMS - DERMATOLOGY', 1), ('Basic Life Support (BLS)', 3), ('ACLS', 1), ('Advanced Trauma Life Support (ATLS)', 2), ('Diploma In Pharmacy', 3), ('Advance Diploma in Nutrition and Dietetics', 2), ('Certificate in Yoga & Meditation', 1), ('DM - Nephrology', 4), ('Diploma in Nutrition and Health Education', 1), ('MSc - Clinical Dermatology', 4), ('Advanced Certificate in Endodontics and Esthetics', 1), ('Advanced Certificate Course in Dental Implants', 2), ('B.Ac', 1), ('FACC', 1), ('Certificate Course in Positive Psychology', 1), ('Clinical Nutritionist certifcate', 1), ('M.Sc - Counselling and Family Therapy', 1), ('D. Dermatology (Ay.)', 1), ('Master of Family Medicine', 2), ('MS - Obstetrics & Gynaecology', 2), ('MDS- Root Canal Specialist', 1), ('FCPS (ENT)', 1), ('Certificate in Implantology', 1), ('FCPS - Oto-Rhino-Laryngology', 5), ('Certificate in Medical Cosmetology and Aesthetics', 1), ('MCh - Head and Neck Oncology', 4), ('DDVCPS', 1), ('Diploma in Medical Cosmetology', 4), ('FNB - Critical Care Medicine', 1), ('European Diploma in Intensive Care Medicine (EDIC)', 1), ('CCST - Internal Medicine', 1), ('CCST - Diabetes & Endocrinology', 2), ('M.D. (E.H)', 1), ('MDS - Preventive & Community Dentistry', 1), ('Diploma in Homoeopathy and Biochemistry', 1), ('Diploma in Hair Restoration Surgery', 2), ('Fellowship In Pediatric Otolaryngology', 2), ('Fellowship in Diabetology(The University of Liverpool', 1), ('Diploma in Industrial Hygiene', 2), ('Diploma in Educational Psychology', 1), ('Certificate in Food and Nutrition', 3), ('Diploma in Clinical Dermatology (UK)', 1), ('F.S.R.H', 1), ('FCPS - Medicine', 2), ('MD - Nephrology', 1), ('MCh - Surgical Oncology', 2), ('Diploma in Gynaecology & Obstetrics', 1), ('Fellow of the American Academy of Dermatology (FAAD)', 4), ('MDS - Prosthodontist & Oral Implantologist', 4), ('MD - Homeo Organon', 2), ('MFGDP - Membership of the Faculty of General Dental Practitioners', 1), ('Membership of the Faculty of Dental Surgeons(MFDS)', 1), ('DNB - Respiratory Diseases', 2), ('BIMS', 1), ('MCPS', 2), ('Certificate in Sports Nutrition', 1), ('Post Graduate Diploma in Medical Cosmetology (PGDMC)', 2), ('Certificate in Pediatric Otolaryngology - Head and Neck Surgery', 1), ('Diploma in Aesthetic Dermatology', 1), ('MD - Infectious Diseases', 1), ('Certificate Course of One Year in Dental Implants', 1), ('Certificate Course in Advance Implantology', 1), ('Certificate Course in Evidence Based Diabetes Management (CCEBDM)', 4), ('Certificate Course in Gestational Diabetes (CCGDM)', 3), ('MD - Physical Medicine & Rehabilitation', 1), ('Diploma in Physical Medicine & Rehabilitation', 1), ('Fellowship in Diabetology & Endocrinology', 1), ('CCT - Endocrinology and Diabetes Mellitus', 1), ('Certified Sinus lift surgeon', 1), ('Diploma in Skin Polishing Technology', 1), ('Diploma in Slimming & Laser Treatments', 1), ('Certificate in Clinical Cosmetology', 1), ('PCAD (USA)', 1), ('MD - Acupressure', 2), ('PhD - Diabetes', 1), ('Fellowship in Medical Cosmetology', 2), ('Diploma in Cosmetic Dentistry', 1), ('FRCS - Otolaryngology', 5), ('DNB - Cardiology', 2), ('Distance Fellowship in Diabetes Management', 1), ('MBA - Healthcare Services', 1), ('Post Graduate Diploma in Diabetology (PGDD)(Johns Hopkins University School of Medicine', 1), ('Fellowship in Diabetology(Johns Hopkins University School of Medicine', 1), ('DMD - Doctor of Dental Medicine', 1), ('Post Graduate Diploma in Diabetology (PGDD)(Cardiff University', 1), ('ACDMC', 1), ('Diploma in Acupressure Therapy', 1), ('Advanced Certificate Course In Diabetes', 4), ('Post graduate certificate In sports Medicine', 1), ('Clinical Cardiology Certification', 1), ('FDS Surgical Oral Oncology', 1), ('Diploma in Ultra Sonology', 1), ('MD (HOM) - Paeditrics', 1), ('Clinical Fellowship in Rhinology', 1), ('MD - Ophthalmology', 1), ('MDS - Oral Pathalogy & Microbiology', 1), ('LLB', 2), ('Fellow in Dermato - Surgery', 1), ('Advance Fellowship in Laser & Dermatosurgery', 1), ('PhD - Psychology', 1), ('MD - Tuberculosis & Respiratory Diseases / Pulmonary Medicine', 2), ('MDS - Oral Medicine', 4), ('PG Certificate Course In Diabetes Education(PGDCE)', 3), ('PGD Yoga', 1), ('MA (Yoga Shastra)', 1), ('Diploma in Yoga Shikshaka', 1), (\"Yoga Instructor's Course\", 4), ('D.H.M', 1), ('MD - Physiology', 1), ('F.A.M', 1), ('Fellowship in laryngology', 1), ('Ph. D - ENT', 1), ('Certificate in Laser and Dermatology', 1), ('Diploma in Skin & Vinereal Disease', 1), ('Diploma of Nutrition & Diet Planning', 2), ('Diploma in Diabetes', 3), ('PG - Echocardiography', 1), ('DM - Pulmonary Medicine & Critical Care Medicine', 1), ('European Diploma in Respiratory Medicine', 1), ('Post Graduate Diploma in Diabetic Education', 1), ('Weight Management Consultant Certificate', 1), ('Fellowship (Endoscopic Sinus Surgery)', 1), ('MD - TB & Chest', 1), ('FRACP (Rheumatology)', 2), ('F.C.P.S (Dermatology)', 1), ('Post Graduate Diploma in Health Sciences (PGDHSc)', 1), ('Master of Health Sciences (MHSc)', 3), ('M. SC in YOGA', 1), ('Diploma in Naturopathy & Yogic Science (DNYT)', 1), ('DYSc.', 1), ('Post Graduate in Clinical Psychology', 1), ('Certificate Course in Panchakarma', 2), ('Certificate Course in Nadi Sutra', 1), ('Post Graduate Certificate In Hiv And Std Manegement', 1), ('Fellow Indian Academy Of Clinical Medicine', 1), ('Advance Course In Osteoporosis', 1), ('EULAR certificate for Rheumatic Diseases', 1), ('MD - Radio Diagnosis/Radiology', 1), ('CCT - Dermatology', 1), ('Diploma in ABLS (USA)', 1), ('FPFA', 1), ('MDS - Preventive and Public Health Dentistry', 2), ('Certificate course in Reiki', 1), ('Certificate in Nutrition and Health in Hospitalized', 1), ('Certificate in Guidance and Counselling', 1), ('Post graduate diploma in Health Management', 1), ('PGDPC (Post Graduation Diploma In Psychological Counselling)', 3), ('MD - Transfusion Medicine', 1), ('MD - Bio-Chemistry', 1), ('PGD ND', 1), ('MBS (H)', 1), ('FIAMS', 2), ('Certified in Pedodontics', 1), ('FICS - ENT', 1), ('FRHS', 1), ('M.Sc - Biochemistry', 1), ('Fellow of the Royal College of Surgeons of Ireland', 1), ('Fundamental in Oral Implantology', 1), ('Doctorate of Medicine in Electro Homoeopathy(MDEH)', 1), ('D.D', 1), ('FCCS', 3), ('DSM ( Siddha Medicine)', 1), ('D.Ac', 1), ('MD - Social & Preventive Medicine / Community Medicine', 1), ('PGCE(Endodontics)', 1), ('MS - Ayurvedic Ophthalmology', 1), ('MNAMS - Nephrology', 1), ('DAFPRS Fellowship in Aesthetic Surgery', 1), ('Fellowship in Pediatric Endocrinology', 1), ('Diploma in Urology', 1), ('FRCPCH', 1), ('M Phil Psychology', 1), ('PDCC - Hand', 1), ('PG in Laser Dentistry', 1), ('Diploma in Obesity & Pain management', 1), ('Post Graduate Diploma in Health', 1), ('Family Welfare and Population', 1), ('DIH', 1), ('Doctor of Medicine', 2), ('M.D. Panchakarma', 1), ('M.Sc. Yoga and Naturopathy', 1), ('Certificate in Botox and Fillers', 1), ('MD - Pain Management', 1), ('FICA', 2), ('Diploma in Dietetics', 1), ('Health and Nutrition (DDHN)', 1), ('DVL', 2), ('Diplomate in Neuromuscular Functional Orthodontics And Gathology', 1), ('FIMSA', 2), ('MSc - Physiology', 1), ('PG Diploma Clinical Research', 1), ('Diploma in Dietetics & Public Health Nutrition (DDPHN)', 1), ('Robert Turner Diabetes Research Training', 1), ('WHO/IDF/EASD Cambridge Diabetes Training', 1), ('MS - Otrohinolaryngology', 1), ('AMI Essentials- Applied Workshop for Aesthetic Procedures', 1), ('Advanced Course in Cosmetology and Aesthetic Medicine', 2), ('Fellowship in Micro Ear surgery', 1), ('Fellowship in Snoring Surgery', 1), ('Diploma in Industrial Health', 1), ('MSc - Psychotherapy', 1), ('Certification of Life Coach', 1), ('PG - Homeo', 1), ('M.A - Sanskrit', 1), ('DNB - Endocrinology', 1), ('Diabetes', 1), ('Metabolism', 1), ('Certified Yoga and Pranic healing Therapist', 1), ('Certified National Diabetes Educator', 1), ('Bachelor of Acupuncture', 1), ('Certified Analytical Hypnotherapist', 1), ('Diploma in Physiotherapy', 1), ('Certificate in Medical Cosmetology', 1), ('MD - Radiotherapy', 1), ('Certificate course in SUJOK Therapy', 1), ('Fellowship In Clinical Cosmetology', 1), ('Cochlear Implant Surgery', 1), ('Fellowship Cochlear Implant Training', 1), ('Post Graduate Diploma in Psychological Counseling', 1), ('Post Graduate Diploma in Diabetology (PGDD)(Madras Medical College)', 1), ('Diploma in Skin Treatments (UK)', 1), ('Certification of Aesthetic Dentistry & Periodontics', 1), ('MCh - Burns & Plastic Surgery', 1), ('EULAR Certificate in Rheumatology', 1), ('FICO (UK)', 1), ('PhD - Dermatology & Venereology', 1), ('DNB - Pulmonary Medicine', 3), ('Post Graduate Certificate Course In Aesthetic Dentistry', 1), ('FACP', 1), ('Member of the Royal College of General Practitioners UK (MRCGP)', 1), ('MD - Geriatrics', 1), ('MD AYURVED AND YOG', 1), ('Training Certificate in Hair Transplant', 1), ('Certificate Course in Gestational Diabetes Mellitus', 1), ('P.G. Diploma in Yoga & Meditation', 1), ('MD-Ayurvedic Vachaspati', 1), ('Post Graduate Diploma in Sports Medicine', 1), ('MSc. - Dermatology Skills and Treatment (University of Hertfordshire)', 1), ('MSc - Applied Psychology', 1), ('FRCSEd', 1), ('MSc - Endocrinology(UK)', 1), ('MCh - Cardio Thoracic Surgery', 1), ('Masters in Surgery (MS)', 1), ('MD - (Medicine - Endocrinology)', 1), ('MCEM', 1), ('DFM (UK)', 1), ('DIPLOMA IN TB AND CHEST DISEASES', 1), ('Certification in Nutrition and Weight Management', 1), ('DAT(Diploma in Accupressure and foot Reflexology)', 1), ('MASLP', 1), ('Diploma in Radio Therapy', 1), ('FDSRCS - Fellowship in Dental Surgery', 2), ('Fellowship in ClearPath Aligners', 1), ('FAMS - Dermatology', 1), ('Diploma In Anatomy Physiology', 1), ('PDCC - Pediatric Endocrinology', 1), ('Diploma in Counselling and Psychotherapy', 1), ('MD - CCM', 1), ('Ph.D(Doctor of Philosophy)', 1), ('PG Diploma in Value Education and Spirtuality', 1), ('Certified Implantologist', 1), ('Fellowship in Surgical Oncology (Head & Neck)', 1), ('Continuing Education Certificate Program on Temporomandibular Joint Disorder and Orofacial Pain', 1), ('Post Graduate in Homeopathy(london)', 1), ('DNB - Radiation Oncology', 1), ('MDS - Operative Dentistry', 1), ('DTCD(Diploma in TB and Chest Dieseas)', 1), ('Member Of The National Academy Of Medical Sciences', 1), ('DNB - Radiotherapy', 1), ('Post Graduate Diploma in Diabetology (PGDD)(University of Leicester', 1), ('DRCOG', 1), ('FDS Endodontics', 1), ('Certified in Advanced Orthodontics', 1), ('certification in smile designing', 1)])"
      ]
     },
     "execution_count": 83,
     "metadata": {},
     "output_type": "execute_result"
    }
   ],
   "source": [
    "Qualification.items()\n",
    "#test1 = sorted(Qualification.items(),reverse=True )\n",
    "#test1"
   ]
  },
  {
   "cell_type": "code",
   "execution_count": 84,
   "metadata": {},
   "outputs": [
    {
     "data": {
      "text/plain": [
       "[('MBBS', 2808),\n",
       " ('BDS', 1363),\n",
       " ('BAMS', 764),\n",
       " ('BHMS', 749),\n",
       " ('MD - Dermatology', 606),\n",
       " ('MS - ENT', 411),\n",
       " ('Venereology & Leprosy', 297),\n",
       " ('MD - General Medicine', 285),\n",
       " ('Diploma in Otorhinolaryngology (DLO)', 250),\n",
       " ('MD - Homeopathy', 181)]"
      ]
     },
     "execution_count": 84,
     "metadata": {},
     "output_type": "execute_result"
    }
   ],
   "source": [
    "most_qua = sorted(Qualification.items(),key = lambda x:x[1],reverse=True )[:10]\n",
    "most_qua"
   ]
  },
  {
   "cell_type": "code",
   "execution_count": 85,
   "metadata": {},
   "outputs": [],
   "source": [
    "final_qua = []\n",
    "for tup in most_qua:\n",
    "    final_qua.append(tup[0])"
   ]
  },
  {
   "cell_type": "code",
   "execution_count": 86,
   "metadata": {},
   "outputs": [
    {
     "data": {
      "text/plain": [
       "['MBBS',\n",
       " 'BDS',\n",
       " 'BAMS',\n",
       " 'BHMS',\n",
       " 'MD - Dermatology',\n",
       " 'MS - ENT',\n",
       " 'Venereology & Leprosy',\n",
       " 'MD - General Medicine',\n",
       " 'Diploma in Otorhinolaryngology (DLO)',\n",
       " 'MD - Homeopathy']"
      ]
     },
     "execution_count": 86,
     "metadata": {},
     "output_type": "execute_result"
    }
   ],
   "source": [
    "final_qua"
   ]
  },
  {
   "cell_type": "code",
   "execution_count": 87,
   "metadata": {},
   "outputs": [],
   "source": [
    "for title in final_qua:\n",
    "    train[title] = 0"
   ]
  },
  {
   "cell_type": "code",
   "execution_count": 88,
   "metadata": {},
   "outputs": [
    {
     "data": {
      "text/html": [
       "<div>\n",
       "<style scoped>\n",
       "    .dataframe tbody tr th:only-of-type {\n",
       "        vertical-align: middle;\n",
       "    }\n",
       "\n",
       "    .dataframe tbody tr th {\n",
       "        vertical-align: top;\n",
       "    }\n",
       "\n",
       "    .dataframe thead th {\n",
       "        text-align: right;\n",
       "    }\n",
       "</style>\n",
       "<table border=\"1\" class=\"dataframe\">\n",
       "  <thead>\n",
       "    <tr style=\"text-align: right;\">\n",
       "      <th></th>\n",
       "      <th>Qualification</th>\n",
       "      <th>Experience</th>\n",
       "      <th>Rating</th>\n",
       "      <th>Place</th>\n",
       "      <th>Profile</th>\n",
       "      <th>Miscellaneous_Info</th>\n",
       "      <th>Fees</th>\n",
       "      <th>City</th>\n",
       "      <th>MBBS</th>\n",
       "      <th>BDS</th>\n",
       "      <th>BAMS</th>\n",
       "      <th>BHMS</th>\n",
       "      <th>MD - Dermatology</th>\n",
       "      <th>MS - ENT</th>\n",
       "      <th>Venereology &amp; Leprosy</th>\n",
       "      <th>MD - General Medicine</th>\n",
       "      <th>Diploma in Otorhinolaryngology (DLO)</th>\n",
       "      <th>MD - Homeopathy</th>\n",
       "    </tr>\n",
       "  </thead>\n",
       "  <tbody>\n",
       "    <tr>\n",
       "      <th>0</th>\n",
       "      <td>[BHMS,  MD - Homeopathy]</td>\n",
       "      <td>24</td>\n",
       "      <td>10</td>\n",
       "      <td>Kakkanad</td>\n",
       "      <td>Homeopath</td>\n",
       "      <td>100% 16 Feedback Kakkanad, Ernakulam</td>\n",
       "      <td>100</td>\n",
       "      <td>Ernakulam</td>\n",
       "      <td>0</td>\n",
       "      <td>0</td>\n",
       "      <td>0</td>\n",
       "      <td>0</td>\n",
       "      <td>0</td>\n",
       "      <td>0</td>\n",
       "      <td>0</td>\n",
       "      <td>0</td>\n",
       "      <td>0</td>\n",
       "      <td>0</td>\n",
       "    </tr>\n",
       "    <tr>\n",
       "      <th>1</th>\n",
       "      <td>[BAMS,  MD - Ayurveda Medicine]</td>\n",
       "      <td>12</td>\n",
       "      <td>10</td>\n",
       "      <td>Whitefield</td>\n",
       "      <td>Ayurveda</td>\n",
       "      <td>98% 76 Feedback Whitefield, Bangalore</td>\n",
       "      <td>350</td>\n",
       "      <td>Bangalore</td>\n",
       "      <td>0</td>\n",
       "      <td>0</td>\n",
       "      <td>0</td>\n",
       "      <td>0</td>\n",
       "      <td>0</td>\n",
       "      <td>0</td>\n",
       "      <td>0</td>\n",
       "      <td>0</td>\n",
       "      <td>0</td>\n",
       "      <td>0</td>\n",
       "    </tr>\n",
       "    <tr>\n",
       "      <th>2</th>\n",
       "      <td>[MBBS,  MS - Otorhinolaryngology]</td>\n",
       "      <td>9</td>\n",
       "      <td>0</td>\n",
       "      <td>Mathikere - BEL</td>\n",
       "      <td>ENT Specialist</td>\n",
       "      <td>NaN</td>\n",
       "      <td>300</td>\n",
       "      <td>Bangalore</td>\n",
       "      <td>0</td>\n",
       "      <td>0</td>\n",
       "      <td>0</td>\n",
       "      <td>0</td>\n",
       "      <td>0</td>\n",
       "      <td>0</td>\n",
       "      <td>0</td>\n",
       "      <td>0</td>\n",
       "      <td>0</td>\n",
       "      <td>0</td>\n",
       "    </tr>\n",
       "    <tr>\n",
       "      <th>3</th>\n",
       "      <td>[BSc - Zoology,  BAMS]</td>\n",
       "      <td>12</td>\n",
       "      <td>0</td>\n",
       "      <td>Bannerghatta Road</td>\n",
       "      <td>Ayurveda</td>\n",
       "      <td>Bannerghatta Road, Bangalore ₹250 Available on...</td>\n",
       "      <td>250</td>\n",
       "      <td>Bangalore</td>\n",
       "      <td>0</td>\n",
       "      <td>0</td>\n",
       "      <td>0</td>\n",
       "      <td>0</td>\n",
       "      <td>0</td>\n",
       "      <td>0</td>\n",
       "      <td>0</td>\n",
       "      <td>0</td>\n",
       "      <td>0</td>\n",
       "      <td>0</td>\n",
       "    </tr>\n",
       "    <tr>\n",
       "      <th>4</th>\n",
       "      <td>[BAMS]</td>\n",
       "      <td>20</td>\n",
       "      <td>10</td>\n",
       "      <td>Keelkattalai</td>\n",
       "      <td>Ayurveda</td>\n",
       "      <td>100% 4 Feedback Keelkattalai, Chennai</td>\n",
       "      <td>250</td>\n",
       "      <td>Chennai</td>\n",
       "      <td>0</td>\n",
       "      <td>0</td>\n",
       "      <td>0</td>\n",
       "      <td>0</td>\n",
       "      <td>0</td>\n",
       "      <td>0</td>\n",
       "      <td>0</td>\n",
       "      <td>0</td>\n",
       "      <td>0</td>\n",
       "      <td>0</td>\n",
       "    </tr>\n",
       "  </tbody>\n",
       "</table>\n",
       "</div>"
      ],
      "text/plain": [
       "                       Qualification  Experience Rating              Place  \\\n",
       "0           [BHMS,  MD - Homeopathy]          24     10           Kakkanad   \n",
       "1    [BAMS,  MD - Ayurveda Medicine]          12     10         Whitefield   \n",
       "2  [MBBS,  MS - Otorhinolaryngology]           9      0    Mathikere - BEL   \n",
       "3             [BSc - Zoology,  BAMS]          12      0  Bannerghatta Road   \n",
       "4                             [BAMS]          20     10       Keelkattalai   \n",
       "\n",
       "          Profile                                 Miscellaneous_Info  Fees  \\\n",
       "0       Homeopath               100% 16 Feedback Kakkanad, Ernakulam   100   \n",
       "1        Ayurveda              98% 76 Feedback Whitefield, Bangalore   350   \n",
       "2  ENT Specialist                                                NaN   300   \n",
       "3        Ayurveda  Bannerghatta Road, Bangalore ₹250 Available on...   250   \n",
       "4        Ayurveda              100% 4 Feedback Keelkattalai, Chennai   250   \n",
       "\n",
       "         City  MBBS  BDS  BAMS  BHMS  MD - Dermatology  MS - ENT  \\\n",
       "0   Ernakulam     0    0     0     0                 0         0   \n",
       "1   Bangalore     0    0     0     0                 0         0   \n",
       "2   Bangalore     0    0     0     0                 0         0   \n",
       "3   Bangalore     0    0     0     0                 0         0   \n",
       "4     Chennai     0    0     0     0                 0         0   \n",
       "\n",
       "   Venereology & Leprosy  MD - General Medicine  \\\n",
       "0                      0                      0   \n",
       "1                      0                      0   \n",
       "2                      0                      0   \n",
       "3                      0                      0   \n",
       "4                      0                      0   \n",
       "\n",
       "   Diploma in Otorhinolaryngology (DLO)  MD - Homeopathy  \n",
       "0                                     0                0  \n",
       "1                                     0                0  \n",
       "2                                     0                0  \n",
       "3                                     0                0  \n",
       "4                                     0                0  "
      ]
     },
     "execution_count": 88,
     "metadata": {},
     "output_type": "execute_result"
    }
   ],
   "source": [
    "train.head()"
   ]
  },
  {
   "cell_type": "code",
   "execution_count": 89,
   "metadata": {},
   "outputs": [
    {
     "name": "stderr",
     "output_type": "stream",
     "text": [
      "C:\\ProgramData\\Anaconda3\\lib\\site-packages\\ipykernel_launcher.py:5: SettingWithCopyWarning: \n",
      "A value is trying to be set on a copy of a slice from a DataFrame\n",
      "\n",
      "See the caveats in the documentation: http://pandas.pydata.org/pandas-docs/stable/indexing.html#indexing-view-versus-copy\n",
      "  \"\"\"\n"
     ]
    }
   ],
   "source": [
    "for x,y in zip(train['Qualification'].values,np.array([idx for idx in range(len(train))])):\n",
    "    for q in x:\n",
    "        q=q.strip()\n",
    "        if q in final_qua:\n",
    "            train[q][y]=1           "
   ]
  },
  {
   "cell_type": "code",
   "execution_count": 90,
   "metadata": {},
   "outputs": [
    {
     "data": {
      "text/plain": [
       "array(['BHMS, MD - Homeopathy', 'BAMS, MD - Ayurveda Medicine',\n",
       "       'MBBS, MS - Otorhinolaryngology', ..., 'MBBS',\n",
       "       'MBBS, MD - General Medicine', 'BDS, MDS - Orthodontics'],\n",
       "      dtype=object)"
      ]
     },
     "execution_count": 90,
     "metadata": {},
     "output_type": "execute_result"
    }
   ],
   "source": [
    "train.drop(\"Qualification\",inplace=True,axis=1)\n",
    "df['Qualification'].values"
   ]
  },
  {
   "cell_type": "code",
   "execution_count": 91,
   "metadata": {},
   "outputs": [
    {
     "data": {
      "text/html": [
       "<div>\n",
       "<style scoped>\n",
       "    .dataframe tbody tr th:only-of-type {\n",
       "        vertical-align: middle;\n",
       "    }\n",
       "\n",
       "    .dataframe tbody tr th {\n",
       "        vertical-align: top;\n",
       "    }\n",
       "\n",
       "    .dataframe thead th {\n",
       "        text-align: right;\n",
       "    }\n",
       "</style>\n",
       "<table border=\"1\" class=\"dataframe\">\n",
       "  <thead>\n",
       "    <tr style=\"text-align: right;\">\n",
       "      <th></th>\n",
       "      <th>Experience</th>\n",
       "      <th>Rating</th>\n",
       "      <th>Place</th>\n",
       "      <th>Profile</th>\n",
       "      <th>Miscellaneous_Info</th>\n",
       "      <th>Fees</th>\n",
       "      <th>City</th>\n",
       "      <th>MBBS</th>\n",
       "      <th>BDS</th>\n",
       "      <th>BAMS</th>\n",
       "      <th>BHMS</th>\n",
       "      <th>MD - Dermatology</th>\n",
       "      <th>MS - ENT</th>\n",
       "      <th>Venereology &amp; Leprosy</th>\n",
       "      <th>MD - General Medicine</th>\n",
       "      <th>Diploma in Otorhinolaryngology (DLO)</th>\n",
       "      <th>MD - Homeopathy</th>\n",
       "    </tr>\n",
       "  </thead>\n",
       "  <tbody>\n",
       "    <tr>\n",
       "      <th>0</th>\n",
       "      <td>24</td>\n",
       "      <td>10</td>\n",
       "      <td>Kakkanad</td>\n",
       "      <td>Homeopath</td>\n",
       "      <td>100% 16 Feedback Kakkanad, Ernakulam</td>\n",
       "      <td>100</td>\n",
       "      <td>Ernakulam</td>\n",
       "      <td>0</td>\n",
       "      <td>0</td>\n",
       "      <td>0</td>\n",
       "      <td>1</td>\n",
       "      <td>0</td>\n",
       "      <td>0</td>\n",
       "      <td>0</td>\n",
       "      <td>0</td>\n",
       "      <td>0</td>\n",
       "      <td>1</td>\n",
       "    </tr>\n",
       "    <tr>\n",
       "      <th>1</th>\n",
       "      <td>12</td>\n",
       "      <td>10</td>\n",
       "      <td>Whitefield</td>\n",
       "      <td>Ayurveda</td>\n",
       "      <td>98% 76 Feedback Whitefield, Bangalore</td>\n",
       "      <td>350</td>\n",
       "      <td>Bangalore</td>\n",
       "      <td>0</td>\n",
       "      <td>0</td>\n",
       "      <td>1</td>\n",
       "      <td>0</td>\n",
       "      <td>0</td>\n",
       "      <td>0</td>\n",
       "      <td>0</td>\n",
       "      <td>0</td>\n",
       "      <td>0</td>\n",
       "      <td>0</td>\n",
       "    </tr>\n",
       "    <tr>\n",
       "      <th>2</th>\n",
       "      <td>9</td>\n",
       "      <td>0</td>\n",
       "      <td>Mathikere - BEL</td>\n",
       "      <td>ENT Specialist</td>\n",
       "      <td>NaN</td>\n",
       "      <td>300</td>\n",
       "      <td>Bangalore</td>\n",
       "      <td>1</td>\n",
       "      <td>0</td>\n",
       "      <td>0</td>\n",
       "      <td>0</td>\n",
       "      <td>0</td>\n",
       "      <td>0</td>\n",
       "      <td>0</td>\n",
       "      <td>0</td>\n",
       "      <td>0</td>\n",
       "      <td>0</td>\n",
       "    </tr>\n",
       "    <tr>\n",
       "      <th>3</th>\n",
       "      <td>12</td>\n",
       "      <td>0</td>\n",
       "      <td>Bannerghatta Road</td>\n",
       "      <td>Ayurveda</td>\n",
       "      <td>Bannerghatta Road, Bangalore ₹250 Available on...</td>\n",
       "      <td>250</td>\n",
       "      <td>Bangalore</td>\n",
       "      <td>0</td>\n",
       "      <td>0</td>\n",
       "      <td>1</td>\n",
       "      <td>0</td>\n",
       "      <td>0</td>\n",
       "      <td>0</td>\n",
       "      <td>0</td>\n",
       "      <td>0</td>\n",
       "      <td>0</td>\n",
       "      <td>0</td>\n",
       "    </tr>\n",
       "    <tr>\n",
       "      <th>4</th>\n",
       "      <td>20</td>\n",
       "      <td>10</td>\n",
       "      <td>Keelkattalai</td>\n",
       "      <td>Ayurveda</td>\n",
       "      <td>100% 4 Feedback Keelkattalai, Chennai</td>\n",
       "      <td>250</td>\n",
       "      <td>Chennai</td>\n",
       "      <td>0</td>\n",
       "      <td>0</td>\n",
       "      <td>1</td>\n",
       "      <td>0</td>\n",
       "      <td>0</td>\n",
       "      <td>0</td>\n",
       "      <td>0</td>\n",
       "      <td>0</td>\n",
       "      <td>0</td>\n",
       "      <td>0</td>\n",
       "    </tr>\n",
       "    <tr>\n",
       "      <th>5</th>\n",
       "      <td>8</td>\n",
       "      <td>0</td>\n",
       "      <td>Porur</td>\n",
       "      <td>Ayurveda</td>\n",
       "      <td>NaN</td>\n",
       "      <td>100</td>\n",
       "      <td>Chennai</td>\n",
       "      <td>0</td>\n",
       "      <td>0</td>\n",
       "      <td>1</td>\n",
       "      <td>0</td>\n",
       "      <td>0</td>\n",
       "      <td>0</td>\n",
       "      <td>0</td>\n",
       "      <td>0</td>\n",
       "      <td>0</td>\n",
       "      <td>0</td>\n",
       "    </tr>\n",
       "    <tr>\n",
       "      <th>6</th>\n",
       "      <td>42</td>\n",
       "      <td>0</td>\n",
       "      <td>Karol Bagh</td>\n",
       "      <td>Homeopath</td>\n",
       "      <td>NaN</td>\n",
       "      <td>200</td>\n",
       "      <td>Delhi</td>\n",
       "      <td>0</td>\n",
       "      <td>0</td>\n",
       "      <td>0</td>\n",
       "      <td>1</td>\n",
       "      <td>0</td>\n",
       "      <td>0</td>\n",
       "      <td>0</td>\n",
       "      <td>0</td>\n",
       "      <td>0</td>\n",
       "      <td>0</td>\n",
       "    </tr>\n",
       "    <tr>\n",
       "      <th>7</th>\n",
       "      <td>10</td>\n",
       "      <td>10</td>\n",
       "      <td>Arekere</td>\n",
       "      <td>Dentist</td>\n",
       "      <td>Dental Fillings Crowns and Bridges Fixing Impa...</td>\n",
       "      <td>200</td>\n",
       "      <td>Bangalore</td>\n",
       "      <td>0</td>\n",
       "      <td>1</td>\n",
       "      <td>0</td>\n",
       "      <td>0</td>\n",
       "      <td>0</td>\n",
       "      <td>0</td>\n",
       "      <td>0</td>\n",
       "      <td>0</td>\n",
       "      <td>0</td>\n",
       "      <td>0</td>\n",
       "    </tr>\n",
       "    <tr>\n",
       "      <th>8</th>\n",
       "      <td>14</td>\n",
       "      <td>0</td>\n",
       "      <td>Old City</td>\n",
       "      <td>General Medicine</td>\n",
       "      <td>NaN</td>\n",
       "      <td>100</td>\n",
       "      <td>Hyderabad</td>\n",
       "      <td>1</td>\n",
       "      <td>0</td>\n",
       "      <td>0</td>\n",
       "      <td>0</td>\n",
       "      <td>0</td>\n",
       "      <td>0</td>\n",
       "      <td>0</td>\n",
       "      <td>1</td>\n",
       "      <td>0</td>\n",
       "      <td>0</td>\n",
       "    </tr>\n",
       "    <tr>\n",
       "      <th>9</th>\n",
       "      <td>23</td>\n",
       "      <td>0</td>\n",
       "      <td>Athani</td>\n",
       "      <td>Dentist</td>\n",
       "      <td>NaN</td>\n",
       "      <td>100</td>\n",
       "      <td>Ernakulam</td>\n",
       "      <td>0</td>\n",
       "      <td>1</td>\n",
       "      <td>0</td>\n",
       "      <td>0</td>\n",
       "      <td>0</td>\n",
       "      <td>0</td>\n",
       "      <td>0</td>\n",
       "      <td>0</td>\n",
       "      <td>0</td>\n",
       "      <td>0</td>\n",
       "    </tr>\n",
       "  </tbody>\n",
       "</table>\n",
       "</div>"
      ],
      "text/plain": [
       "   Experience Rating              Place           Profile  \\\n",
       "0          24     10           Kakkanad         Homeopath   \n",
       "1          12     10         Whitefield          Ayurveda   \n",
       "2           9      0    Mathikere - BEL    ENT Specialist   \n",
       "3          12      0  Bannerghatta Road          Ayurveda   \n",
       "4          20     10       Keelkattalai          Ayurveda   \n",
       "5           8      0              Porur          Ayurveda   \n",
       "6          42      0         Karol Bagh         Homeopath   \n",
       "7          10     10            Arekere           Dentist   \n",
       "8          14      0           Old City  General Medicine   \n",
       "9          23      0             Athani           Dentist   \n",
       "\n",
       "                                  Miscellaneous_Info  Fees        City  MBBS  \\\n",
       "0               100% 16 Feedback Kakkanad, Ernakulam   100   Ernakulam     0   \n",
       "1              98% 76 Feedback Whitefield, Bangalore   350   Bangalore     0   \n",
       "2                                                NaN   300   Bangalore     1   \n",
       "3  Bannerghatta Road, Bangalore ₹250 Available on...   250   Bangalore     0   \n",
       "4              100% 4 Feedback Keelkattalai, Chennai   250     Chennai     0   \n",
       "5                                                NaN   100     Chennai     0   \n",
       "6                                                NaN   200       Delhi     0   \n",
       "7  Dental Fillings Crowns and Bridges Fixing Impa...   200   Bangalore     0   \n",
       "8                                                NaN   100   Hyderabad     1   \n",
       "9                                                NaN   100   Ernakulam     0   \n",
       "\n",
       "   BDS  BAMS  BHMS  MD - Dermatology  MS - ENT  Venereology & Leprosy  \\\n",
       "0    0     0     1                 0         0                      0   \n",
       "1    0     1     0                 0         0                      0   \n",
       "2    0     0     0                 0         0                      0   \n",
       "3    0     1     0                 0         0                      0   \n",
       "4    0     1     0                 0         0                      0   \n",
       "5    0     1     0                 0         0                      0   \n",
       "6    0     0     1                 0         0                      0   \n",
       "7    1     0     0                 0         0                      0   \n",
       "8    0     0     0                 0         0                      0   \n",
       "9    1     0     0                 0         0                      0   \n",
       "\n",
       "   MD - General Medicine  Diploma in Otorhinolaryngology (DLO)  \\\n",
       "0                      0                                     0   \n",
       "1                      0                                     0   \n",
       "2                      0                                     0   \n",
       "3                      0                                     0   \n",
       "4                      0                                     0   \n",
       "5                      0                                     0   \n",
       "6                      0                                     0   \n",
       "7                      0                                     0   \n",
       "8                      1                                     0   \n",
       "9                      0                                     0   \n",
       "\n",
       "   MD - Homeopathy  \n",
       "0                1  \n",
       "1                0  \n",
       "2                0  \n",
       "3                0  \n",
       "4                0  \n",
       "5                0  \n",
       "6                0  \n",
       "7                0  \n",
       "8                0  \n",
       "9                0  "
      ]
     },
     "execution_count": 91,
     "metadata": {},
     "output_type": "execute_result"
    }
   ],
   "source": [
    "train.head(10)"
   ]
  },
  {
   "cell_type": "code",
   "execution_count": 92,
   "metadata": {},
   "outputs": [],
   "source": [
    "from sklearn.preprocessing import LabelEncoder\n",
    "le=LabelEncoder()"
   ]
  },
  {
   "cell_type": "code",
   "execution_count": 93,
   "metadata": {},
   "outputs": [
    {
     "data": {
      "text/plain": [
       "Dentist             1397\n",
       "General Medicine    1173\n",
       "Dermatologists      1034\n",
       "Homeopath            843\n",
       "Ayurveda             786\n",
       "ENT Specialist       728\n",
       "Name: Profile, dtype: int64"
      ]
     },
     "execution_count": 93,
     "metadata": {},
     "output_type": "execute_result"
    }
   ],
   "source": [
    "train['Profile'].value_counts()"
   ]
  },
  {
   "cell_type": "code",
   "execution_count": 94,
   "metadata": {},
   "outputs": [
    {
     "data": {
      "text/plain": [
       " Bangalore             1258\n",
       " Mumbai                1219\n",
       " Delhi                 1185\n",
       " Hyderabad              951\n",
       " Chennai                855\n",
       " Coimbatore             228\n",
       " Ernakulam              153\n",
       " Thiruvananthapuram      86\n",
       "Unknown                  25\n",
       "e                         1\n",
       "Name: City, dtype: int64"
      ]
     },
     "execution_count": 94,
     "metadata": {},
     "output_type": "execute_result"
    }
   ],
   "source": [
    "train.City.value_counts()"
   ]
  },
  {
   "cell_type": "code",
   "execution_count": 95,
   "metadata": {},
   "outputs": [
    {
     "data": {
      "text/plain": [
       "3980    e\n",
       "Name: City, dtype: object"
      ]
     },
     "execution_count": 95,
     "metadata": {},
     "output_type": "execute_result"
    }
   ],
   "source": [
    "train[train.City == \"e\"]['City']"
   ]
  },
  {
   "cell_type": "code",
   "execution_count": 96,
   "metadata": {},
   "outputs": [
    {
     "data": {
      "text/plain": [
       "3980    e\n",
       "Name: Place, dtype: object"
      ]
     },
     "execution_count": 96,
     "metadata": {},
     "output_type": "execute_result"
    }
   ],
   "source": [
    "train[train.City == \"e\"]['Place']"
   ]
  },
  {
   "cell_type": "code",
   "execution_count": 97,
   "metadata": {},
   "outputs": [
    {
     "data": {
      "text/html": [
       "<div>\n",
       "<style scoped>\n",
       "    .dataframe tbody tr th:only-of-type {\n",
       "        vertical-align: middle;\n",
       "    }\n",
       "\n",
       "    .dataframe tbody tr th {\n",
       "        vertical-align: top;\n",
       "    }\n",
       "\n",
       "    .dataframe thead th {\n",
       "        text-align: right;\n",
       "    }\n",
       "</style>\n",
       "<table border=\"1\" class=\"dataframe\">\n",
       "  <thead>\n",
       "    <tr style=\"text-align: right;\">\n",
       "      <th></th>\n",
       "      <th>Experience</th>\n",
       "      <th>Rating</th>\n",
       "      <th>Place</th>\n",
       "      <th>Profile</th>\n",
       "      <th>Miscellaneous_Info</th>\n",
       "      <th>Fees</th>\n",
       "      <th>City</th>\n",
       "      <th>MBBS</th>\n",
       "      <th>BDS</th>\n",
       "      <th>BAMS</th>\n",
       "      <th>BHMS</th>\n",
       "      <th>MD - Dermatology</th>\n",
       "      <th>MS - ENT</th>\n",
       "      <th>Venereology &amp; Leprosy</th>\n",
       "      <th>MD - General Medicine</th>\n",
       "      <th>Diploma in Otorhinolaryngology (DLO)</th>\n",
       "      <th>MD - Homeopathy</th>\n",
       "    </tr>\n",
       "  </thead>\n",
       "  <tbody>\n",
       "    <tr>\n",
       "      <th>3980</th>\n",
       "      <td>23</td>\n",
       "      <td>0</td>\n",
       "      <td>e</td>\n",
       "      <td>Dentist</td>\n",
       "      <td>NaN</td>\n",
       "      <td>250</td>\n",
       "      <td>e</td>\n",
       "      <td>0</td>\n",
       "      <td>1</td>\n",
       "      <td>0</td>\n",
       "      <td>0</td>\n",
       "      <td>0</td>\n",
       "      <td>0</td>\n",
       "      <td>0</td>\n",
       "      <td>0</td>\n",
       "      <td>0</td>\n",
       "      <td>0</td>\n",
       "    </tr>\n",
       "  </tbody>\n",
       "</table>\n",
       "</div>"
      ],
      "text/plain": [
       "      Experience Rating Place  Profile Miscellaneous_Info  Fees City  MBBS  \\\n",
       "3980          23      0     e  Dentist                NaN   250    e     0   \n",
       "\n",
       "      BDS  BAMS  BHMS  MD - Dermatology  MS - ENT  Venereology & Leprosy  \\\n",
       "3980    1     0     0                 0         0                      0   \n",
       "\n",
       "      MD - General Medicine  Diploma in Otorhinolaryngology (DLO)  \\\n",
       "3980                      0                                     0   \n",
       "\n",
       "      MD - Homeopathy  \n",
       "3980                0  "
      ]
     },
     "execution_count": 97,
     "metadata": {},
     "output_type": "execute_result"
    }
   ],
   "source": [
    "train[train.City == \"e\"]"
   ]
  },
  {
   "cell_type": "code",
   "execution_count": 99,
   "metadata": {},
   "outputs": [],
   "source": [
    "train['City'] = train['City'].replace(\"e\",\"Unknown\")\n",
    "train['Place'] = train['Place'].replace(\"e\",\"Unknown\")"
   ]
  },
  {
   "cell_type": "code",
   "execution_count": 101,
   "metadata": {},
   "outputs": [
    {
     "data": {
      "text/html": [
       "<div>\n",
       "<style scoped>\n",
       "    .dataframe tbody tr th:only-of-type {\n",
       "        vertical-align: middle;\n",
       "    }\n",
       "\n",
       "    .dataframe tbody tr th {\n",
       "        vertical-align: top;\n",
       "    }\n",
       "\n",
       "    .dataframe thead th {\n",
       "        text-align: right;\n",
       "    }\n",
       "</style>\n",
       "<table border=\"1\" class=\"dataframe\">\n",
       "  <thead>\n",
       "    <tr style=\"text-align: right;\">\n",
       "      <th></th>\n",
       "      <th>Experience</th>\n",
       "      <th>Rating</th>\n",
       "      <th>Place</th>\n",
       "      <th>Profile</th>\n",
       "      <th>Miscellaneous_Info</th>\n",
       "      <th>Fees</th>\n",
       "      <th>City</th>\n",
       "      <th>MBBS</th>\n",
       "      <th>BDS</th>\n",
       "      <th>BAMS</th>\n",
       "      <th>BHMS</th>\n",
       "      <th>MD - Dermatology</th>\n",
       "      <th>MS - ENT</th>\n",
       "      <th>Venereology &amp; Leprosy</th>\n",
       "      <th>MD - General Medicine</th>\n",
       "      <th>Diploma in Otorhinolaryngology (DLO)</th>\n",
       "      <th>MD - Homeopathy</th>\n",
       "    </tr>\n",
       "  </thead>\n",
       "  <tbody>\n",
       "    <tr>\n",
       "      <th>0</th>\n",
       "      <td>24</td>\n",
       "      <td>10</td>\n",
       "      <td>Kakkanad</td>\n",
       "      <td>Homeopath</td>\n",
       "      <td>100% 16 Feedback Kakkanad, Ernakulam</td>\n",
       "      <td>100</td>\n",
       "      <td>Ernakulam</td>\n",
       "      <td>0</td>\n",
       "      <td>0</td>\n",
       "      <td>0</td>\n",
       "      <td>1</td>\n",
       "      <td>0</td>\n",
       "      <td>0</td>\n",
       "      <td>0</td>\n",
       "      <td>0</td>\n",
       "      <td>0</td>\n",
       "      <td>1</td>\n",
       "    </tr>\n",
       "    <tr>\n",
       "      <th>1</th>\n",
       "      <td>12</td>\n",
       "      <td>10</td>\n",
       "      <td>Whitefield</td>\n",
       "      <td>Ayurveda</td>\n",
       "      <td>98% 76 Feedback Whitefield, Bangalore</td>\n",
       "      <td>350</td>\n",
       "      <td>Bangalore</td>\n",
       "      <td>0</td>\n",
       "      <td>0</td>\n",
       "      <td>1</td>\n",
       "      <td>0</td>\n",
       "      <td>0</td>\n",
       "      <td>0</td>\n",
       "      <td>0</td>\n",
       "      <td>0</td>\n",
       "      <td>0</td>\n",
       "      <td>0</td>\n",
       "    </tr>\n",
       "    <tr>\n",
       "      <th>2</th>\n",
       "      <td>9</td>\n",
       "      <td>0</td>\n",
       "      <td>Mathikere - BEL</td>\n",
       "      <td>ENT Specialist</td>\n",
       "      <td>NaN</td>\n",
       "      <td>300</td>\n",
       "      <td>Bangalore</td>\n",
       "      <td>1</td>\n",
       "      <td>0</td>\n",
       "      <td>0</td>\n",
       "      <td>0</td>\n",
       "      <td>0</td>\n",
       "      <td>0</td>\n",
       "      <td>0</td>\n",
       "      <td>0</td>\n",
       "      <td>0</td>\n",
       "      <td>0</td>\n",
       "    </tr>\n",
       "    <tr>\n",
       "      <th>3</th>\n",
       "      <td>12</td>\n",
       "      <td>0</td>\n",
       "      <td>Bannerghatta Road</td>\n",
       "      <td>Ayurveda</td>\n",
       "      <td>Bannerghatta Road, Bangalore ₹250 Available on...</td>\n",
       "      <td>250</td>\n",
       "      <td>Bangalore</td>\n",
       "      <td>0</td>\n",
       "      <td>0</td>\n",
       "      <td>1</td>\n",
       "      <td>0</td>\n",
       "      <td>0</td>\n",
       "      <td>0</td>\n",
       "      <td>0</td>\n",
       "      <td>0</td>\n",
       "      <td>0</td>\n",
       "      <td>0</td>\n",
       "    </tr>\n",
       "    <tr>\n",
       "      <th>4</th>\n",
       "      <td>20</td>\n",
       "      <td>10</td>\n",
       "      <td>Keelkattalai</td>\n",
       "      <td>Ayurveda</td>\n",
       "      <td>100% 4 Feedback Keelkattalai, Chennai</td>\n",
       "      <td>250</td>\n",
       "      <td>Chennai</td>\n",
       "      <td>0</td>\n",
       "      <td>0</td>\n",
       "      <td>1</td>\n",
       "      <td>0</td>\n",
       "      <td>0</td>\n",
       "      <td>0</td>\n",
       "      <td>0</td>\n",
       "      <td>0</td>\n",
       "      <td>0</td>\n",
       "      <td>0</td>\n",
       "    </tr>\n",
       "  </tbody>\n",
       "</table>\n",
       "</div>"
      ],
      "text/plain": [
       "   Experience Rating              Place         Profile  \\\n",
       "0          24     10           Kakkanad       Homeopath   \n",
       "1          12     10         Whitefield        Ayurveda   \n",
       "2           9      0    Mathikere - BEL  ENT Specialist   \n",
       "3          12      0  Bannerghatta Road        Ayurveda   \n",
       "4          20     10       Keelkattalai        Ayurveda   \n",
       "\n",
       "                                  Miscellaneous_Info  Fees        City  MBBS  \\\n",
       "0               100% 16 Feedback Kakkanad, Ernakulam   100   Ernakulam     0   \n",
       "1              98% 76 Feedback Whitefield, Bangalore   350   Bangalore     0   \n",
       "2                                                NaN   300   Bangalore     1   \n",
       "3  Bannerghatta Road, Bangalore ₹250 Available on...   250   Bangalore     0   \n",
       "4              100% 4 Feedback Keelkattalai, Chennai   250     Chennai     0   \n",
       "\n",
       "   BDS  BAMS  BHMS  MD - Dermatology  MS - ENT  Venereology & Leprosy  \\\n",
       "0    0     0     1                 0         0                      0   \n",
       "1    0     1     0                 0         0                      0   \n",
       "2    0     0     0                 0         0                      0   \n",
       "3    0     1     0                 0         0                      0   \n",
       "4    0     1     0                 0         0                      0   \n",
       "\n",
       "   MD - General Medicine  Diploma in Otorhinolaryngology (DLO)  \\\n",
       "0                      0                                     0   \n",
       "1                      0                                     0   \n",
       "2                      0                                     0   \n",
       "3                      0                                     0   \n",
       "4                      0                                     0   \n",
       "\n",
       "   MD - Homeopathy  \n",
       "0                1  \n",
       "1                0  \n",
       "2                0  \n",
       "3                0  \n",
       "4                0  "
      ]
     },
     "execution_count": 101,
     "metadata": {},
     "output_type": "execute_result"
    }
   ],
   "source": [
    "train.head()"
   ]
  },
  {
   "cell_type": "code",
   "execution_count": 104,
   "metadata": {},
   "outputs": [
    {
     "data": {
      "text/plain": [
       "HSR Layout              75\n",
       "Andheri West            70\n",
       "Dwarka                  68\n",
       "Banjara Hills           64\n",
       "Mulund West             54\n",
       "Borivali West           52\n",
       "Kandivali West          50\n",
       "Indiranagar             48\n",
       "Malleswaram             47\n",
       "Malad West              47\n",
       "Whitefield              47\n",
       "Pitampura               45\n",
       "Andheri East            43\n",
       "Vileparle West          43\n",
       "Powai                   42\n",
       "Jubilee Hills           40\n",
       "Bannerghatta Road       39\n",
       "Marathahalli            39\n",
       "Kondapur                38\n",
       "Ghatkopar East          38\n",
       "Bandra West             38\n",
       "Adyar                   37\n",
       "Janak Puri              37\n",
       "Secunderabad            37\n",
       "Rohini                  37\n",
       "Shalimar Bagh           36\n",
       "Paschim Vihar           36\n",
       "Koramangala             35\n",
       "KPHB                    35\n",
       "Old Rajendra Nagar      34\n",
       "                        ..\n",
       "Jeevan Park              1\n",
       "Koramangala 8 Block      1\n",
       "Saraswati Vihar          1\n",
       "Kattupakkam              1\n",
       "Dwarka Sector 4          1\n",
       "Chanchalguda             1\n",
       "Moula Ali                1\n",
       "Puthenvelikkara          1\n",
       "Rohini Sector 24         1\n",
       "Kilokri                  1\n",
       "Peroor                   1\n",
       "Matunga West             1\n",
       "Radhakrishnan Salai      1\n",
       "Paradise                 1\n",
       "Edapally North           1\n",
       "JP Nagar 4 Phase         1\n",
       "Neeti Bagh               1\n",
       "Coimbatore Aerodrome     1\n",
       "Vyasarpadi               1\n",
       "Deonar                   1\n",
       "Cunningham Road          1\n",
       "Jayamahal                1\n",
       "Rohini Sector 15         1\n",
       "Dwarka Sector 10         1\n",
       "Austin Town              1\n",
       "Rana Pratap Bagh         1\n",
       "Mahalingapuram           1\n",
       "Yellareddyguda           1\n",
       "Shivrampally             1\n",
       "Pattimattam              1\n",
       "Name: Place, Length: 866, dtype: int64"
      ]
     },
     "execution_count": 104,
     "metadata": {},
     "output_type": "execute_result"
    }
   ],
   "source": [
    "train['Place'].value_counts()"
   ]
  },
  {
   "cell_type": "code",
   "execution_count": 105,
   "metadata": {},
   "outputs": [],
   "source": [
    "#we will use get dummies for city, profile"
   ]
  },
  {
   "cell_type": "code",
   "execution_count": 106,
   "metadata": {},
   "outputs": [],
   "source": [
    "train = pd.get_dummies(train,columns=['Profile','City'],prefix= ['Profile','City'])"
   ]
  },
  {
   "cell_type": "code",
   "execution_count": 107,
   "metadata": {},
   "outputs": [
    {
     "data": {
      "text/html": [
       "<div>\n",
       "<style scoped>\n",
       "    .dataframe tbody tr th:only-of-type {\n",
       "        vertical-align: middle;\n",
       "    }\n",
       "\n",
       "    .dataframe tbody tr th {\n",
       "        vertical-align: top;\n",
       "    }\n",
       "\n",
       "    .dataframe thead th {\n",
       "        text-align: right;\n",
       "    }\n",
       "</style>\n",
       "<table border=\"1\" class=\"dataframe\">\n",
       "  <thead>\n",
       "    <tr style=\"text-align: right;\">\n",
       "      <th></th>\n",
       "      <th>Experience</th>\n",
       "      <th>Rating</th>\n",
       "      <th>Place</th>\n",
       "      <th>Miscellaneous_Info</th>\n",
       "      <th>Fees</th>\n",
       "      <th>MBBS</th>\n",
       "      <th>BDS</th>\n",
       "      <th>BAMS</th>\n",
       "      <th>BHMS</th>\n",
       "      <th>MD - Dermatology</th>\n",
       "      <th>...</th>\n",
       "      <th>Profile_Homeopath</th>\n",
       "      <th>City_ Bangalore</th>\n",
       "      <th>City_ Chennai</th>\n",
       "      <th>City_ Coimbatore</th>\n",
       "      <th>City_ Delhi</th>\n",
       "      <th>City_ Ernakulam</th>\n",
       "      <th>City_ Hyderabad</th>\n",
       "      <th>City_ Mumbai</th>\n",
       "      <th>City_ Thiruvananthapuram</th>\n",
       "      <th>City_Unknown</th>\n",
       "    </tr>\n",
       "  </thead>\n",
       "  <tbody>\n",
       "    <tr>\n",
       "      <th>0</th>\n",
       "      <td>24</td>\n",
       "      <td>10</td>\n",
       "      <td>Kakkanad</td>\n",
       "      <td>100% 16 Feedback Kakkanad, Ernakulam</td>\n",
       "      <td>100</td>\n",
       "      <td>0</td>\n",
       "      <td>0</td>\n",
       "      <td>0</td>\n",
       "      <td>1</td>\n",
       "      <td>0</td>\n",
       "      <td>...</td>\n",
       "      <td>1</td>\n",
       "      <td>0</td>\n",
       "      <td>0</td>\n",
       "      <td>0</td>\n",
       "      <td>0</td>\n",
       "      <td>1</td>\n",
       "      <td>0</td>\n",
       "      <td>0</td>\n",
       "      <td>0</td>\n",
       "      <td>0</td>\n",
       "    </tr>\n",
       "    <tr>\n",
       "      <th>1</th>\n",
       "      <td>12</td>\n",
       "      <td>10</td>\n",
       "      <td>Whitefield</td>\n",
       "      <td>98% 76 Feedback Whitefield, Bangalore</td>\n",
       "      <td>350</td>\n",
       "      <td>0</td>\n",
       "      <td>0</td>\n",
       "      <td>1</td>\n",
       "      <td>0</td>\n",
       "      <td>0</td>\n",
       "      <td>...</td>\n",
       "      <td>0</td>\n",
       "      <td>1</td>\n",
       "      <td>0</td>\n",
       "      <td>0</td>\n",
       "      <td>0</td>\n",
       "      <td>0</td>\n",
       "      <td>0</td>\n",
       "      <td>0</td>\n",
       "      <td>0</td>\n",
       "      <td>0</td>\n",
       "    </tr>\n",
       "    <tr>\n",
       "      <th>2</th>\n",
       "      <td>9</td>\n",
       "      <td>0</td>\n",
       "      <td>Mathikere - BEL</td>\n",
       "      <td>NaN</td>\n",
       "      <td>300</td>\n",
       "      <td>1</td>\n",
       "      <td>0</td>\n",
       "      <td>0</td>\n",
       "      <td>0</td>\n",
       "      <td>0</td>\n",
       "      <td>...</td>\n",
       "      <td>0</td>\n",
       "      <td>1</td>\n",
       "      <td>0</td>\n",
       "      <td>0</td>\n",
       "      <td>0</td>\n",
       "      <td>0</td>\n",
       "      <td>0</td>\n",
       "      <td>0</td>\n",
       "      <td>0</td>\n",
       "      <td>0</td>\n",
       "    </tr>\n",
       "    <tr>\n",
       "      <th>3</th>\n",
       "      <td>12</td>\n",
       "      <td>0</td>\n",
       "      <td>Bannerghatta Road</td>\n",
       "      <td>Bannerghatta Road, Bangalore ₹250 Available on...</td>\n",
       "      <td>250</td>\n",
       "      <td>0</td>\n",
       "      <td>0</td>\n",
       "      <td>1</td>\n",
       "      <td>0</td>\n",
       "      <td>0</td>\n",
       "      <td>...</td>\n",
       "      <td>0</td>\n",
       "      <td>1</td>\n",
       "      <td>0</td>\n",
       "      <td>0</td>\n",
       "      <td>0</td>\n",
       "      <td>0</td>\n",
       "      <td>0</td>\n",
       "      <td>0</td>\n",
       "      <td>0</td>\n",
       "      <td>0</td>\n",
       "    </tr>\n",
       "    <tr>\n",
       "      <th>4</th>\n",
       "      <td>20</td>\n",
       "      <td>10</td>\n",
       "      <td>Keelkattalai</td>\n",
       "      <td>100% 4 Feedback Keelkattalai, Chennai</td>\n",
       "      <td>250</td>\n",
       "      <td>0</td>\n",
       "      <td>0</td>\n",
       "      <td>1</td>\n",
       "      <td>0</td>\n",
       "      <td>0</td>\n",
       "      <td>...</td>\n",
       "      <td>0</td>\n",
       "      <td>0</td>\n",
       "      <td>1</td>\n",
       "      <td>0</td>\n",
       "      <td>0</td>\n",
       "      <td>0</td>\n",
       "      <td>0</td>\n",
       "      <td>0</td>\n",
       "      <td>0</td>\n",
       "      <td>0</td>\n",
       "    </tr>\n",
       "  </tbody>\n",
       "</table>\n",
       "<p>5 rows × 30 columns</p>\n",
       "</div>"
      ],
      "text/plain": [
       "   Experience Rating              Place  \\\n",
       "0          24     10           Kakkanad   \n",
       "1          12     10         Whitefield   \n",
       "2           9      0    Mathikere - BEL   \n",
       "3          12      0  Bannerghatta Road   \n",
       "4          20     10       Keelkattalai   \n",
       "\n",
       "                                  Miscellaneous_Info  Fees  MBBS  BDS  BAMS  \\\n",
       "0               100% 16 Feedback Kakkanad, Ernakulam   100     0    0     0   \n",
       "1              98% 76 Feedback Whitefield, Bangalore   350     0    0     1   \n",
       "2                                                NaN   300     1    0     0   \n",
       "3  Bannerghatta Road, Bangalore ₹250 Available on...   250     0    0     1   \n",
       "4              100% 4 Feedback Keelkattalai, Chennai   250     0    0     1   \n",
       "\n",
       "   BHMS  MD - Dermatology  ...  Profile_Homeopath  City_ Bangalore  \\\n",
       "0     1                 0  ...                  1                0   \n",
       "1     0                 0  ...                  0                1   \n",
       "2     0                 0  ...                  0                1   \n",
       "3     0                 0  ...                  0                1   \n",
       "4     0                 0  ...                  0                0   \n",
       "\n",
       "   City_ Chennai  City_ Coimbatore  City_ Delhi  City_ Ernakulam  \\\n",
       "0              0                 0            0                1   \n",
       "1              0                 0            0                0   \n",
       "2              0                 0            0                0   \n",
       "3              0                 0            0                0   \n",
       "4              1                 0            0                0   \n",
       "\n",
       "   City_ Hyderabad  City_ Mumbai  City_ Thiruvananthapuram  City_Unknown  \n",
       "0                0             0                         0             0  \n",
       "1                0             0                         0             0  \n",
       "2                0             0                         0             0  \n",
       "3                0             0                         0             0  \n",
       "4                0             0                         0             0  \n",
       "\n",
       "[5 rows x 30 columns]"
      ]
     },
     "execution_count": 107,
     "metadata": {},
     "output_type": "execute_result"
    }
   ],
   "source": [
    "train.head()"
   ]
  },
  {
   "cell_type": "code",
   "execution_count": 108,
   "metadata": {},
   "outputs": [],
   "source": [
    "train.drop(\"Miscellaneous_Info\",inplace=True,axis=1)"
   ]
  },
  {
   "cell_type": "code",
   "execution_count": 109,
   "metadata": {},
   "outputs": [
    {
     "data": {
      "text/html": [
       "<div>\n",
       "<style scoped>\n",
       "    .dataframe tbody tr th:only-of-type {\n",
       "        vertical-align: middle;\n",
       "    }\n",
       "\n",
       "    .dataframe tbody tr th {\n",
       "        vertical-align: top;\n",
       "    }\n",
       "\n",
       "    .dataframe thead th {\n",
       "        text-align: right;\n",
       "    }\n",
       "</style>\n",
       "<table border=\"1\" class=\"dataframe\">\n",
       "  <thead>\n",
       "    <tr style=\"text-align: right;\">\n",
       "      <th></th>\n",
       "      <th>Experience</th>\n",
       "      <th>Rating</th>\n",
       "      <th>Place</th>\n",
       "      <th>Fees</th>\n",
       "      <th>MBBS</th>\n",
       "      <th>BDS</th>\n",
       "      <th>BAMS</th>\n",
       "      <th>BHMS</th>\n",
       "      <th>MD - Dermatology</th>\n",
       "      <th>MS - ENT</th>\n",
       "      <th>...</th>\n",
       "      <th>Profile_Homeopath</th>\n",
       "      <th>City_ Bangalore</th>\n",
       "      <th>City_ Chennai</th>\n",
       "      <th>City_ Coimbatore</th>\n",
       "      <th>City_ Delhi</th>\n",
       "      <th>City_ Ernakulam</th>\n",
       "      <th>City_ Hyderabad</th>\n",
       "      <th>City_ Mumbai</th>\n",
       "      <th>City_ Thiruvananthapuram</th>\n",
       "      <th>City_Unknown</th>\n",
       "    </tr>\n",
       "  </thead>\n",
       "  <tbody>\n",
       "    <tr>\n",
       "      <th>0</th>\n",
       "      <td>24</td>\n",
       "      <td>10</td>\n",
       "      <td>Kakkanad</td>\n",
       "      <td>100</td>\n",
       "      <td>0</td>\n",
       "      <td>0</td>\n",
       "      <td>0</td>\n",
       "      <td>1</td>\n",
       "      <td>0</td>\n",
       "      <td>0</td>\n",
       "      <td>...</td>\n",
       "      <td>1</td>\n",
       "      <td>0</td>\n",
       "      <td>0</td>\n",
       "      <td>0</td>\n",
       "      <td>0</td>\n",
       "      <td>1</td>\n",
       "      <td>0</td>\n",
       "      <td>0</td>\n",
       "      <td>0</td>\n",
       "      <td>0</td>\n",
       "    </tr>\n",
       "    <tr>\n",
       "      <th>1</th>\n",
       "      <td>12</td>\n",
       "      <td>10</td>\n",
       "      <td>Whitefield</td>\n",
       "      <td>350</td>\n",
       "      <td>0</td>\n",
       "      <td>0</td>\n",
       "      <td>1</td>\n",
       "      <td>0</td>\n",
       "      <td>0</td>\n",
       "      <td>0</td>\n",
       "      <td>...</td>\n",
       "      <td>0</td>\n",
       "      <td>1</td>\n",
       "      <td>0</td>\n",
       "      <td>0</td>\n",
       "      <td>0</td>\n",
       "      <td>0</td>\n",
       "      <td>0</td>\n",
       "      <td>0</td>\n",
       "      <td>0</td>\n",
       "      <td>0</td>\n",
       "    </tr>\n",
       "    <tr>\n",
       "      <th>2</th>\n",
       "      <td>9</td>\n",
       "      <td>0</td>\n",
       "      <td>Mathikere - BEL</td>\n",
       "      <td>300</td>\n",
       "      <td>1</td>\n",
       "      <td>0</td>\n",
       "      <td>0</td>\n",
       "      <td>0</td>\n",
       "      <td>0</td>\n",
       "      <td>0</td>\n",
       "      <td>...</td>\n",
       "      <td>0</td>\n",
       "      <td>1</td>\n",
       "      <td>0</td>\n",
       "      <td>0</td>\n",
       "      <td>0</td>\n",
       "      <td>0</td>\n",
       "      <td>0</td>\n",
       "      <td>0</td>\n",
       "      <td>0</td>\n",
       "      <td>0</td>\n",
       "    </tr>\n",
       "    <tr>\n",
       "      <th>3</th>\n",
       "      <td>12</td>\n",
       "      <td>0</td>\n",
       "      <td>Bannerghatta Road</td>\n",
       "      <td>250</td>\n",
       "      <td>0</td>\n",
       "      <td>0</td>\n",
       "      <td>1</td>\n",
       "      <td>0</td>\n",
       "      <td>0</td>\n",
       "      <td>0</td>\n",
       "      <td>...</td>\n",
       "      <td>0</td>\n",
       "      <td>1</td>\n",
       "      <td>0</td>\n",
       "      <td>0</td>\n",
       "      <td>0</td>\n",
       "      <td>0</td>\n",
       "      <td>0</td>\n",
       "      <td>0</td>\n",
       "      <td>0</td>\n",
       "      <td>0</td>\n",
       "    </tr>\n",
       "    <tr>\n",
       "      <th>4</th>\n",
       "      <td>20</td>\n",
       "      <td>10</td>\n",
       "      <td>Keelkattalai</td>\n",
       "      <td>250</td>\n",
       "      <td>0</td>\n",
       "      <td>0</td>\n",
       "      <td>1</td>\n",
       "      <td>0</td>\n",
       "      <td>0</td>\n",
       "      <td>0</td>\n",
       "      <td>...</td>\n",
       "      <td>0</td>\n",
       "      <td>0</td>\n",
       "      <td>1</td>\n",
       "      <td>0</td>\n",
       "      <td>0</td>\n",
       "      <td>0</td>\n",
       "      <td>0</td>\n",
       "      <td>0</td>\n",
       "      <td>0</td>\n",
       "      <td>0</td>\n",
       "    </tr>\n",
       "  </tbody>\n",
       "</table>\n",
       "<p>5 rows × 29 columns</p>\n",
       "</div>"
      ],
      "text/plain": [
       "   Experience Rating              Place  Fees  MBBS  BDS  BAMS  BHMS  \\\n",
       "0          24     10           Kakkanad   100     0    0     0     1   \n",
       "1          12     10         Whitefield   350     0    0     1     0   \n",
       "2           9      0    Mathikere - BEL   300     1    0     0     0   \n",
       "3          12      0  Bannerghatta Road   250     0    0     1     0   \n",
       "4          20     10       Keelkattalai   250     0    0     1     0   \n",
       "\n",
       "   MD - Dermatology  MS - ENT  ...  Profile_Homeopath  City_ Bangalore  \\\n",
       "0                 0         0  ...                  1                0   \n",
       "1                 0         0  ...                  0                1   \n",
       "2                 0         0  ...                  0                1   \n",
       "3                 0         0  ...                  0                1   \n",
       "4                 0         0  ...                  0                0   \n",
       "\n",
       "   City_ Chennai  City_ Coimbatore  City_ Delhi  City_ Ernakulam  \\\n",
       "0              0                 0            0                1   \n",
       "1              0                 0            0                0   \n",
       "2              0                 0            0                0   \n",
       "3              0                 0            0                0   \n",
       "4              1                 0            0                0   \n",
       "\n",
       "   City_ Hyderabad  City_ Mumbai  City_ Thiruvananthapuram  City_Unknown  \n",
       "0                0             0                         0             0  \n",
       "1                0             0                         0             0  \n",
       "2                0             0                         0             0  \n",
       "3                0             0                         0             0  \n",
       "4                0             0                         0             0  \n",
       "\n",
       "[5 rows x 29 columns]"
      ]
     },
     "execution_count": 109,
     "metadata": {},
     "output_type": "execute_result"
    }
   ],
   "source": [
    "train.head()"
   ]
  },
  {
   "cell_type": "code",
   "execution_count": 110,
   "metadata": {},
   "outputs": [
    {
     "name": "stderr",
     "output_type": "stream",
     "text": [
      "C:\\ProgramData\\Anaconda3\\lib\\site-packages\\sklearn\\preprocessing\\label.py:235: DataConversionWarning: A column-vector y was passed when a 1d array was expected. Please change the shape of y to (n_samples, ), for example using ravel().\n",
      "  y = column_or_1d(y, warn=True)\n"
     ]
    }
   ],
   "source": [
    "train['Place']=le.fit_transform(train['Place'].values.reshape(-1,1))"
   ]
  },
  {
   "cell_type": "code",
   "execution_count": 111,
   "metadata": {},
   "outputs": [
    {
     "data": {
      "text/plain": [
       "Experience                                 int32\n",
       "Rating                                  category\n",
       "Place                                      int32\n",
       "Fees                                       int64\n",
       "MBBS                                       int64\n",
       "BDS                                        int64\n",
       "BAMS                                       int64\n",
       "BHMS                                       int64\n",
       "MD - Dermatology                           int64\n",
       "MS - ENT                                   int64\n",
       "Venereology & Leprosy                      int64\n",
       "MD - General Medicine                      int64\n",
       "Diploma in Otorhinolaryngology (DLO)       int64\n",
       "MD - Homeopathy                            int64\n",
       "Profile_Ayurveda                           uint8\n",
       "Profile_Dentist                            uint8\n",
       "Profile_Dermatologists                     uint8\n",
       "Profile_ENT Specialist                     uint8\n",
       "Profile_General Medicine                   uint8\n",
       "Profile_Homeopath                          uint8\n",
       "City_ Bangalore                            uint8\n",
       "City_ Chennai                              uint8\n",
       "City_ Coimbatore                           uint8\n",
       "City_ Delhi                                uint8\n",
       "City_ Ernakulam                            uint8\n",
       "City_ Hyderabad                            uint8\n",
       "City_ Mumbai                               uint8\n",
       "City_ Thiruvananthapuram                   uint8\n",
       "City_Unknown                               uint8\n",
       "dtype: object"
      ]
     },
     "execution_count": 111,
     "metadata": {},
     "output_type": "execute_result"
    }
   ],
   "source": [
    "train.dtypes"
   ]
  },
  {
   "cell_type": "code",
   "execution_count": 112,
   "metadata": {},
   "outputs": [],
   "source": [
    "import matplotlib.pyplot as plt\n",
    "import seaborn as sns"
   ]
  },
  {
   "cell_type": "code",
   "execution_count": 117,
   "metadata": {},
   "outputs": [
    {
     "data": {
      "text/plain": [
       "Index(['Experience', 'Rating', 'Place', 'Fees', 'MBBS', 'BDS', 'BAMS', 'BHMS',\n",
       "       'MD - Dermatology', 'MS - ENT', 'Venereology & Leprosy',\n",
       "       'MD - General Medicine', 'Diploma in Otorhinolaryngology (DLO)',\n",
       "       'MD - Homeopathy', 'Profile_Ayurveda', 'Profile_Dentist',\n",
       "       'Profile_Dermatologists', 'Profile_ENT Specialist',\n",
       "       'Profile_General Medicine', 'Profile_Homeopath', 'City_ Bangalore',\n",
       "       'City_ Chennai', 'City_ Coimbatore', 'City_ Delhi', 'City_ Ernakulam',\n",
       "       'City_ Hyderabad', 'City_ Mumbai', 'City_ Thiruvananthapuram',\n",
       "       'City_Unknown'],\n",
       "      dtype='object')"
      ]
     },
     "execution_count": 117,
     "metadata": {},
     "output_type": "execute_result"
    }
   ],
   "source": [
    "train.columns"
   ]
  },
  {
   "cell_type": "code",
   "execution_count": 115,
   "metadata": {},
   "outputs": [
    {
     "data": {
      "text/plain": [
       "<matplotlib.axes._subplots.AxesSubplot at 0x1c9f4be6358>"
      ]
     },
     "execution_count": 115,
     "metadata": {},
     "output_type": "execute_result"
    },
    {
     "data": {
      "image/png": "[encoded data removed]",
      "text/plain": [
       "<Figure size 432x288 with 1 Axes>"
      ]
     },
     "metadata": {
      "needs_background": "light"
     },
     "output_type": "display_data"
    }
   ],
   "source": [
    "sns.barplot(data=train,x=\"Rating\",y=\"Fees\")"
   ]
  },
  {
   "cell_type": "code",
   "execution_count": 125,
   "metadata": {},
   "outputs": [
    {
     "data": {
      "image/png": "[encoded data removed]",
      "text/plain": [
       "<Figure size 1296x1152 with 1 Axes>"
      ]
     },
     "metadata": {
      "needs_background": "light"
     },
     "output_type": "display_data"
    }
   ],
   "source": [
    "plt.figure(figsize=(18,16))\n",
    "sns.barplot(data=train,x=\"Experience\",y=\"Fees\")\n",
    "plt.show()"
   ]
  },
  {
   "cell_type": "code",
   "execution_count": 128,
   "metadata": {},
   "outputs": [
    {
     "data": {
      "text/plain": [
       "<matplotlib.axes._subplots.AxesSubplot at 0x1c9f73c1b70>"
      ]
     },
     "execution_count": 128,
     "metadata": {},
     "output_type": "execute_result"
    },
    {
     "data": {
      "image/png": "[encoded data removed]",
      "text/plain": [
       "<Figure size 1296x1152 with 1 Axes>"
      ]
     },
     "metadata": {
      "needs_background": "light"
     },
     "output_type": "display_data"
    }
   ],
   "source": [
    "plt.figure(figsize=(18,16))\n",
    "sns.countplot(data=train,x=\"Fees\")"
   ]
  },
  {
   "cell_type": "code",
   "execution_count": 137,
   "metadata": {},
   "outputs": [],
   "source": [
    "from sklearn.linear_model import LinearRegression\n",
    "from sklearn.model_selection import train_test_split\n",
    "from sklearn.metrics import r2_score,mean_squared_error"
   ]
  },
  {
   "cell_type": "code",
   "execution_count": 130,
   "metadata": {},
   "outputs": [],
   "source": [
    "lr=LinearRegression()"
   ]
  },
  {
   "cell_type": "code",
   "execution_count": 131,
   "metadata": {},
   "outputs": [],
   "source": [
    "x=train.drop(\"Fees\",axis=1)\n",
    "y=train.Fees"
   ]
  },
  {
   "cell_type": "code",
   "execution_count": 132,
   "metadata": {},
   "outputs": [],
   "source": [
    "x_train,x_test,y_train,y_test = train_test_split(x,y,random_state=47,test_size=0.33)"
   ]
  },
  {
   "cell_type": "code",
   "execution_count": 133,
   "metadata": {},
   "outputs": [
    {
     "data": {
      "text/plain": [
       "0.18829427383695063"
      ]
     },
     "execution_count": 133,
     "metadata": {},
     "output_type": "execute_result"
    }
   ],
   "source": [
    "lr.fit(x_train,y_train)\n",
    "lr.score(x_train,y_train)"
   ]
  },
  {
   "cell_type": "code",
   "execution_count": 134,
   "metadata": {},
   "outputs": [],
   "source": [
    "from sklearn.ensemble import RandomForestRegressor\n",
    "rfr=RandomForestRegressor()"
   ]
  },
  {
   "cell_type": "code",
   "execution_count": 135,
   "metadata": {},
   "outputs": [
    {
     "name": "stderr",
     "output_type": "stream",
     "text": [
      "C:\\ProgramData\\Anaconda3\\lib\\site-packages\\sklearn\\ensemble\\forest.py:246: FutureWarning: The default value of n_estimators will change from 10 in version 0.20 to 100 in 0.22.\n",
      "  \"10 in version 0.20 to 100 in 0.22.\", FutureWarning)\n"
     ]
    },
    {
     "data": {
      "text/plain": [
       "0.8394428186851801"
      ]
     },
     "execution_count": 135,
     "metadata": {},
     "output_type": "execute_result"
    }
   ],
   "source": [
    "rfr.fit(x_train,y_train)\n",
    "rfr.score(x_train,y_train)"
   ]
  },
  {
   "cell_type": "code",
   "execution_count": 136,
   "metadata": {},
   "outputs": [],
   "source": [
    "pred= rfr.predict(x_test)"
   ]
  },
  {
   "cell_type": "code",
   "execution_count": 138,
   "metadata": {},
   "outputs": [
    {
     "data": {
      "text/plain": [
       "0.10941801180547261"
      ]
     },
     "execution_count": 138,
     "metadata": {},
     "output_type": "execute_result"
    }
   ],
   "source": [
    "r2_score(y_test,pred)"
   ]
  },
  {
   "cell_type": "code",
   "execution_count": 139,
   "metadata": {},
   "outputs": [
    {
     "data": {
      "text/plain": [
       "32932.18653096943"
      ]
     },
     "execution_count": 139,
     "metadata": {},
     "output_type": "execute_result"
    }
   ],
   "source": [
    "mean_squared_error(y_test,pred)"
   ]
  },
  {
   "cell_type": "code",
   "execution_count": 140,
   "metadata": {},
   "outputs": [
    {
     "data": {
      "text/plain": [
       "0    100\n",
       "1    350\n",
       "2    300\n",
       "3    250\n",
       "4    250\n",
       "Name: Fees, dtype: int64"
      ]
     },
     "execution_count": 140,
     "metadata": {},
     "output_type": "execute_result"
    }
   ],
   "source": [
    "y.head()"
   ]
  },
  {
   "cell_type": "code",
   "execution_count": 141,
   "metadata": {},
   "outputs": [
    {
     "data": {
      "text/html": [
       "<div>\n",
       "<style scoped>\n",
       "    .dataframe tbody tr th:only-of-type {\n",
       "        vertical-align: middle;\n",
       "    }\n",
       "\n",
       "    .dataframe tbody tr th {\n",
       "        vertical-align: top;\n",
       "    }\n",
       "\n",
       "    .dataframe thead th {\n",
       "        text-align: right;\n",
       "    }\n",
       "</style>\n",
       "<table border=\"1\" class=\"dataframe\">\n",
       "  <thead>\n",
       "    <tr style=\"text-align: right;\">\n",
       "      <th></th>\n",
       "      <th>Experience</th>\n",
       "      <th>Rating</th>\n",
       "      <th>Place</th>\n",
       "      <th>MBBS</th>\n",
       "      <th>BDS</th>\n",
       "      <th>BAMS</th>\n",
       "      <th>BHMS</th>\n",
       "      <th>MD - Dermatology</th>\n",
       "      <th>MS - ENT</th>\n",
       "      <th>Venereology &amp; Leprosy</th>\n",
       "      <th>...</th>\n",
       "      <th>Profile_Homeopath</th>\n",
       "      <th>City_ Bangalore</th>\n",
       "      <th>City_ Chennai</th>\n",
       "      <th>City_ Coimbatore</th>\n",
       "      <th>City_ Delhi</th>\n",
       "      <th>City_ Ernakulam</th>\n",
       "      <th>City_ Hyderabad</th>\n",
       "      <th>City_ Mumbai</th>\n",
       "      <th>City_ Thiruvananthapuram</th>\n",
       "      <th>City_Unknown</th>\n",
       "    </tr>\n",
       "  </thead>\n",
       "  <tbody>\n",
       "    <tr>\n",
       "      <th>0</th>\n",
       "      <td>24</td>\n",
       "      <td>10</td>\n",
       "      <td>296</td>\n",
       "      <td>0</td>\n",
       "      <td>0</td>\n",
       "      <td>0</td>\n",
       "      <td>1</td>\n",
       "      <td>0</td>\n",
       "      <td>0</td>\n",
       "      <td>0</td>\n",
       "      <td>...</td>\n",
       "      <td>1</td>\n",
       "      <td>0</td>\n",
       "      <td>0</td>\n",
       "      <td>0</td>\n",
       "      <td>0</td>\n",
       "      <td>1</td>\n",
       "      <td>0</td>\n",
       "      <td>0</td>\n",
       "      <td>0</td>\n",
       "      <td>0</td>\n",
       "    </tr>\n",
       "    <tr>\n",
       "      <th>1</th>\n",
       "      <td>12</td>\n",
       "      <td>10</td>\n",
       "      <td>856</td>\n",
       "      <td>0</td>\n",
       "      <td>0</td>\n",
       "      <td>1</td>\n",
       "      <td>0</td>\n",
       "      <td>0</td>\n",
       "      <td>0</td>\n",
       "      <td>0</td>\n",
       "      <td>...</td>\n",
       "      <td>0</td>\n",
       "      <td>1</td>\n",
       "      <td>0</td>\n",
       "      <td>0</td>\n",
       "      <td>0</td>\n",
       "      <td>0</td>\n",
       "      <td>0</td>\n",
       "      <td>0</td>\n",
       "      <td>0</td>\n",
       "      <td>0</td>\n",
       "    </tr>\n",
       "    <tr>\n",
       "      <th>2</th>\n",
       "      <td>9</td>\n",
       "      <td>0</td>\n",
       "      <td>452</td>\n",
       "      <td>1</td>\n",
       "      <td>0</td>\n",
       "      <td>0</td>\n",
       "      <td>0</td>\n",
       "      <td>0</td>\n",
       "      <td>0</td>\n",
       "      <td>0</td>\n",
       "      <td>...</td>\n",
       "      <td>0</td>\n",
       "      <td>1</td>\n",
       "      <td>0</td>\n",
       "      <td>0</td>\n",
       "      <td>0</td>\n",
       "      <td>0</td>\n",
       "      <td>0</td>\n",
       "      <td>0</td>\n",
       "      <td>0</td>\n",
       "      <td>0</td>\n",
       "    </tr>\n",
       "    <tr>\n",
       "      <th>3</th>\n",
       "      <td>12</td>\n",
       "      <td>0</td>\n",
       "      <td>68</td>\n",
       "      <td>0</td>\n",
       "      <td>0</td>\n",
       "      <td>1</td>\n",
       "      <td>0</td>\n",
       "      <td>0</td>\n",
       "      <td>0</td>\n",
       "      <td>0</td>\n",
       "      <td>...</td>\n",
       "      <td>0</td>\n",
       "      <td>1</td>\n",
       "      <td>0</td>\n",
       "      <td>0</td>\n",
       "      <td>0</td>\n",
       "      <td>0</td>\n",
       "      <td>0</td>\n",
       "      <td>0</td>\n",
       "      <td>0</td>\n",
       "      <td>0</td>\n",
       "    </tr>\n",
       "    <tr>\n",
       "      <th>4</th>\n",
       "      <td>20</td>\n",
       "      <td>10</td>\n",
       "      <td>335</td>\n",
       "      <td>0</td>\n",
       "      <td>0</td>\n",
       "      <td>1</td>\n",
       "      <td>0</td>\n",
       "      <td>0</td>\n",
       "      <td>0</td>\n",
       "      <td>0</td>\n",
       "      <td>...</td>\n",
       "      <td>0</td>\n",
       "      <td>0</td>\n",
       "      <td>1</td>\n",
       "      <td>0</td>\n",
       "      <td>0</td>\n",
       "      <td>0</td>\n",
       "      <td>0</td>\n",
       "      <td>0</td>\n",
       "      <td>0</td>\n",
       "      <td>0</td>\n",
       "    </tr>\n",
       "  </tbody>\n",
       "</table>\n",
       "<p>5 rows × 28 columns</p>\n",
       "</div>"
      ],
      "text/plain": [
       "   Experience Rating  Place  MBBS  BDS  BAMS  BHMS  MD - Dermatology  \\\n",
       "0          24     10    296     0    0     0     1                 0   \n",
       "1          12     10    856     0    0     1     0                 0   \n",
       "2           9      0    452     1    0     0     0                 0   \n",
       "3          12      0     68     0    0     1     0                 0   \n",
       "4          20     10    335     0    0     1     0                 0   \n",
       "\n",
       "   MS - ENT  Venereology & Leprosy  ...  Profile_Homeopath  City_ Bangalore  \\\n",
       "0         0                      0  ...                  1                0   \n",
       "1         0                      0  ...                  0                1   \n",
       "2         0                      0  ...                  0                1   \n",
       "3         0                      0  ...                  0                1   \n",
       "4         0                      0  ...                  0                0   \n",
       "\n",
       "   City_ Chennai  City_ Coimbatore  City_ Delhi  City_ Ernakulam  \\\n",
       "0              0                 0            0                1   \n",
       "1              0                 0            0                0   \n",
       "2              0                 0            0                0   \n",
       "3              0                 0            0                0   \n",
       "4              1                 0            0                0   \n",
       "\n",
       "   City_ Hyderabad  City_ Mumbai  City_ Thiruvananthapuram  City_Unknown  \n",
       "0                0             0                         0             0  \n",
       "1                0             0                         0             0  \n",
       "2                0             0                         0             0  \n",
       "3                0             0                         0             0  \n",
       "4                0             0                         0             0  \n",
       "\n",
       "[5 rows x 28 columns]"
      ]
     },
     "execution_count": 141,
     "metadata": {},
     "output_type": "execute_result"
    }
   ],
   "source": [
    "x.head()"
   ]
  },
  {
   "cell_type": "code",
   "execution_count": 155,
   "metadata": {},
   "outputs": [],
   "source": [
    "from sklearn.model_selection import GridSearchCV,cross_val_score\n"
   ]
  },
  {
   "cell_type": "code",
   "execution_count": 152,
   "metadata": {},
   "outputs": [],
   "source": [
    "#alphas = np.array([0.1,1,10])\n",
    "#score = GridSearchCV(lr,cv=5,param_grid=dict(alpha=alphas) )"
   ]
  },
  {
   "cell_type": "code",
   "execution_count": 156,
   "metadata": {},
   "outputs": [],
   "source": [
    "#score.fit(x_train,y_train)"
   ]
  },
  {
   "cell_type": "code",
   "execution_count": 157,
   "metadata": {},
   "outputs": [],
   "source": [
    "cvs = cross_val_score(rfr,x,y,cv=5)"
   ]
  },
  {
   "cell_type": "code",
   "execution_count": 158,
   "metadata": {},
   "outputs": [
    {
     "data": {
      "text/plain": [
       "array([0.0423032 , 0.10053722, 0.13838224, 0.09394059, 0.08023379])"
      ]
     },
     "execution_count": 158,
     "metadata": {},
     "output_type": "execute_result"
    }
   ],
   "source": [
    "cvs"
   ]
  },
  {
   "cell_type": "code",
   "execution_count": 159,
   "metadata": {},
   "outputs": [
    {
     "data": {
      "text/plain": [
       "0.09107940818624671"
      ]
     },
     "execution_count": 159,
     "metadata": {},
     "output_type": "execute_result"
    }
   ],
   "source": [
    "cvs.mean()"
   ]
  },
  {
   "cell_type": "code",
   "execution_count": 160,
   "metadata": {},
   "outputs": [
    {
     "data": {
      "text/plain": [
       "0.031086782266481844"
      ]
     },
     "execution_count": 160,
     "metadata": {},
     "output_type": "execute_result"
    }
   ],
   "source": [
    "cvs.std()"
   ]
  },
  {
   "cell_type": "code",
   "execution_count": 163,
   "metadata": {},
   "outputs": [],
   "source": [
    "#cvs = cross_val_score(rfr,x,y,cv=5)"
   ]
  },
  {
   "cell_type": "code",
   "execution_count": 164,
   "metadata": {},
   "outputs": [],
   "source": [
    "import pickle"
   ]
  },
  {
   "cell_type": "code",
   "execution_count": 165,
   "metadata": {},
   "outputs": [],
   "source": [
    "smod = pickle.dumps(rfr)"
   ]
  },
  {
   "cell_type": "code",
   "execution_count": 166,
   "metadata": {},
   "outputs": [],
   "source": [
    "lmod = pickle.loads(smod)"
   ]
  },
  {
   "cell_type": "code",
   "execution_count": 168,
   "metadata": {},
   "outputs": [
    {
     "data": {
      "text/plain": [
       "array([270., 170., 345., ..., 370., 465., 355.])"
      ]
     },
     "execution_count": 168,
     "metadata": {},
     "output_type": "execute_result"
    }
   ],
   "source": [
    "lmod.predict(x_test)"
   ]
  },
  {
   "cell_type": "code",
   "execution_count": 169,
   "metadata": {},
   "outputs": [
    {
     "data": {
      "text/plain": [
       "array([200, 100, 500, ..., 100, 300, 400], dtype=int64)"
      ]
     },
     "execution_count": 169,
     "metadata": {},
     "output_type": "execute_result"
    }
   ],
   "source": []
  },
  {
   "cell_type": "code",
   "execution_count": null,
   "metadata": {},
   "outputs": [],
   "source": []
  }
 ],
 "metadata": {
  "kernelspec": {
   "display_name": "Python 3",
   "language": "python",
   "name": "python3"
  },
  "language_info": {
   "codemirror_mode": {
    "name": "ipython",
    "version": 3
   },
   "file_extension": ".py",
   "mimetype": "text/x-python",
   "name": "python",
   "nbconvert_exporter": "python",
   "pygments_lexer": "ipython3",
   "version": "3.7.3"
  }
 },
 "nbformat": 4,
 "nbformat_minor": 2
}
